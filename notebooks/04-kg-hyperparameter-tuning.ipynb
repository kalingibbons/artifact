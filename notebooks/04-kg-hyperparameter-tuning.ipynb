{
 "cells": [
  {
   "cell_type": "markdown",
   "metadata": {},
   "source": [
    " # Comprehensive Exam\n",
    "\n",
    " ## Coding Artifact\n",
    "\n",
    " Kalin Gibbons\n",
    "\n",
    " Nov 20, 2020\n",
    "\n",
    " > Note: A hyperparameter is a numerical or other measurable factor\n",
    " responsible for some aspect of training a machine learning model, whose value\n",
    " cannot be estimated from the data, unlike regular parameters which represent\n",
    " inherent properties of the natural processes which generated data.\n",
    "\n",
    " ## Hyperparameter Optimization\n",
    "\n",
    " There are several python packages with automatic hyperparameter selection\n",
    " algorithms. A relatively recent contribution which I find particularly easy\n",
    " to use is [optuna](https://optuna.org/), which is detailed in this\n",
    " [2019 paper](https://arxiv.org/abs/1907.10902). Optuna allows the user to\n",
    " suggest ranges of values for parameters of various types, then utilizes a\n",
    " parameter sampling algorithms to find an optimal set of hyperparameters. Some\n",
    " of the sampling schemes available are:\n",
    "\n",
    " * Grid Search\n",
    " * Random\n",
    " * Bayesian\n",
    " * Evolutionary\n",
    "\n",
    "While the parameter suggestion schemes available are:\n",
    "\n",
    " * Integers\n",
    "   * Linear step\n",
    "   * Logarithmic step\n",
    " * Floats\n",
    "   * Logarithmic\n",
    "   * Uniform\n",
    " * Categorical\n",
    "   * List\n",
    "   \n",
    " This notebook uses Optuna to implement hyperparameter tuning on a number of \n",
    " ensemble algorithms.\n",
    " \n",
    " ## Imports"
   ]
  },
  {
   "cell_type": "code",
   "execution_count": 1,
   "metadata": {},
   "outputs": [],
   "source": [
    "import os\n",
    "import sys\n",
    "import math\n",
    "import logging\n",
    "from pathlib import Path\n",
    "\n",
    "from IPython.display import display, clear_output\n",
    "from colorama import Fore, Style\n",
    "import numpy as np\n",
    "import scipy as sp\n",
    "import scipy.io as spio\n",
    "import sklearn\n",
    "import statsmodels.api as sm\n",
    "from statsmodels.formula.api import ols\n",
    "\n",
    "import sklearn\n",
    "from sklearn.metrics import mean_squared_error\n",
    "from sklearn.model_selection import cross_val_score\n",
    "from sklearn.ensemble import (\n",
    "    AdaBoostRegressor,\n",
    "    GradientBoostingRegressor,\n",
    "    RandomForestRegressor\n",
    ")\n",
    "from sklearn.linear_model import LinearRegression, Ridge\n",
    "from sklearn.multioutput import MultiOutputRegressor\n",
    "from sklearn.preprocessing import StandardScaler\n",
    "from sklearn.tree import DecisionTreeRegressor\n",
    "from tqdm.auto import tqdm\n",
    "\n",
    "%load_ext autoreload\n",
    "%autoreload 2\n",
    "\n",
    "import matplotlib as mpl\n",
    "import matplotlib.pyplot as plt\n",
    "%matplotlib inline\n",
    "%config InlineBackend.figure_format = 'retina'\n",
    "\n",
    "# import seaborn as sns\n",
    "import pandas as pd\n",
    "\n",
    "import optuna\n",
    "from optuna.visualization import plot_optimization_history\n",
    "\n",
    "import artifact\n",
    "from artifact.datasets import load_tkr, tkr_group_lut\n",
    "from artifact.helpers import RegressionProfile, REGRESSION_PROFILE_PATH\n",
    "\n"
   ]
  },
  {
   "cell_type": "code",
   "execution_count": 2,
   "metadata": {},
   "outputs": [],
   "source": [
    "\n",
    "plt.rcParams['figure.figsize'] = (9, 5.5)\n",
    "mpl.rcParams['mathtext.fontset'] = 'stix'\n",
    "mpl.rcParams['font.size'] = 14\n",
    "mpl.rcParams['font.family'] = 'Times New Roman'\n",
    "\n",
    "# sns.set_context(\"poster\")\n",
    "# sns.set(rc={'figure.figsize': (16, 9.)})\n",
    "# sns.set_style(\"whitegrid\")\n",
    "\n",
    "pd.set_option(\"display.max_rows\", 120)\n",
    "pd.set_option(\"display.max_columns\", 120)\n",
    "\n",
    "logging.basicConfig(level=logging.INFO, stream=sys.stdout)\n"
   ]
  },
  {
   "cell_type": "markdown",
   "metadata": {},
   "source": [
    " Next, we'll select a functional group to examine, and only load the necessary\n",
    " data.\n",
    " ### Functional group selection"
   ]
  },
  {
   "cell_type": "code",
   "execution_count": 3,
   "metadata": {},
   "outputs": [
    {
     "data": {
      "text/plain": [
       "['contact_mechanics', 'joint_loads', 'kinematics', 'ligaments', 'patella']"
      ]
     },
     "execution_count": 3,
     "metadata": {},
     "output_type": "execute_result"
    }
   ],
   "source": [
    "func_groups = list(tkr_group_lut.keys())\n",
    "func_groups\n"
   ]
  },
  {
   "cell_type": "code",
   "execution_count": 4,
   "metadata": {},
   "outputs": [],
   "source": [
    "group = 'joint_loads'\n"
   ]
  },
  {
   "cell_type": "markdown",
   "metadata": {},
   "source": [
    " ### Loading the data\n",
    "\n",
    " We'll load a subset of the data containing the responses making up the chosen\n",
    " functional group."
   ]
  },
  {
   "cell_type": "code",
   "execution_count": 5,
   "metadata": {},
   "outputs": [
    {
     "data": {
      "text/plain": [
       "['med_force_1',\n",
       " 'med_force_2',\n",
       " 'med_torque_1',\n",
       " 'med_torque_2',\n",
       " 'lat_force_1',\n",
       " 'lat_force_2',\n",
       " 'lat_torque_1',\n",
       " 'lat_torque_2']"
      ]
     },
     "metadata": {},
     "output_type": "display_data"
    },
    {
     "name": "stdout",
     "output_type": "stream",
     "text": [
      "\n",
      "\n",
      "\u001b[33mjoint_loads\n",
      "-----------\n",
      "\u001b[0m\n",
      "Best learners total by response:\n"
     ]
    },
    {
     "data": {
      "text/plain": [
       "LinearRegression                                                             4\n",
       "AdaBoostRegressor(base_estimator=DecisionTreeRegressor, n_estimators=100)    2\n",
       "GradientBoostingRegressor                                                    2\n",
       "dtype: int64"
      ]
     },
     "metadata": {},
     "output_type": "display_data"
    },
    {
     "data": {
      "text/plain": [
       "med_torque_1    AdaBoostRegressor(base_estimator=DecisionTreeR...\n",
       "lat_torque_1    AdaBoostRegressor(base_estimator=DecisionTreeR...\n",
       "med_force_2                             GradientBoostingRegressor\n",
       "lat_force_2                             GradientBoostingRegressor\n",
       "med_force_1                                      LinearRegression\n",
       "med_torque_2                                     LinearRegression\n",
       "lat_force_1                                      LinearRegression\n",
       "lat_torque_2                                     LinearRegression\n",
       "dtype: object"
      ]
     },
     "metadata": {},
     "output_type": "display_data"
    },
    {
     "name": "stdout",
     "output_type": "stream",
     "text": [
      "\n",
      "\n",
      "Sorted by median RMS error (smallest to largest):\n"
     ]
    },
    {
     "data": {
      "text/html": [
       "<div>\n",
       "<style scoped>\n",
       "    .dataframe tbody tr th:only-of-type {\n",
       "        vertical-align: middle;\n",
       "    }\n",
       "\n",
       "    .dataframe tbody tr th {\n",
       "        vertical-align: top;\n",
       "    }\n",
       "\n",
       "    .dataframe thead th {\n",
       "        text-align: right;\n",
       "    }\n",
       "</style>\n",
       "<table border=\"1\" class=\"dataframe\">\n",
       "  <thead>\n",
       "    <tr style=\"text-align: right;\">\n",
       "      <th></th>\n",
       "      <th>count</th>\n",
       "      <th>mean</th>\n",
       "      <th>std</th>\n",
       "      <th>min</th>\n",
       "      <th>25%</th>\n",
       "      <th>50%</th>\n",
       "      <th>75%</th>\n",
       "      <th>max</th>\n",
       "    </tr>\n",
       "  </thead>\n",
       "  <tbody>\n",
       "    <tr>\n",
       "      <th>AdaBoostRegressor(base_estimator=DecisionTreeRegressor, n_estimators=100)</th>\n",
       "      <td>8.0</td>\n",
       "      <td>457.436336</td>\n",
       "      <td>615.357405</td>\n",
       "      <td>33.018228</td>\n",
       "      <td>62.568494</td>\n",
       "      <td>175.478336</td>\n",
       "      <td>557.412198</td>\n",
       "      <td>1486.255491</td>\n",
       "    </tr>\n",
       "    <tr>\n",
       "      <th>RandomForestRegressor</th>\n",
       "      <td>8.0</td>\n",
       "      <td>465.865525</td>\n",
       "      <td>624.637692</td>\n",
       "      <td>32.185607</td>\n",
       "      <td>65.538200</td>\n",
       "      <td>180.323926</td>\n",
       "      <td>567.866601</td>\n",
       "      <td>1514.090976</td>\n",
       "    </tr>\n",
       "    <tr>\n",
       "      <th>GradientBoostingRegressor</th>\n",
       "      <td>8.0</td>\n",
       "      <td>453.882096</td>\n",
       "      <td>605.045488</td>\n",
       "      <td>28.624252</td>\n",
       "      <td>59.692740</td>\n",
       "      <td>181.805110</td>\n",
       "      <td>561.551478</td>\n",
       "      <td>1471.967865</td>\n",
       "    </tr>\n",
       "    <tr>\n",
       "      <th>LinearRegression</th>\n",
       "      <td>8.0</td>\n",
       "      <td>447.428664</td>\n",
       "      <td>586.178902</td>\n",
       "      <td>33.169663</td>\n",
       "      <td>55.411237</td>\n",
       "      <td>185.267365</td>\n",
       "      <td>565.693107</td>\n",
       "      <td>1430.352219</td>\n",
       "    </tr>\n",
       "    <tr>\n",
       "      <th>AdaBoostRegressor(base_estimator=LinearRegression, n_estimators=100)</th>\n",
       "      <td>8.0</td>\n",
       "      <td>537.220447</td>\n",
       "      <td>681.397757</td>\n",
       "      <td>36.384291</td>\n",
       "      <td>69.945561</td>\n",
       "      <td>234.843365</td>\n",
       "      <td>709.332590</td>\n",
       "      <td>1691.947807</td>\n",
       "    </tr>\n",
       "    <tr>\n",
       "      <th>DecisionTreeRegressor</th>\n",
       "      <td>8.0</td>\n",
       "      <td>669.671069</td>\n",
       "      <td>891.333514</td>\n",
       "      <td>47.775067</td>\n",
       "      <td>104.640293</td>\n",
       "      <td>254.695111</td>\n",
       "      <td>823.570689</td>\n",
       "      <td>2173.725325</td>\n",
       "    </tr>\n",
       "  </tbody>\n",
       "</table>\n",
       "</div>"
      ],
      "text/plain": [
       "                                                    count        mean  \\\n",
       "AdaBoostRegressor(base_estimator=DecisionTreeRe...    8.0  457.436336   \n",
       "RandomForestRegressor                                 8.0  465.865525   \n",
       "GradientBoostingRegressor                             8.0  453.882096   \n",
       "LinearRegression                                      8.0  447.428664   \n",
       "AdaBoostRegressor(base_estimator=LinearRegressi...    8.0  537.220447   \n",
       "DecisionTreeRegressor                                 8.0  669.671069   \n",
       "\n",
       "                                                           std        min  \\\n",
       "AdaBoostRegressor(base_estimator=DecisionTreeRe...  615.357405  33.018228   \n",
       "RandomForestRegressor                               624.637692  32.185607   \n",
       "GradientBoostingRegressor                           605.045488  28.624252   \n",
       "LinearRegression                                    586.178902  33.169663   \n",
       "AdaBoostRegressor(base_estimator=LinearRegressi...  681.397757  36.384291   \n",
       "DecisionTreeRegressor                               891.333514  47.775067   \n",
       "\n",
       "                                                           25%         50%  \\\n",
       "AdaBoostRegressor(base_estimator=DecisionTreeRe...   62.568494  175.478336   \n",
       "RandomForestRegressor                                65.538200  180.323926   \n",
       "GradientBoostingRegressor                            59.692740  181.805110   \n",
       "LinearRegression                                     55.411237  185.267365   \n",
       "AdaBoostRegressor(base_estimator=LinearRegressi...   69.945561  234.843365   \n",
       "DecisionTreeRegressor                               104.640293  254.695111   \n",
       "\n",
       "                                                           75%          max  \n",
       "AdaBoostRegressor(base_estimator=DecisionTreeRe...  557.412198  1486.255491  \n",
       "RandomForestRegressor                               567.866601  1514.090976  \n",
       "GradientBoostingRegressor                           561.551478  1471.967865  \n",
       "LinearRegression                                    565.693107  1430.352219  \n",
       "AdaBoostRegressor(base_estimator=LinearRegressi...  709.332590  1691.947807  \n",
       "DecisionTreeRegressor                               823.570689  2173.725325  "
      ]
     },
     "metadata": {},
     "output_type": "display_data"
    },
    {
     "name": "stdout",
     "output_type": "stream",
     "text": [
      "\n",
      "\n",
      "RMS Errors:\n"
     ]
    },
    {
     "data": {
      "text/html": [
       "<div>\n",
       "<style scoped>\n",
       "    .dataframe tbody tr th:only-of-type {\n",
       "        vertical-align: middle;\n",
       "    }\n",
       "\n",
       "    .dataframe tbody tr th {\n",
       "        vertical-align: top;\n",
       "    }\n",
       "\n",
       "    .dataframe thead th {\n",
       "        text-align: right;\n",
       "    }\n",
       "</style>\n",
       "<table border=\"1\" class=\"dataframe\">\n",
       "  <thead>\n",
       "    <tr style=\"text-align: right;\">\n",
       "      <th></th>\n",
       "      <th>med_force_1</th>\n",
       "      <th>med_force_2</th>\n",
       "      <th>med_torque_1</th>\n",
       "      <th>med_torque_2</th>\n",
       "      <th>lat_force_1</th>\n",
       "      <th>lat_force_2</th>\n",
       "      <th>lat_torque_1</th>\n",
       "      <th>lat_torque_2</th>\n",
       "    </tr>\n",
       "  </thead>\n",
       "  <tbody>\n",
       "    <tr>\n",
       "      <th>GradientBoostingRegressor</th>\n",
       "      <td>65.327128</td>\n",
       "      <td>28.624252</td>\n",
       "      <td>285.255098</td>\n",
       "      <td>1471.967865</td>\n",
       "      <td>78.355123</td>\n",
       "      <td>42.789574</td>\n",
       "      <td>293.734093</td>\n",
       "      <td>1365.003632</td>\n",
       "    </tr>\n",
       "    <tr>\n",
       "      <th>RandomForestRegressor</th>\n",
       "      <td>70.956263</td>\n",
       "      <td>32.185607</td>\n",
       "      <td>281.823194</td>\n",
       "      <td>1514.090976</td>\n",
       "      <td>78.824658</td>\n",
       "      <td>49.284010</td>\n",
       "      <td>285.853455</td>\n",
       "      <td>1413.906037</td>\n",
       "    </tr>\n",
       "    <tr>\n",
       "      <th>AdaBoostRegressor(base_estimator=DecisionTreeRegressor, n_estimators=100)</th>\n",
       "      <td>67.577091</td>\n",
       "      <td>33.018228</td>\n",
       "      <td>277.754143</td>\n",
       "      <td>1486.255491</td>\n",
       "      <td>77.659439</td>\n",
       "      <td>47.542703</td>\n",
       "      <td>273.297233</td>\n",
       "      <td>1396.386362</td>\n",
       "    </tr>\n",
       "    <tr>\n",
       "      <th>AdaBoostRegressor(base_estimator=LinearRegression, n_estimators=100)</th>\n",
       "      <td>72.443998</td>\n",
       "      <td>36.384291</td>\n",
       "      <td>390.646228</td>\n",
       "      <td>1691.947807</td>\n",
       "      <td>79.040501</td>\n",
       "      <td>62.450251</td>\n",
       "      <td>436.239931</td>\n",
       "      <td>1528.610569</td>\n",
       "    </tr>\n",
       "    <tr>\n",
       "      <th>DecisionTreeRegressor</th>\n",
       "      <td>116.544116</td>\n",
       "      <td>47.775067</td>\n",
       "      <td>426.638880</td>\n",
       "      <td>2173.725325</td>\n",
       "      <td>124.552855</td>\n",
       "      <td>68.928824</td>\n",
       "      <td>384.837367</td>\n",
       "      <td>2014.366115</td>\n",
       "    </tr>\n",
       "    <tr>\n",
       "      <th>LinearRegression</th>\n",
       "      <td>57.539003</td>\n",
       "      <td>33.169663</td>\n",
       "      <td>311.983333</td>\n",
       "      <td>1430.352219</td>\n",
       "      <td>67.756311</td>\n",
       "      <td>49.027940</td>\n",
       "      <td>302.778418</td>\n",
       "      <td>1326.822428</td>\n",
       "    </tr>\n",
       "  </tbody>\n",
       "</table>\n",
       "</div>"
      ],
      "text/plain": [
       "                                                    med_force_1  med_force_2  \\\n",
       "GradientBoostingRegressor                             65.327128    28.624252   \n",
       "RandomForestRegressor                                 70.956263    32.185607   \n",
       "AdaBoostRegressor(base_estimator=DecisionTreeRe...    67.577091    33.018228   \n",
       "AdaBoostRegressor(base_estimator=LinearRegressi...    72.443998    36.384291   \n",
       "DecisionTreeRegressor                                116.544116    47.775067   \n",
       "LinearRegression                                      57.539003    33.169663   \n",
       "\n",
       "                                                    med_torque_1  \\\n",
       "GradientBoostingRegressor                             285.255098   \n",
       "RandomForestRegressor                                 281.823194   \n",
       "AdaBoostRegressor(base_estimator=DecisionTreeRe...    277.754143   \n",
       "AdaBoostRegressor(base_estimator=LinearRegressi...    390.646228   \n",
       "DecisionTreeRegressor                                 426.638880   \n",
       "LinearRegression                                      311.983333   \n",
       "\n",
       "                                                    med_torque_2  lat_force_1  \\\n",
       "GradientBoostingRegressor                            1471.967865    78.355123   \n",
       "RandomForestRegressor                                1514.090976    78.824658   \n",
       "AdaBoostRegressor(base_estimator=DecisionTreeRe...   1486.255491    77.659439   \n",
       "AdaBoostRegressor(base_estimator=LinearRegressi...   1691.947807    79.040501   \n",
       "DecisionTreeRegressor                                2173.725325   124.552855   \n",
       "LinearRegression                                     1430.352219    67.756311   \n",
       "\n",
       "                                                    lat_force_2  lat_torque_1  \\\n",
       "GradientBoostingRegressor                             42.789574    293.734093   \n",
       "RandomForestRegressor                                 49.284010    285.853455   \n",
       "AdaBoostRegressor(base_estimator=DecisionTreeRe...    47.542703    273.297233   \n",
       "AdaBoostRegressor(base_estimator=LinearRegressi...    62.450251    436.239931   \n",
       "DecisionTreeRegressor                                 68.928824    384.837367   \n",
       "LinearRegression                                      49.027940    302.778418   \n",
       "\n",
       "                                                    lat_torque_2  \n",
       "GradientBoostingRegressor                            1365.003632  \n",
       "RandomForestRegressor                                1413.906037  \n",
       "AdaBoostRegressor(base_estimator=DecisionTreeRe...   1396.386362  \n",
       "AdaBoostRegressor(base_estimator=LinearRegressi...   1528.610569  \n",
       "DecisionTreeRegressor                                2014.366115  \n",
       "LinearRegression                                     1326.822428  "
      ]
     },
     "metadata": {},
     "output_type": "display_data"
    },
    {
     "name": "stdout",
     "output_type": "stream",
     "text": [
      "\n",
      "\n",
      "\n"
     ]
    }
   ],
   "source": [
    "shared_kwargs = dict(load_fcn=load_tkr, functional_group=group)\n",
    "tkr_train = artifact.Results(**shared_kwargs, subset='train')\n",
    "tkr_test = artifact.Results(**shared_kwargs, subset='test')\n",
    "display(tkr_train.response_names[1:])\n",
    "\n",
    "reg_prof = RegressionProfile(load_path=REGRESSION_PROFILE_PATH)\n",
    "reg_prof.summarize(group)\n",
    "\n"
   ]
  },
  {
   "cell_type": "markdown",
   "metadata": {},
   "source": [
    "### Creating the optimization study\n",
    "\n",
    "First we must define an objective function, which suggests the ranges of \n",
    "hyperparameters to be sampled. We can use switch-cases to optimize the machine \n",
    "learning algorithm itself, in addition to the hyperparameters."
   ]
  },
  {
   "cell_type": "code",
   "execution_count": 6,
   "metadata": {},
   "outputs": [],
   "source": [
    "learners = (\n",
    "    # GradientBoostingRegressor(),\n",
    "    # RandomForestRegressor(),\n",
    "    # AdaBoostRegressor(DecisionTreeRegressor()),\n",
    "    # AdaBoostRegressor(LinearRegression()),\n",
    "    # DecisionTreeRegressor(),\n",
    "    Ridge(),\n",
    "    # AdaBoostRegressor()\n",
    ")\n",
    "\n",
    "\n",
    "def objective(trial, train, test, regressors):\n",
    "    reg_strs = [r.__repr__() for r in regressors]\n",
    "    regressor_name = trial.suggest_categorical('classifier', reg_strs)\n",
    "\n",
    "    if regressor_name == 'GradientBoostingRegressor()':\n",
    "        # learner_obj = GradientBoostingRegressor()\n",
    "        pass\n",
    "\n",
    "    elif regressor_name == 'RandomForestRegressor()':\n",
    "        pass\n",
    "\n",
    "    elif regressor_name == 'AdaBoostRegressor(base_estimator=DecisionTreeRegressor())':\n",
    "        criterion = trial.suggest_categorical('criterion', [\n",
    "            'mse', 'friedman_mse', 'mae', 'poisson'\n",
    "        ])\n",
    "        splitter = trial.suggest_categorical('splitter', ['best', 'random'])\n",
    "        max_depth = trial.suggest_categorical('max_depth', [\n",
    "             3, 4, 5\n",
    "        ])\n",
    "        min_samples_split = trial.suggest_categorical('min_samples_split', [\n",
    "            2,\n",
    "        ])\n",
    "        min_samples_leaf = trial.suggest_uniform('min_samples_leaf', 0, 0.5)\n",
    "        estimator = DecisionTreeRegressor(\n",
    "            criterion=criterion,\n",
    "            splitter=splitter,\n",
    "            max_depth=max_depth,\n",
    "            min_samples_split=min_samples_split,\n",
    "            min_samples_leaf=min_samples_leaf\n",
    "        )\n",
    "\n",
    "        loss = trial.suggest_categorical('loss', [\n",
    "            'linear', 'square', 'exponential'\n",
    "        ])\n",
    "        n_estimators = trial.suggest_categorical('n_estimators', [100])\n",
    "        learner_obj = AdaBoostRegressor(\n",
    "            estimator,\n",
    "            n_estimators=n_estimators,\n",
    "            loss=loss\n",
    "        )\n",
    "        cv = 7\n",
    "\n",
    "    elif regressor_name == 'AdaBoostRegressor(base_estimator=LinearRegression())':\n",
    "        loss = trial.suggest_categorical('loss', [\n",
    "            'linear', 'square', 'exponential'\n",
    "        ])\n",
    "        n_estimators = trial.suggest_categorical('n_estimators', [100])\n",
    "        learner_obj = AdaBoostRegressor(\n",
    "            LinearRegression(),\n",
    "            n_estimators=n_estimators,\n",
    "            loss=loss\n",
    "        )\n",
    "        cv = 7\n",
    "\n",
    "    elif regressor_name == 'DecisionTreeRegressor()':\n",
    "        criterion = trial.suggest_categorical('criterion', [\n",
    "            'mse', 'friedman_mse', 'mae', 'poisson'\n",
    "        ])\n",
    "        splitter = trial.suggest_categorical('splitter', ['best', 'random'])\n",
    "        max_depth = trial.suggest_categorical('max_depth', [\n",
    "            3, 4, 5\n",
    "        ])\n",
    "        min_samples_split = trial.suggest_categorical('min_samples_split', [\n",
    "            2,\n",
    "        ])\n",
    "        min_samples_leaf = trial.suggest_uniform('min_samples_leaf', 0, 0.5)\n",
    "        learner_obj = DecisionTreeRegressor(\n",
    "            criterion=criterion,\n",
    "            splitter=splitter,\n",
    "            max_depth=max_depth,\n",
    "            min_samples_split=min_samples_split,\n",
    "            min_samples_leaf=min_samples_leaf\n",
    "        )\n",
    "        cv = 7\n",
    "\n",
    "    elif regressor_name == 'Ridge()':\n",
    "        # alpha = trial.suggest_loguniform('alpha', 1e-5, 10)\n",
    "        alpha = trial.suggest_uniform('alpha', 4, 6)\n",
    "        learner_obj = Ridge(alpha=alpha)\n",
    "        cv = 7\n",
    "\n",
    "    elif regressor_name == 'AdaBoostRegressorj()':\n",
    "        pass\n",
    "\n",
    "    else:\n",
    "        pass\n",
    "\n",
    "    regressor = artifact.Regressor(train,\n",
    "                                   test,\n",
    "                                   learner_obj,\n",
    "                                   scaler=StandardScaler())\n",
    "    scores = regressor.cross_val_score(n_jobs=-1, cv=cv)\n",
    "\n",
    "    return scores.mean() * 100\n",
    "\n"
   ]
  },
  {
   "cell_type": "markdown",
   "metadata": {},
   "source": [
    "### Running the optimization\n",
    "\n",
    "Optuna will sample the parameters automatically, for a maximum number of trials \n",
    "specified."
   ]
  },
  {
   "cell_type": "code",
   "execution_count": 7,
   "metadata": {},
   "outputs": [
    {
     "name": "stderr",
     "output_type": "stream",
     "text": [
      "\u001b[32m[I 2021-02-15 17:07:16,032]\u001b[0m A new study created in memory with name: no-name-4168baac-07b8-4805-a899-bcb5d43e7f53\u001b[0m\n",
      "\u001b[32m[I 2021-02-15 17:07:21,271]\u001b[0m Trial 0 finished with value: 4.2601779078720075 and parameters: {'classifier': 'Ridge()', 'alpha': 4.6455284209215435}. Best is trial 0 with value: 4.2601779078720075.\u001b[0m\n",
      "\u001b[32m[I 2021-02-15 17:07:22,565]\u001b[0m Trial 1 finished with value: 4.2597037770089985 and parameters: {'classifier': 'Ridge()', 'alpha': 5.0799562482928}. Best is trial 1 with value: 4.2597037770089985.\u001b[0m\n",
      "\u001b[32m[I 2021-02-15 17:07:23,847]\u001b[0m Trial 2 finished with value: 4.259750649652748 and parameters: {'classifier': 'Ridge()', 'alpha': 5.024862562128802}. Best is trial 1 with value: 4.2597037770089985.\u001b[0m\n",
      "\u001b[32m[I 2021-02-15 17:07:25,145]\u001b[0m Trial 3 finished with value: 4.261277954131018 and parameters: {'classifier': 'Ridge()', 'alpha': 4.026768429177228}. Best is trial 1 with value: 4.2597037770089985.\u001b[0m\n",
      "\u001b[32m[I 2021-02-15 17:07:26,443]\u001b[0m Trial 4 finished with value: 4.260064888516806 and parameters: {'classifier': 'Ridge()', 'alpha': 4.731529228964687}. Best is trial 1 with value: 4.2597037770089985.\u001b[0m\n",
      "\u001b[32m[I 2021-02-15 17:07:27,807]\u001b[0m Trial 5 finished with value: 4.25997744955231 and parameters: {'classifier': 'Ridge()', 'alpha': 4.803655404492856}. Best is trial 1 with value: 4.2597037770089985.\u001b[0m\n",
      "\u001b[32m[I 2021-02-15 17:07:29,193]\u001b[0m Trial 6 finished with value: 4.259833775730177 and parameters: {'classifier': 'Ridge()', 'alpha': 4.936528044087461}. Best is trial 1 with value: 4.2597037770089985.\u001b[0m\n",
      "\u001b[32m[I 2021-02-15 17:07:30,496]\u001b[0m Trial 7 finished with value: 4.260004808803613 and parameters: {'classifier': 'Ridge()', 'alpha': 4.780486950554776}. Best is trial 1 with value: 4.2597037770089985.\u001b[0m\n",
      "\u001b[32m[I 2021-02-15 17:07:32,276]\u001b[0m Trial 8 finished with value: 4.259962939108504 and parameters: {'classifier': 'Ridge()', 'alpha': 4.816185748965255}. Best is trial 1 with value: 4.2597037770089985.\u001b[0m\n",
      "\u001b[32m[I 2021-02-15 17:07:33,845]\u001b[0m Trial 9 finished with value: 4.259476077981785 and parameters: {'classifier': 'Ridge()', 'alpha': 5.480753016065558}. Best is trial 9 with value: 4.259476077981785.\u001b[0m\n",
      "\u001b[32m[I 2021-02-15 17:07:35,622]\u001b[0m Trial 10 finished with value: 4.259457210268551 and parameters: {'classifier': 'Ridge()', 'alpha': 5.953780737973498}. Best is trial 10 with value: 4.259457210268551.\u001b[0m\n",
      "\u001b[32m[I 2021-02-15 17:07:37,330]\u001b[0m Trial 11 finished with value: 4.259438898751999 and parameters: {'classifier': 'Ridge()', 'alpha': 5.851913278507445}. Best is trial 11 with value: 4.259438898751999.\u001b[0m\n",
      "\u001b[32m[I 2021-02-15 17:07:39,274]\u001b[0m Trial 12 finished with value: 4.259450934674924 and parameters: {'classifier': 'Ridge()', 'alpha': 5.925619294828055}. Best is trial 11 with value: 4.259438898751999.\u001b[0m\n",
      "\u001b[32m[I 2021-02-15 17:07:41,368]\u001b[0m Trial 13 finished with value: 4.259441960874152 and parameters: {'classifier': 'Ridge()', 'alpha': 5.874842009191329}. Best is trial 11 with value: 4.259438898751999.\u001b[0m\n",
      "\u001b[32m[I 2021-02-15 17:07:43,231]\u001b[0m Trial 14 finished with value: 4.259440459840038 and parameters: {'classifier': 'Ridge()', 'alpha': 5.636418341184413}. Best is trial 11 with value: 4.259438898751999.\u001b[0m\n",
      "\u001b[32m[I 2021-02-15 17:07:45,138]\u001b[0m Trial 15 finished with value: 4.259452310427076 and parameters: {'classifier': 'Ridge()', 'alpha': 5.568982908729486}. Best is trial 11 with value: 4.259438898751999.\u001b[0m\n",
      "\u001b[32m[I 2021-02-15 17:07:46,986]\u001b[0m Trial 16 finished with value: 4.25945004829858 and parameters: {'classifier': 'Ridge()', 'alpha': 5.579769312753927}. Best is trial 11 with value: 4.259438898751999.\u001b[0m\n",
      "\u001b[32m[I 2021-02-15 17:07:49,137]\u001b[0m Trial 17 finished with value: 4.259541555002343 and parameters: {'classifier': 'Ridge()', 'alpha': 5.324099771571779}. Best is trial 11 with value: 4.259438898751999.\u001b[0m\n",
      "\u001b[32m[I 2021-02-15 17:07:51,159]\u001b[0m Trial 18 finished with value: 4.259433107006676 and parameters: {'classifier': 'Ridge()', 'alpha': 5.726558383461378}. Best is trial 18 with value: 4.259433107006676.\u001b[0m\n",
      "\u001b[32m[I 2021-02-15 17:07:52,749]\u001b[0m Trial 19 finished with value: 4.259432792081609 and parameters: {'classifier': 'Ridge()', 'alpha': 5.745238549741174}. Best is trial 19 with value: 4.259432792081609.\u001b[0m\n",
      "\u001b[32m[I 2021-02-15 17:07:54,132]\u001b[0m Trial 20 finished with value: 4.260525521722654 and parameters: {'classifier': 'Ridge()', 'alpha': 4.416700749514863}. Best is trial 19 with value: 4.259432792081609.\u001b[0m\n",
      "\u001b[32m[I 2021-02-15 17:07:55,547]\u001b[0m Trial 21 finished with value: 4.259433083424382 and parameters: {'classifier': 'Ridge()', 'alpha': 5.772834711773239}. Best is trial 19 with value: 4.259432792081609.\u001b[0m\n",
      "\u001b[32m[I 2021-02-15 17:07:56,967]\u001b[0m Trial 22 finished with value: 4.259586776773371 and parameters: {'classifier': 'Ridge()', 'alpha': 5.243784095590749}. Best is trial 19 with value: 4.259432792081609.\u001b[0m\n",
      "\u001b[32m[I 2021-02-15 17:07:58,395]\u001b[0m Trial 23 finished with value: 4.259436408040881 and parameters: {'classifier': 'Ridge()', 'alpha': 5.671920426624524}. Best is trial 19 with value: 4.259432792081609.\u001b[0m\n",
      "\u001b[32m[I 2021-02-15 17:07:59,781]\u001b[0m Trial 24 finished with value: 4.259433169911248 and parameters: {'classifier': 'Ridge()', 'alpha': 5.775851427953426}. Best is trial 19 with value: 4.259432792081609.\u001b[0m\n",
      "\u001b[32m[I 2021-02-15 17:08:01,203]\u001b[0m Trial 25 finished with value: 4.259500296179921 and parameters: {'classifier': 'Ridge()', 'alpha': 5.41406430525082}. Best is trial 19 with value: 4.259432792081609.\u001b[0m\n",
      "\u001b[32m[I 2021-02-15 17:08:02,597]\u001b[0m Trial 26 finished with value: 4.259465254417443 and parameters: {'classifier': 'Ridge()', 'alpha': 5.985027039708705}. Best is trial 19 with value: 4.259432792081609.\u001b[0m\n",
      "\u001b[32m[I 2021-02-15 17:08:04,007]\u001b[0m Trial 27 finished with value: 4.259433121847323 and parameters: {'classifier': 'Ridge()', 'alpha': 5.774221537811253}. Best is trial 19 with value: 4.259432792081609.\u001b[0m\n",
      "\u001b[32m[I 2021-02-15 17:08:05,491]\u001b[0m Trial 28 finished with value: 4.259601092247445 and parameters: {'classifier': 'Ridge()', 'alpha': 5.220939883157567}. Best is trial 19 with value: 4.259432792081609.\u001b[0m\n",
      "\u001b[32m[I 2021-02-15 17:08:06,849]\u001b[0m Trial 29 finished with value: 4.25943407801264 and parameters: {'classifier': 'Ridge()', 'alpha': 5.703301672436225}. Best is trial 19 with value: 4.259432792081609.\u001b[0m\n",
      "\u001b[32m[I 2021-02-15 17:08:08,248]\u001b[0m Trial 30 finished with value: 4.260399650051278 and parameters: {'classifier': 'Ridge()', 'alpha': 4.4944925771160325}. Best is trial 19 with value: 4.259432792081609.\u001b[0m\n",
      "\u001b[32m[I 2021-02-15 17:08:09,648]\u001b[0m Trial 31 finished with value: 4.259434088182922 and parameters: {'classifier': 'Ridge()', 'alpha': 5.797180493569913}. Best is trial 19 with value: 4.259432792081609.\u001b[0m\n",
      "\u001b[32m[I 2021-02-15 17:08:11,040]\u001b[0m Trial 32 finished with value: 4.259492614889206 and parameters: {'classifier': 'Ridge()', 'alpha': 5.433671606332305}. Best is trial 19 with value: 4.259432792081609.\u001b[0m\n",
      "\u001b[32m[I 2021-02-15 17:08:12,430]\u001b[0m Trial 33 finished with value: 4.259432861954572 and parameters: {'classifier': 'Ridge()', 'alpha': 5.762028574685531}. Best is trial 19 with value: 4.259432792081609.\u001b[0m\n",
      "\u001b[32m[I 2021-02-15 17:08:13,815]\u001b[0m Trial 34 finished with value: 4.259466864640659 and parameters: {'classifier': 'Ridge()', 'alpha': 5.9907991845332855}. Best is trial 19 with value: 4.259432792081609.\u001b[0m\n",
      "\u001b[32m[I 2021-02-15 17:08:15,169]\u001b[0m Trial 35 finished with value: 4.259458557536804 and parameters: {'classifier': 'Ridge()', 'alpha': 5.5420997172521185}. Best is trial 19 with value: 4.259432792081609.\u001b[0m\n",
      "\u001b[32m[I 2021-02-15 17:08:16,559]\u001b[0m Trial 36 finished with value: 4.259432916748023 and parameters: {'classifier': 'Ridge()', 'alpha': 5.734816157200989}. Best is trial 19 with value: 4.259432792081609.\u001b[0m\n",
      "\u001b[32m[I 2021-02-15 17:08:17,926]\u001b[0m Trial 37 finished with value: 4.2596957252453205 and parameters: {'classifier': 'Ridge()', 'alpha': 5.089896367892439}. Best is trial 19 with value: 4.259432792081609.\u001b[0m\n",
      "\u001b[32m[I 2021-02-15 17:08:19,383]\u001b[0m Trial 38 finished with value: 4.259518581419342 and parameters: {'classifier': 'Ridge()', 'alpha': 5.371504725435911}. Best is trial 19 with value: 4.259432792081609.\u001b[0m\n",
      "\u001b[32m[I 2021-02-15 17:08:20,742]\u001b[0m Trial 39 finished with value: 4.259440683221877 and parameters: {'classifier': 'Ridge()', 'alpha': 5.865826276647172}. Best is trial 19 with value: 4.259432792081609.\u001b[0m\n",
      "\u001b[32m[I 2021-02-15 17:08:22,156]\u001b[0m Trial 40 finished with value: 4.259459956838072 and parameters: {'classifier': 'Ridge()', 'alpha': 5.536545066935247}. Best is trial 19 with value: 4.259432792081609.\u001b[0m\n",
      "\u001b[32m[I 2021-02-15 17:08:23,674]\u001b[0m Trial 41 finished with value: 4.259433818326457 and parameters: {'classifier': 'Ridge()', 'alpha': 5.708235005445242}. Best is trial 19 with value: 4.259432792081609.\u001b[0m\n",
      "\u001b[32m[I 2021-02-15 17:08:25,122]\u001b[0m Trial 42 finished with value: 4.259433357857594 and parameters: {'classifier': 'Ridge()', 'alpha': 5.718844425558844}. Best is trial 19 with value: 4.259432792081609.\u001b[0m\n",
      "\u001b[32m[I 2021-02-15 17:08:26,534]\u001b[0m Trial 43 finished with value: 4.259466481418538 and parameters: {'classifier': 'Ridge()', 'alpha': 5.9894379541576885}. Best is trial 19 with value: 4.259432792081609.\u001b[0m\n",
      "\u001b[32m[I 2021-02-15 17:08:27,926]\u001b[0m Trial 44 finished with value: 4.259439377814391 and parameters: {'classifier': 'Ridge()', 'alpha': 5.644717718062914}. Best is trial 19 with value: 4.259432792081609.\u001b[0m\n",
      "\u001b[32m[I 2021-02-15 17:08:29,415]\u001b[0m Trial 45 finished with value: 4.259437413911167 and parameters: {'classifier': 'Ridge()', 'alpha': 5.838693792763394}. Best is trial 19 with value: 4.259432792081609.\u001b[0m\n",
      "\u001b[32m[I 2021-02-15 17:08:30,871]\u001b[0m Trial 46 finished with value: 4.259474076445105 and parameters: {'classifier': 'Ridge()', 'alpha': 5.487029621085327}. Best is trial 19 with value: 4.259432792081609.\u001b[0m\n",
      "\u001b[32m[I 2021-02-15 17:08:32,276]\u001b[0m Trial 47 finished with value: 4.2594483464881145 and parameters: {'classifier': 'Ridge()', 'alpha': 5.912601029283229}. Best is trial 19 with value: 4.259432792081609.\u001b[0m\n",
      "\u001b[32m[I 2021-02-15 17:08:34,064]\u001b[0m Trial 48 finished with value: 4.2594449018892915 and parameters: {'classifier': 'Ridge()', 'alpha': 5.607335733018324}. Best is trial 19 with value: 4.259432792081609.\u001b[0m\n",
      "\u001b[32m[I 2021-02-15 17:08:35,674]\u001b[0m Trial 49 finished with value: 4.259432829882743 and parameters: {'classifier': 'Ridge()', 'alpha': 5.75948218121191}. Best is trial 19 with value: 4.259432792081609.\u001b[0m\n"
     ]
    }
   ],
   "source": [
    "study = optuna.create_study(direction='minimize')\n",
    "study.optimize(\n",
    "    lambda t: objective(t, tkr_train, tkr_test, learners),\n",
    "    n_trials=50\n",
    ")\n"
   ]
  },
  {
   "cell_type": "code",
   "execution_count": 13,
   "metadata": {},
   "outputs": [
    {
     "data": {
      "application/vnd.plotly.v1+json": {
       "config": {
        "plotlyServerURL": "https://plot.ly"
       },
       "data": [
        {
         "mode": "markers",
         "name": "Objective Value",
         "type": "scatter",
         "x": [
          0,
          1,
          2,
          3,
          4,
          5,
          6,
          7,
          8,
          9,
          10,
          11,
          12,
          13,
          14,
          15,
          16,
          17,
          18,
          19,
          20,
          21,
          22,
          23,
          24,
          25,
          26,
          27,
          28,
          29,
          30,
          31,
          32,
          33,
          34,
          35,
          36,
          37,
          38,
          39,
          40,
          41,
          42,
          43,
          44,
          45,
          46,
          47,
          48,
          49
         ],
         "y": [
          4.2601779078720075,
          4.2597037770089985,
          4.259750649652748,
          4.261277954131018,
          4.260064888516806,
          4.25997744955231,
          4.259833775730177,
          4.260004808803613,
          4.259962939108504,
          4.259476077981785,
          4.259457210268551,
          4.259438898751999,
          4.259450934674924,
          4.259441960874152,
          4.259440459840038,
          4.259452310427076,
          4.25945004829858,
          4.259541555002343,
          4.259433107006676,
          4.259432792081609,
          4.260525521722654,
          4.259433083424382,
          4.259586776773371,
          4.259436408040881,
          4.259433169911248,
          4.259500296179921,
          4.259465254417443,
          4.259433121847323,
          4.259601092247445,
          4.25943407801264,
          4.260399650051278,
          4.259434088182922,
          4.259492614889206,
          4.259432861954572,
          4.259466864640659,
          4.259458557536804,
          4.259432916748023,
          4.2596957252453205,
          4.259518581419342,
          4.259440683221877,
          4.259459956838072,
          4.259433818326457,
          4.259433357857594,
          4.259466481418538,
          4.259439377814391,
          4.259437413911167,
          4.259474076445105,
          4.2594483464881145,
          4.2594449018892915,
          4.259432829882743
         ]
        },
        {
         "name": "Best Value",
         "type": "scatter",
         "x": [
          0,
          1,
          2,
          3,
          4,
          5,
          6,
          7,
          8,
          9,
          10,
          11,
          12,
          13,
          14,
          15,
          16,
          17,
          18,
          19,
          20,
          21,
          22,
          23,
          24,
          25,
          26,
          27,
          28,
          29,
          30,
          31,
          32,
          33,
          34,
          35,
          36,
          37,
          38,
          39,
          40,
          41,
          42,
          43,
          44,
          45,
          46,
          47,
          48,
          49
         ],
         "y": [
          4.2601779078720075,
          4.2597037770089985,
          4.2597037770089985,
          4.2597037770089985,
          4.2597037770089985,
          4.2597037770089985,
          4.2597037770089985,
          4.2597037770089985,
          4.2597037770089985,
          4.259476077981785,
          4.259457210268551,
          4.259438898751999,
          4.259438898751999,
          4.259438898751999,
          4.259438898751999,
          4.259438898751999,
          4.259438898751999,
          4.259438898751999,
          4.259433107006676,
          4.259432792081609,
          4.259432792081609,
          4.259432792081609,
          4.259432792081609,
          4.259432792081609,
          4.259432792081609,
          4.259432792081609,
          4.259432792081609,
          4.259432792081609,
          4.259432792081609,
          4.259432792081609,
          4.259432792081609,
          4.259432792081609,
          4.259432792081609,
          4.259432792081609,
          4.259432792081609,
          4.259432792081609,
          4.259432792081609,
          4.259432792081609,
          4.259432792081609,
          4.259432792081609,
          4.259432792081609,
          4.259432792081609,
          4.259432792081609,
          4.259432792081609,
          4.259432792081609,
          4.259432792081609,
          4.259432792081609,
          4.259432792081609,
          4.259432792081609,
          4.259432792081609
         ]
        }
       ],
       "layout": {
        "template": {
         "data": {
          "bar": [
           {
            "error_x": {
             "color": "#2a3f5f"
            },
            "error_y": {
             "color": "#2a3f5f"
            },
            "marker": {
             "line": {
              "color": "#E5ECF6",
              "width": 0.5
             }
            },
            "type": "bar"
           }
          ],
          "barpolar": [
           {
            "marker": {
             "line": {
              "color": "#E5ECF6",
              "width": 0.5
             }
            },
            "type": "barpolar"
           }
          ],
          "carpet": [
           {
            "aaxis": {
             "endlinecolor": "#2a3f5f",
             "gridcolor": "white",
             "linecolor": "white",
             "minorgridcolor": "white",
             "startlinecolor": "#2a3f5f"
            },
            "baxis": {
             "endlinecolor": "#2a3f5f",
             "gridcolor": "white",
             "linecolor": "white",
             "minorgridcolor": "white",
             "startlinecolor": "#2a3f5f"
            },
            "type": "carpet"
           }
          ],
          "choropleth": [
           {
            "colorbar": {
             "outlinewidth": 0,
             "ticks": ""
            },
            "type": "choropleth"
           }
          ],
          "contour": [
           {
            "colorbar": {
             "outlinewidth": 0,
             "ticks": ""
            },
            "colorscale": [
             [
              0,
              "#0d0887"
             ],
             [
              0.1111111111111111,
              "#46039f"
             ],
             [
              0.2222222222222222,
              "#7201a8"
             ],
             [
              0.3333333333333333,
              "#9c179e"
             ],
             [
              0.4444444444444444,
              "#bd3786"
             ],
             [
              0.5555555555555556,
              "#d8576b"
             ],
             [
              0.6666666666666666,
              "#ed7953"
             ],
             [
              0.7777777777777778,
              "#fb9f3a"
             ],
             [
              0.8888888888888888,
              "#fdca26"
             ],
             [
              1,
              "#f0f921"
             ]
            ],
            "type": "contour"
           }
          ],
          "contourcarpet": [
           {
            "colorbar": {
             "outlinewidth": 0,
             "ticks": ""
            },
            "type": "contourcarpet"
           }
          ],
          "heatmap": [
           {
            "colorbar": {
             "outlinewidth": 0,
             "ticks": ""
            },
            "colorscale": [
             [
              0,
              "#0d0887"
             ],
             [
              0.1111111111111111,
              "#46039f"
             ],
             [
              0.2222222222222222,
              "#7201a8"
             ],
             [
              0.3333333333333333,
              "#9c179e"
             ],
             [
              0.4444444444444444,
              "#bd3786"
             ],
             [
              0.5555555555555556,
              "#d8576b"
             ],
             [
              0.6666666666666666,
              "#ed7953"
             ],
             [
              0.7777777777777778,
              "#fb9f3a"
             ],
             [
              0.8888888888888888,
              "#fdca26"
             ],
             [
              1,
              "#f0f921"
             ]
            ],
            "type": "heatmap"
           }
          ],
          "heatmapgl": [
           {
            "colorbar": {
             "outlinewidth": 0,
             "ticks": ""
            },
            "colorscale": [
             [
              0,
              "#0d0887"
             ],
             [
              0.1111111111111111,
              "#46039f"
             ],
             [
              0.2222222222222222,
              "#7201a8"
             ],
             [
              0.3333333333333333,
              "#9c179e"
             ],
             [
              0.4444444444444444,
              "#bd3786"
             ],
             [
              0.5555555555555556,
              "#d8576b"
             ],
             [
              0.6666666666666666,
              "#ed7953"
             ],
             [
              0.7777777777777778,
              "#fb9f3a"
             ],
             [
              0.8888888888888888,
              "#fdca26"
             ],
             [
              1,
              "#f0f921"
             ]
            ],
            "type": "heatmapgl"
           }
          ],
          "histogram": [
           {
            "marker": {
             "colorbar": {
              "outlinewidth": 0,
              "ticks": ""
             }
            },
            "type": "histogram"
           }
          ],
          "histogram2d": [
           {
            "colorbar": {
             "outlinewidth": 0,
             "ticks": ""
            },
            "colorscale": [
             [
              0,
              "#0d0887"
             ],
             [
              0.1111111111111111,
              "#46039f"
             ],
             [
              0.2222222222222222,
              "#7201a8"
             ],
             [
              0.3333333333333333,
              "#9c179e"
             ],
             [
              0.4444444444444444,
              "#bd3786"
             ],
             [
              0.5555555555555556,
              "#d8576b"
             ],
             [
              0.6666666666666666,
              "#ed7953"
             ],
             [
              0.7777777777777778,
              "#fb9f3a"
             ],
             [
              0.8888888888888888,
              "#fdca26"
             ],
             [
              1,
              "#f0f921"
             ]
            ],
            "type": "histogram2d"
           }
          ],
          "histogram2dcontour": [
           {
            "colorbar": {
             "outlinewidth": 0,
             "ticks": ""
            },
            "colorscale": [
             [
              0,
              "#0d0887"
             ],
             [
              0.1111111111111111,
              "#46039f"
             ],
             [
              0.2222222222222222,
              "#7201a8"
             ],
             [
              0.3333333333333333,
              "#9c179e"
             ],
             [
              0.4444444444444444,
              "#bd3786"
             ],
             [
              0.5555555555555556,
              "#d8576b"
             ],
             [
              0.6666666666666666,
              "#ed7953"
             ],
             [
              0.7777777777777778,
              "#fb9f3a"
             ],
             [
              0.8888888888888888,
              "#fdca26"
             ],
             [
              1,
              "#f0f921"
             ]
            ],
            "type": "histogram2dcontour"
           }
          ],
          "mesh3d": [
           {
            "colorbar": {
             "outlinewidth": 0,
             "ticks": ""
            },
            "type": "mesh3d"
           }
          ],
          "parcoords": [
           {
            "line": {
             "colorbar": {
              "outlinewidth": 0,
              "ticks": ""
             }
            },
            "type": "parcoords"
           }
          ],
          "pie": [
           {
            "automargin": true,
            "type": "pie"
           }
          ],
          "scatter": [
           {
            "marker": {
             "colorbar": {
              "outlinewidth": 0,
              "ticks": ""
             }
            },
            "type": "scatter"
           }
          ],
          "scatter3d": [
           {
            "line": {
             "colorbar": {
              "outlinewidth": 0,
              "ticks": ""
             }
            },
            "marker": {
             "colorbar": {
              "outlinewidth": 0,
              "ticks": ""
             }
            },
            "type": "scatter3d"
           }
          ],
          "scattercarpet": [
           {
            "marker": {
             "colorbar": {
              "outlinewidth": 0,
              "ticks": ""
             }
            },
            "type": "scattercarpet"
           }
          ],
          "scattergeo": [
           {
            "marker": {
             "colorbar": {
              "outlinewidth": 0,
              "ticks": ""
             }
            },
            "type": "scattergeo"
           }
          ],
          "scattergl": [
           {
            "marker": {
             "colorbar": {
              "outlinewidth": 0,
              "ticks": ""
             }
            },
            "type": "scattergl"
           }
          ],
          "scattermapbox": [
           {
            "marker": {
             "colorbar": {
              "outlinewidth": 0,
              "ticks": ""
             }
            },
            "type": "scattermapbox"
           }
          ],
          "scatterpolar": [
           {
            "marker": {
             "colorbar": {
              "outlinewidth": 0,
              "ticks": ""
             }
            },
            "type": "scatterpolar"
           }
          ],
          "scatterpolargl": [
           {
            "marker": {
             "colorbar": {
              "outlinewidth": 0,
              "ticks": ""
             }
            },
            "type": "scatterpolargl"
           }
          ],
          "scatterternary": [
           {
            "marker": {
             "colorbar": {
              "outlinewidth": 0,
              "ticks": ""
             }
            },
            "type": "scatterternary"
           }
          ],
          "surface": [
           {
            "colorbar": {
             "outlinewidth": 0,
             "ticks": ""
            },
            "colorscale": [
             [
              0,
              "#0d0887"
             ],
             [
              0.1111111111111111,
              "#46039f"
             ],
             [
              0.2222222222222222,
              "#7201a8"
             ],
             [
              0.3333333333333333,
              "#9c179e"
             ],
             [
              0.4444444444444444,
              "#bd3786"
             ],
             [
              0.5555555555555556,
              "#d8576b"
             ],
             [
              0.6666666666666666,
              "#ed7953"
             ],
             [
              0.7777777777777778,
              "#fb9f3a"
             ],
             [
              0.8888888888888888,
              "#fdca26"
             ],
             [
              1,
              "#f0f921"
             ]
            ],
            "type": "surface"
           }
          ],
          "table": [
           {
            "cells": {
             "fill": {
              "color": "#EBF0F8"
             },
             "line": {
              "color": "white"
             }
            },
            "header": {
             "fill": {
              "color": "#C8D4E3"
             },
             "line": {
              "color": "white"
             }
            },
            "type": "table"
           }
          ]
         },
         "layout": {
          "annotationdefaults": {
           "arrowcolor": "#2a3f5f",
           "arrowhead": 0,
           "arrowwidth": 1
          },
          "coloraxis": {
           "colorbar": {
            "outlinewidth": 0,
            "ticks": ""
           }
          },
          "colorscale": {
           "diverging": [
            [
             0,
             "#8e0152"
            ],
            [
             0.1,
             "#c51b7d"
            ],
            [
             0.2,
             "#de77ae"
            ],
            [
             0.3,
             "#f1b6da"
            ],
            [
             0.4,
             "#fde0ef"
            ],
            [
             0.5,
             "#f7f7f7"
            ],
            [
             0.6,
             "#e6f5d0"
            ],
            [
             0.7,
             "#b8e186"
            ],
            [
             0.8,
             "#7fbc41"
            ],
            [
             0.9,
             "#4d9221"
            ],
            [
             1,
             "#276419"
            ]
           ],
           "sequential": [
            [
             0,
             "#0d0887"
            ],
            [
             0.1111111111111111,
             "#46039f"
            ],
            [
             0.2222222222222222,
             "#7201a8"
            ],
            [
             0.3333333333333333,
             "#9c179e"
            ],
            [
             0.4444444444444444,
             "#bd3786"
            ],
            [
             0.5555555555555556,
             "#d8576b"
            ],
            [
             0.6666666666666666,
             "#ed7953"
            ],
            [
             0.7777777777777778,
             "#fb9f3a"
            ],
            [
             0.8888888888888888,
             "#fdca26"
            ],
            [
             1,
             "#f0f921"
            ]
           ],
           "sequentialminus": [
            [
             0,
             "#0d0887"
            ],
            [
             0.1111111111111111,
             "#46039f"
            ],
            [
             0.2222222222222222,
             "#7201a8"
            ],
            [
             0.3333333333333333,
             "#9c179e"
            ],
            [
             0.4444444444444444,
             "#bd3786"
            ],
            [
             0.5555555555555556,
             "#d8576b"
            ],
            [
             0.6666666666666666,
             "#ed7953"
            ],
            [
             0.7777777777777778,
             "#fb9f3a"
            ],
            [
             0.8888888888888888,
             "#fdca26"
            ],
            [
             1,
             "#f0f921"
            ]
           ]
          },
          "colorway": [
           "#636efa",
           "#EF553B",
           "#00cc96",
           "#ab63fa",
           "#FFA15A",
           "#19d3f3",
           "#FF6692",
           "#B6E880",
           "#FF97FF",
           "#FECB52"
          ],
          "font": {
           "color": "#2a3f5f"
          },
          "geo": {
           "bgcolor": "white",
           "lakecolor": "white",
           "landcolor": "#E5ECF6",
           "showlakes": true,
           "showland": true,
           "subunitcolor": "white"
          },
          "hoverlabel": {
           "align": "left"
          },
          "hovermode": "closest",
          "mapbox": {
           "style": "light"
          },
          "paper_bgcolor": "white",
          "plot_bgcolor": "#E5ECF6",
          "polar": {
           "angularaxis": {
            "gridcolor": "white",
            "linecolor": "white",
            "ticks": ""
           },
           "bgcolor": "#E5ECF6",
           "radialaxis": {
            "gridcolor": "white",
            "linecolor": "white",
            "ticks": ""
           }
          },
          "scene": {
           "xaxis": {
            "backgroundcolor": "#E5ECF6",
            "gridcolor": "white",
            "gridwidth": 2,
            "linecolor": "white",
            "showbackground": true,
            "ticks": "",
            "zerolinecolor": "white"
           },
           "yaxis": {
            "backgroundcolor": "#E5ECF6",
            "gridcolor": "white",
            "gridwidth": 2,
            "linecolor": "white",
            "showbackground": true,
            "ticks": "",
            "zerolinecolor": "white"
           },
           "zaxis": {
            "backgroundcolor": "#E5ECF6",
            "gridcolor": "white",
            "gridwidth": 2,
            "linecolor": "white",
            "showbackground": true,
            "ticks": "",
            "zerolinecolor": "white"
           }
          },
          "shapedefaults": {
           "line": {
            "color": "#2a3f5f"
           }
          },
          "ternary": {
           "aaxis": {
            "gridcolor": "white",
            "linecolor": "white",
            "ticks": ""
           },
           "baxis": {
            "gridcolor": "white",
            "linecolor": "white",
            "ticks": ""
           },
           "bgcolor": "#E5ECF6",
           "caxis": {
            "gridcolor": "white",
            "linecolor": "white",
            "ticks": ""
           }
          },
          "title": {
           "x": 0.05
          },
          "xaxis": {
           "automargin": true,
           "gridcolor": "white",
           "linecolor": "white",
           "ticks": "",
           "title": {
            "standoff": 15
           },
           "zerolinecolor": "white",
           "zerolinewidth": 2
          },
          "yaxis": {
           "automargin": true,
           "gridcolor": "white",
           "linecolor": "white",
           "ticks": "",
           "title": {
            "standoff": 15
           },
           "zerolinecolor": "white",
           "zerolinewidth": 2
          }
         }
        },
        "title": {
         "text": "Optimization History Plot"
        },
        "xaxis": {
         "title": {
          "text": "#Trials"
         }
        },
        "yaxis": {
         "title": {
          "text": "Objective Value"
         }
        }
       }
      },
      "text/html": [
       "<div>                            <div id=\"a789baf5-d71e-43da-b257-1bb0cba67888\" class=\"plotly-graph-div\" style=\"height:525px; width:100%;\"></div>            <script type=\"text/javascript\">                require([\"plotly\"], function(Plotly) {                    window.PLOTLYENV=window.PLOTLYENV || {};                                    if (document.getElementById(\"a789baf5-d71e-43da-b257-1bb0cba67888\")) {                    Plotly.newPlot(                        \"a789baf5-d71e-43da-b257-1bb0cba67888\",                        [{\"mode\": \"markers\", \"name\": \"Objective Value\", \"type\": \"scatter\", \"x\": [0, 1, 2, 3, 4, 5, 6, 7, 8, 9, 10, 11, 12, 13, 14, 15, 16, 17, 18, 19, 20, 21, 22, 23, 24, 25, 26, 27, 28, 29, 30, 31, 32, 33, 34, 35, 36, 37, 38, 39, 40, 41, 42, 43, 44, 45, 46, 47, 48, 49], \"y\": [4.2601779078720075, 4.2597037770089985, 4.259750649652748, 4.261277954131018, 4.260064888516806, 4.25997744955231, 4.259833775730177, 4.260004808803613, 4.259962939108504, 4.259476077981785, 4.259457210268551, 4.259438898751999, 4.259450934674924, 4.259441960874152, 4.259440459840038, 4.259452310427076, 4.25945004829858, 4.259541555002343, 4.259433107006676, 4.259432792081609, 4.260525521722654, 4.259433083424382, 4.259586776773371, 4.259436408040881, 4.259433169911248, 4.259500296179921, 4.259465254417443, 4.259433121847323, 4.259601092247445, 4.25943407801264, 4.260399650051278, 4.259434088182922, 4.259492614889206, 4.259432861954572, 4.259466864640659, 4.259458557536804, 4.259432916748023, 4.2596957252453205, 4.259518581419342, 4.259440683221877, 4.259459956838072, 4.259433818326457, 4.259433357857594, 4.259466481418538, 4.259439377814391, 4.259437413911167, 4.259474076445105, 4.2594483464881145, 4.2594449018892915, 4.259432829882743]}, {\"name\": \"Best Value\", \"type\": \"scatter\", \"x\": [0, 1, 2, 3, 4, 5, 6, 7, 8, 9, 10, 11, 12, 13, 14, 15, 16, 17, 18, 19, 20, 21, 22, 23, 24, 25, 26, 27, 28, 29, 30, 31, 32, 33, 34, 35, 36, 37, 38, 39, 40, 41, 42, 43, 44, 45, 46, 47, 48, 49], \"y\": [4.2601779078720075, 4.2597037770089985, 4.2597037770089985, 4.2597037770089985, 4.2597037770089985, 4.2597037770089985, 4.2597037770089985, 4.2597037770089985, 4.2597037770089985, 4.259476077981785, 4.259457210268551, 4.259438898751999, 4.259438898751999, 4.259438898751999, 4.259438898751999, 4.259438898751999, 4.259438898751999, 4.259438898751999, 4.259433107006676, 4.259432792081609, 4.259432792081609, 4.259432792081609, 4.259432792081609, 4.259432792081609, 4.259432792081609, 4.259432792081609, 4.259432792081609, 4.259432792081609, 4.259432792081609, 4.259432792081609, 4.259432792081609, 4.259432792081609, 4.259432792081609, 4.259432792081609, 4.259432792081609, 4.259432792081609, 4.259432792081609, 4.259432792081609, 4.259432792081609, 4.259432792081609, 4.259432792081609, 4.259432792081609, 4.259432792081609, 4.259432792081609, 4.259432792081609, 4.259432792081609, 4.259432792081609, 4.259432792081609, 4.259432792081609, 4.259432792081609]}],                        {\"template\": {\"data\": {\"bar\": [{\"error_x\": {\"color\": \"#2a3f5f\"}, \"error_y\": {\"color\": \"#2a3f5f\"}, \"marker\": {\"line\": {\"color\": \"#E5ECF6\", \"width\": 0.5}}, \"type\": \"bar\"}], \"barpolar\": [{\"marker\": {\"line\": {\"color\": \"#E5ECF6\", \"width\": 0.5}}, \"type\": \"barpolar\"}], \"carpet\": [{\"aaxis\": {\"endlinecolor\": \"#2a3f5f\", \"gridcolor\": \"white\", \"linecolor\": \"white\", \"minorgridcolor\": \"white\", \"startlinecolor\": \"#2a3f5f\"}, \"baxis\": {\"endlinecolor\": \"#2a3f5f\", \"gridcolor\": \"white\", \"linecolor\": \"white\", \"minorgridcolor\": \"white\", \"startlinecolor\": \"#2a3f5f\"}, \"type\": \"carpet\"}], \"choropleth\": [{\"colorbar\": {\"outlinewidth\": 0, \"ticks\": \"\"}, \"type\": \"choropleth\"}], \"contour\": [{\"colorbar\": {\"outlinewidth\": 0, \"ticks\": \"\"}, \"colorscale\": [[0.0, \"#0d0887\"], [0.1111111111111111, \"#46039f\"], [0.2222222222222222, \"#7201a8\"], [0.3333333333333333, \"#9c179e\"], [0.4444444444444444, \"#bd3786\"], [0.5555555555555556, \"#d8576b\"], [0.6666666666666666, \"#ed7953\"], [0.7777777777777778, \"#fb9f3a\"], [0.8888888888888888, \"#fdca26\"], [1.0, \"#f0f921\"]], \"type\": \"contour\"}], \"contourcarpet\": [{\"colorbar\": {\"outlinewidth\": 0, \"ticks\": \"\"}, \"type\": \"contourcarpet\"}], \"heatmap\": [{\"colorbar\": {\"outlinewidth\": 0, \"ticks\": \"\"}, \"colorscale\": [[0.0, \"#0d0887\"], [0.1111111111111111, \"#46039f\"], [0.2222222222222222, \"#7201a8\"], [0.3333333333333333, \"#9c179e\"], [0.4444444444444444, \"#bd3786\"], [0.5555555555555556, \"#d8576b\"], [0.6666666666666666, \"#ed7953\"], [0.7777777777777778, \"#fb9f3a\"], [0.8888888888888888, \"#fdca26\"], [1.0, \"#f0f921\"]], \"type\": \"heatmap\"}], \"heatmapgl\": [{\"colorbar\": {\"outlinewidth\": 0, \"ticks\": \"\"}, \"colorscale\": [[0.0, \"#0d0887\"], [0.1111111111111111, \"#46039f\"], [0.2222222222222222, \"#7201a8\"], [0.3333333333333333, \"#9c179e\"], [0.4444444444444444, \"#bd3786\"], [0.5555555555555556, \"#d8576b\"], [0.6666666666666666, \"#ed7953\"], [0.7777777777777778, \"#fb9f3a\"], [0.8888888888888888, \"#fdca26\"], [1.0, \"#f0f921\"]], \"type\": \"heatmapgl\"}], \"histogram\": [{\"marker\": {\"colorbar\": {\"outlinewidth\": 0, \"ticks\": \"\"}}, \"type\": \"histogram\"}], \"histogram2d\": [{\"colorbar\": {\"outlinewidth\": 0, \"ticks\": \"\"}, \"colorscale\": [[0.0, \"#0d0887\"], [0.1111111111111111, \"#46039f\"], [0.2222222222222222, \"#7201a8\"], [0.3333333333333333, \"#9c179e\"], [0.4444444444444444, \"#bd3786\"], [0.5555555555555556, \"#d8576b\"], [0.6666666666666666, \"#ed7953\"], [0.7777777777777778, \"#fb9f3a\"], [0.8888888888888888, \"#fdca26\"], [1.0, \"#f0f921\"]], \"type\": \"histogram2d\"}], \"histogram2dcontour\": [{\"colorbar\": {\"outlinewidth\": 0, \"ticks\": \"\"}, \"colorscale\": [[0.0, \"#0d0887\"], [0.1111111111111111, \"#46039f\"], [0.2222222222222222, \"#7201a8\"], [0.3333333333333333, \"#9c179e\"], [0.4444444444444444, \"#bd3786\"], [0.5555555555555556, \"#d8576b\"], [0.6666666666666666, \"#ed7953\"], [0.7777777777777778, \"#fb9f3a\"], [0.8888888888888888, \"#fdca26\"], [1.0, \"#f0f921\"]], \"type\": \"histogram2dcontour\"}], \"mesh3d\": [{\"colorbar\": {\"outlinewidth\": 0, \"ticks\": \"\"}, \"type\": \"mesh3d\"}], \"parcoords\": [{\"line\": {\"colorbar\": {\"outlinewidth\": 0, \"ticks\": \"\"}}, \"type\": \"parcoords\"}], \"pie\": [{\"automargin\": true, \"type\": \"pie\"}], \"scatter\": [{\"marker\": {\"colorbar\": {\"outlinewidth\": 0, \"ticks\": \"\"}}, \"type\": \"scatter\"}], \"scatter3d\": [{\"line\": {\"colorbar\": {\"outlinewidth\": 0, \"ticks\": \"\"}}, \"marker\": {\"colorbar\": {\"outlinewidth\": 0, \"ticks\": \"\"}}, \"type\": \"scatter3d\"}], \"scattercarpet\": [{\"marker\": {\"colorbar\": {\"outlinewidth\": 0, \"ticks\": \"\"}}, \"type\": \"scattercarpet\"}], \"scattergeo\": [{\"marker\": {\"colorbar\": {\"outlinewidth\": 0, \"ticks\": \"\"}}, \"type\": \"scattergeo\"}], \"scattergl\": [{\"marker\": {\"colorbar\": {\"outlinewidth\": 0, \"ticks\": \"\"}}, \"type\": \"scattergl\"}], \"scattermapbox\": [{\"marker\": {\"colorbar\": {\"outlinewidth\": 0, \"ticks\": \"\"}}, \"type\": \"scattermapbox\"}], \"scatterpolar\": [{\"marker\": {\"colorbar\": {\"outlinewidth\": 0, \"ticks\": \"\"}}, \"type\": \"scatterpolar\"}], \"scatterpolargl\": [{\"marker\": {\"colorbar\": {\"outlinewidth\": 0, \"ticks\": \"\"}}, \"type\": \"scatterpolargl\"}], \"scatterternary\": [{\"marker\": {\"colorbar\": {\"outlinewidth\": 0, \"ticks\": \"\"}}, \"type\": \"scatterternary\"}], \"surface\": [{\"colorbar\": {\"outlinewidth\": 0, \"ticks\": \"\"}, \"colorscale\": [[0.0, \"#0d0887\"], [0.1111111111111111, \"#46039f\"], [0.2222222222222222, \"#7201a8\"], [0.3333333333333333, \"#9c179e\"], [0.4444444444444444, \"#bd3786\"], [0.5555555555555556, \"#d8576b\"], [0.6666666666666666, \"#ed7953\"], [0.7777777777777778, \"#fb9f3a\"], [0.8888888888888888, \"#fdca26\"], [1.0, \"#f0f921\"]], \"type\": \"surface\"}], \"table\": [{\"cells\": {\"fill\": {\"color\": \"#EBF0F8\"}, \"line\": {\"color\": \"white\"}}, \"header\": {\"fill\": {\"color\": \"#C8D4E3\"}, \"line\": {\"color\": \"white\"}}, \"type\": \"table\"}]}, \"layout\": {\"annotationdefaults\": {\"arrowcolor\": \"#2a3f5f\", \"arrowhead\": 0, \"arrowwidth\": 1}, \"coloraxis\": {\"colorbar\": {\"outlinewidth\": 0, \"ticks\": \"\"}}, \"colorscale\": {\"diverging\": [[0, \"#8e0152\"], [0.1, \"#c51b7d\"], [0.2, \"#de77ae\"], [0.3, \"#f1b6da\"], [0.4, \"#fde0ef\"], [0.5, \"#f7f7f7\"], [0.6, \"#e6f5d0\"], [0.7, \"#b8e186\"], [0.8, \"#7fbc41\"], [0.9, \"#4d9221\"], [1, \"#276419\"]], \"sequential\": [[0.0, \"#0d0887\"], [0.1111111111111111, \"#46039f\"], [0.2222222222222222, \"#7201a8\"], [0.3333333333333333, \"#9c179e\"], [0.4444444444444444, \"#bd3786\"], [0.5555555555555556, \"#d8576b\"], [0.6666666666666666, \"#ed7953\"], [0.7777777777777778, \"#fb9f3a\"], [0.8888888888888888, \"#fdca26\"], [1.0, \"#f0f921\"]], \"sequentialminus\": [[0.0, \"#0d0887\"], [0.1111111111111111, \"#46039f\"], [0.2222222222222222, \"#7201a8\"], [0.3333333333333333, \"#9c179e\"], [0.4444444444444444, \"#bd3786\"], [0.5555555555555556, \"#d8576b\"], [0.6666666666666666, \"#ed7953\"], [0.7777777777777778, \"#fb9f3a\"], [0.8888888888888888, \"#fdca26\"], [1.0, \"#f0f921\"]]}, \"colorway\": [\"#636efa\", \"#EF553B\", \"#00cc96\", \"#ab63fa\", \"#FFA15A\", \"#19d3f3\", \"#FF6692\", \"#B6E880\", \"#FF97FF\", \"#FECB52\"], \"font\": {\"color\": \"#2a3f5f\"}, \"geo\": {\"bgcolor\": \"white\", \"lakecolor\": \"white\", \"landcolor\": \"#E5ECF6\", \"showlakes\": true, \"showland\": true, \"subunitcolor\": \"white\"}, \"hoverlabel\": {\"align\": \"left\"}, \"hovermode\": \"closest\", \"mapbox\": {\"style\": \"light\"}, \"paper_bgcolor\": \"white\", \"plot_bgcolor\": \"#E5ECF6\", \"polar\": {\"angularaxis\": {\"gridcolor\": \"white\", \"linecolor\": \"white\", \"ticks\": \"\"}, \"bgcolor\": \"#E5ECF6\", \"radialaxis\": {\"gridcolor\": \"white\", \"linecolor\": \"white\", \"ticks\": \"\"}}, \"scene\": {\"xaxis\": {\"backgroundcolor\": \"#E5ECF6\", \"gridcolor\": \"white\", \"gridwidth\": 2, \"linecolor\": \"white\", \"showbackground\": true, \"ticks\": \"\", \"zerolinecolor\": \"white\"}, \"yaxis\": {\"backgroundcolor\": \"#E5ECF6\", \"gridcolor\": \"white\", \"gridwidth\": 2, \"linecolor\": \"white\", \"showbackground\": true, \"ticks\": \"\", \"zerolinecolor\": \"white\"}, \"zaxis\": {\"backgroundcolor\": \"#E5ECF6\", \"gridcolor\": \"white\", \"gridwidth\": 2, \"linecolor\": \"white\", \"showbackground\": true, \"ticks\": \"\", \"zerolinecolor\": \"white\"}}, \"shapedefaults\": {\"line\": {\"color\": \"#2a3f5f\"}}, \"ternary\": {\"aaxis\": {\"gridcolor\": \"white\", \"linecolor\": \"white\", \"ticks\": \"\"}, \"baxis\": {\"gridcolor\": \"white\", \"linecolor\": \"white\", \"ticks\": \"\"}, \"bgcolor\": \"#E5ECF6\", \"caxis\": {\"gridcolor\": \"white\", \"linecolor\": \"white\", \"ticks\": \"\"}}, \"title\": {\"x\": 0.05}, \"xaxis\": {\"automargin\": true, \"gridcolor\": \"white\", \"linecolor\": \"white\", \"ticks\": \"\", \"title\": {\"standoff\": 15}, \"zerolinecolor\": \"white\", \"zerolinewidth\": 2}, \"yaxis\": {\"automargin\": true, \"gridcolor\": \"white\", \"linecolor\": \"white\", \"ticks\": \"\", \"title\": {\"standoff\": 15}, \"zerolinecolor\": \"white\", \"zerolinewidth\": 2}}}, \"title\": {\"text\": \"Optimization History Plot\"}, \"xaxis\": {\"title\": {\"text\": \"#Trials\"}}, \"yaxis\": {\"title\": {\"text\": \"Objective Value\"}}},                        {\"responsive\": true}                    ).then(function(){\n",
       "                            \n",
       "var gd = document.getElementById('a789baf5-d71e-43da-b257-1bb0cba67888');\n",
       "var x = new MutationObserver(function (mutations, observer) {{\n",
       "        var display = window.getComputedStyle(gd).display;\n",
       "        if (!display || display === 'none') {{\n",
       "            console.log([gd, 'removed!']);\n",
       "            Plotly.purge(gd);\n",
       "            observer.disconnect();\n",
       "        }}\n",
       "}});\n",
       "\n",
       "// Listen for the removal of the full notebook cells\n",
       "var notebookContainer = gd.closest('#notebook-container');\n",
       "if (notebookContainer) {{\n",
       "    x.observe(notebookContainer, {childList: true});\n",
       "}}\n",
       "\n",
       "// Listen for the clearing of the current output cell\n",
       "var outputEl = gd.closest('.output');\n",
       "if (outputEl) {{\n",
       "    x.observe(outputEl, {childList: true});\n",
       "}}\n",
       "\n",
       "                        })                };                });            </script>        </div>"
      ]
     },
     "metadata": {},
     "output_type": "display_data"
    },
    {
     "name": "stdout",
     "output_type": "stream",
     "text": [
      "FrozenTrial(number=19, value=4.259432792081609, datetime_start=datetime.datetime(2021, 2, 15, 17, 7, 51, 160070), datetime_complete=datetime.datetime(2021, 2, 15, 17, 7, 52, 749380), params={'classifier': 'Ridge()', 'alpha': 5.745238549741174}, distributions={'classifier': CategoricalDistribution(choices=('Ridge()',)), 'alpha': UniformDistribution(high=6, low=4)}, user_attrs={}, system_attrs={}, intermediate_values={}, trial_id=19, state=TrialState.COMPLETE)\n",
      "\u001b[33m\n",
      "Best trial\n",
      "  RMSE% = 4.259432792081609 \n",
      "  {'classifier': 'Ridge()', 'alpha': 5.745238549741174}\n",
      "\u001b[0m\n"
     ]
    }
   ],
   "source": [
    "plot_optimization_history(study).show()\n",
    "print(study.best_trial)\n",
    "print(Fore.YELLOW\n",
    "      + f'\\nBest trial\\n  RMSE% = {study.best_value} \\n  {study.best_params}')\n",
    "print(Style.RESET_ALL)\n"
   ]
  },
  {
   "cell_type": "markdown",
   "metadata": {},
   "source": [
    "### Plotting the results from the optimization\n",
    "\n",
    "We can assign the hyperparameters selected by optuna, and plot the resulting joint mechanics."
   ]
  },
  {
   "cell_type": "code",
   "execution_count": 9,
   "metadata": {},
   "outputs": [
    {
     "data": {
      "text/plain": [
       "Ridge(alpha=5.745238549741174)"
      ]
     },
     "execution_count": 9,
     "metadata": {},
     "output_type": "execute_result"
    }
   ],
   "source": [
    "learner_strs = [lrn.__repr__() for lrn in learners]\n",
    "learner_dict = dict(zip(learner_strs, learners))\n",
    "learner_kwargs = study.best_params.copy()\n",
    "learner = learner_dict[learner_kwargs['classifier']]\n",
    "learner_kwargs.pop('classifier')\n",
    "learner.set_params(**learner_kwargs)\n"
   ]
  },
  {
   "cell_type": "code",
   "execution_count": 10,
   "metadata": {},
   "outputs": [
    {
     "data": {
      "application/vnd.jupyter.widget-view+json": {
       "model_id": "9b5861ed1d4a4453b06b0fe30e919fe1",
       "version_major": 2,
       "version_minor": 0
      },
      "text/plain": [
       "HBox(children=(HTML(value='Plotting lat_torque_2'), FloatProgress(value=0.0, max=7.0), HTML(value='')))"
      ]
     },
     "metadata": {},
     "output_type": "display_data"
    },
    {
     "data": {
      "application/vnd.jupyter.widget-view+json": {
       "model_id": "db008c0cb7294a73939ef7bc5dfa0f19",
       "version_major": 2,
       "version_minor": 0
      },
      "text/plain": [
       "HBox(children=(HTML(value=''), FloatProgress(value=0.0, max=12.0), HTML(value='')))"
      ]
     },
     "metadata": {},
     "output_type": "display_data"
    },
    {
     "name": "stdout",
     "output_type": "stream",
     "text": [
      "\n"
     ]
    },
    {
     "data": {
      "application/vnd.jupyter.widget-view+json": {
       "model_id": "945b7216d7dd4bffbad5d0b8df22f875",
       "version_major": 2,
       "version_minor": 0
      },
      "text/plain": [
       "HBox(children=(HTML(value=''), FloatProgress(value=0.0, max=12.0), HTML(value='')))"
      ]
     },
     "metadata": {},
     "output_type": "display_data"
    },
    {
     "name": "stdout",
     "output_type": "stream",
     "text": [
      "\n"
     ]
    },
    {
     "data": {
      "application/vnd.jupyter.widget-view+json": {
       "model_id": "b620197c88144fc09a74582f850c2595",
       "version_major": 2,
       "version_minor": 0
      },
      "text/plain": [
       "HBox(children=(HTML(value=''), FloatProgress(value=0.0, max=12.0), HTML(value='')))"
      ]
     },
     "metadata": {},
     "output_type": "display_data"
    },
    {
     "name": "stdout",
     "output_type": "stream",
     "text": [
      "\n"
     ]
    },
    {
     "data": {
      "application/vnd.jupyter.widget-view+json": {
       "model_id": "9cfc950b6c924e5f919ba9659d252bac",
       "version_major": 2,
       "version_minor": 0
      },
      "text/plain": [
       "HBox(children=(HTML(value=''), FloatProgress(value=0.0, max=12.0), HTML(value='')))"
      ]
     },
     "metadata": {},
     "output_type": "display_data"
    },
    {
     "name": "stdout",
     "output_type": "stream",
     "text": [
      "\n"
     ]
    },
    {
     "data": {
      "application/vnd.jupyter.widget-view+json": {
       "model_id": "7b8f4859e1594f41a48a249f4fb8dc86",
       "version_major": 2,
       "version_minor": 0
      },
      "text/plain": [
       "HBox(children=(HTML(value=''), FloatProgress(value=0.0, max=12.0), HTML(value='')))"
      ]
     },
     "metadata": {},
     "output_type": "display_data"
    },
    {
     "name": "stdout",
     "output_type": "stream",
     "text": [
      "\n"
     ]
    },
    {
     "data": {
      "application/vnd.jupyter.widget-view+json": {
       "model_id": "312bb055092c420eaa11cbc990f2def6",
       "version_major": 2,
       "version_minor": 0
      },
      "text/plain": [
       "HBox(children=(HTML(value=''), FloatProgress(value=0.0, max=12.0), HTML(value='')))"
      ]
     },
     "metadata": {},
     "output_type": "display_data"
    },
    {
     "name": "stdout",
     "output_type": "stream",
     "text": [
      "\n"
     ]
    },
    {
     "data": {
      "application/vnd.jupyter.widget-view+json": {
       "model_id": "ae141db274174887897ecedf04e23b4e",
       "version_major": 2,
       "version_minor": 0
      },
      "text/plain": [
       "HBox(children=(HTML(value=''), FloatProgress(value=0.0, max=12.0), HTML(value='')))"
      ]
     },
     "metadata": {},
     "output_type": "display_data"
    },
    {
     "name": "stdout",
     "output_type": "stream",
     "text": [
      "\n"
     ]
    },
    {
     "data": {
      "application/vnd.jupyter.widget-view+json": {
       "model_id": "18c1ac77e3294723b3b2c5b413bc39ca",
       "version_major": 2,
       "version_minor": 0
      },
      "text/plain": [
       "HBox(children=(HTML(value=''), FloatProgress(value=0.0, max=12.0), HTML(value='')))"
      ]
     },
     "metadata": {},
     "output_type": "display_data"
    },
    {
     "name": "stdout",
     "output_type": "stream",
     "text": [
      "\n",
      "\n"
     ]
    }
   ],
   "source": [
    "lrn_name = type(learner).__name__\n",
    "try:\n",
    "    lrn_name = '-'.join((lrn_name, type(learner.base_estimator).__name__))\n",
    "except AttributeError:\n",
    "    pass\n",
    "\n",
    "top_fig_dir = Path.cwd().parent / 'models' / 'predictions'\n",
    "save_dir = top_fig_dir / group / lrn_name\n",
    "n_rows, n_cols = 4, 3\n",
    "tim = tkr_train.response['time'][0]\n",
    "scaler = StandardScaler()\n",
    "regr = artifact.Regressor(tkr_train, tkr_test, learner, scaler=scaler)\n",
    "for resp_name in tkr_train.response_names:\n",
    "    if resp_name == 'time':\n",
    "        continue\n",
    "    artifact.create_plots(n_rows, n_cols, regr, resp_name, save_dir)\n",
    "    clear_output(wait=True)\n",
    "\n"
   ]
  },
  {
   "cell_type": "code",
   "execution_count": 11,
   "metadata": {},
   "outputs": [
    {
     "data": {
      "application/vnd.jupyter.widget-view+json": {
       "model_id": "0859ef6dca154053aa8afab88d267980",
       "version_major": 2,
       "version_minor": 0
      },
      "text/plain": [
       "VBox(children=(Image(value=b'\\x89PNG\\r\\n\\x1a\\n\\x00\\x00\\x00\\rIHDR\\x00\\x00\\x04\\xaf\\x00\\x00\\x06\\x94\\x08\\x06\\x00\\x…"
      ]
     },
     "metadata": {},
     "output_type": "display_data"
    }
   ],
   "source": [
    "view = artifact.plotting.ImageViewer(top_fig_dir)\n",
    "view.show()\n"
   ]
  }
 ],
 "metadata": {
  "kernelspec": {
   "display_name": "Python 3",
   "language": "python",
   "name": "python3"
  },
  "language_info": {
   "codemirror_mode": {
    "name": "ipython",
    "version": 3
   },
   "file_extension": ".py",
   "mimetype": "text/x-python",
   "name": "python",
   "nbconvert_exporter": "python",
   "pygments_lexer": "ipython3",
   "version": "3.8.6"
  },
  "widgets": {
   "application/vnd.jupyter.widget-state+json": {
    "state": {
     "0033005e67854135854cf993ad06de7d": {
      "model_module": "@jupyter-widgets/controls",
      "model_module_version": "1.5.0",
      "model_name": "DescriptionStyleModel",
      "state": {
       "description_width": ""
      }
     },
     "004b67e9e1d843098e85fafd3428e19e": {
      "model_module": "@jupyter-widgets/base",
      "model_module_version": "1.2.0",
      "model_name": "LayoutModel",
      "state": {}
     },
     "006c996f0b664a5bbf02a5dad6c0146c": {
      "model_module": "@jupyter-widgets/base",
      "model_module_version": "1.2.0",
      "model_name": "LayoutModel",
      "state": {}
     },
     "007407f95a48427b99ea100a7a5bb1a1": {
      "model_module": "@jupyter-widgets/controls",
      "model_module_version": "1.5.0",
      "model_name": "DescriptionStyleModel",
      "state": {
       "description_width": ""
      }
     },
     "00e53f0290354eeb97277fb072d80a42": {
      "model_module": "@jupyter-widgets/controls",
      "model_module_version": "1.5.0",
      "model_name": "DescriptionStyleModel",
      "state": {
       "description_width": ""
      }
     },
     "0143dcef69ee42bd991c14fd8374fd12": {
      "model_module": "@jupyter-widgets/controls",
      "model_module_version": "1.5.0",
      "model_name": "HTMLModel",
      "state": {
       "layout": "IPY_MODEL_f739ffaa2ea74bccb4e4f7039d4a87e7",
       "style": "IPY_MODEL_6e7368c9f9db4ee6a824b431ae1cb8bf",
       "value": "100%"
      }
     },
     "014425b2304444fd914007e080f7da62": {
      "model_module": "@jupyter-widgets/controls",
      "model_module_version": "1.5.0",
      "model_name": "HTMLModel",
      "state": {
       "layout": "IPY_MODEL_20ab9ed7772c412fa8f6f66fc3797e38",
       "style": "IPY_MODEL_e2347643f43f4ff08ab78db2c20fa90f",
       "value": " 12/12 [00:04&lt;00:00,  2.51it/s]"
      }
     },
     "01a0dd27d600461cade8aa09e7ff7470": {
      "model_module": "@jupyter-widgets/controls",
      "model_module_version": "1.5.0",
      "model_name": "FloatProgressModel",
      "state": {
       "bar_style": "danger",
       "layout": "IPY_MODEL_272c4d2c6d084497b3934f45cbc6082d",
       "max": 12,
       "style": "IPY_MODEL_6abc3b67cc4148828b1eab65ba6e5c5d",
       "value": 3
      }
     },
     "01a7f9afa561469fbc871dc362adbe56": {
      "model_module": "@jupyter-widgets/base",
      "model_module_version": "1.2.0",
      "model_name": "LayoutModel",
      "state": {}
     },
     "01c08c398638414e95d2e06f413185ae": {
      "model_module": "@jupyter-widgets/base",
      "model_module_version": "1.2.0",
      "model_name": "LayoutModel",
      "state": {}
     },
     "0211adc79de44e0d80a0d4d89441088a": {
      "model_module": "@jupyter-widgets/base",
      "model_module_version": "1.2.0",
      "model_name": "LayoutModel",
      "state": {}
     },
     "022ba79279234fb18f885b6808a2bfc4": {
      "model_module": "@jupyter-widgets/controls",
      "model_module_version": "1.5.0",
      "model_name": "FloatProgressModel",
      "state": {
       "bar_style": "success",
       "layout": "IPY_MODEL_7c37832200b145f6904bef9a3c7ac6d3",
       "max": 12,
       "style": "IPY_MODEL_df13ca919a7c413c9273143b87123cf4",
       "value": 12
      }
     },
     "0273a4c008fd47e78dd4adcae5a50782": {
      "model_module": "@jupyter-widgets/base",
      "model_module_version": "1.2.0",
      "model_name": "LayoutModel",
      "state": {}
     },
     "028bdfeffaac4c039beb2f7c6c90755e": {
      "model_module": "@jupyter-widgets/base",
      "model_module_version": "1.2.0",
      "model_name": "LayoutModel",
      "state": {}
     },
     "02ecb6f79de042fe86ee1cf2500304a8": {
      "model_module": "@jupyter-widgets/base",
      "model_module_version": "1.2.0",
      "model_name": "LayoutModel",
      "state": {}
     },
     "037bf5021a5c4781bb283d08d2b0a2dd": {
      "model_module": "@jupyter-widgets/controls",
      "model_module_version": "1.5.0",
      "model_name": "ProgressStyleModel",
      "state": {
       "description_width": ""
      }
     },
     "04ccea20a1394cb787d47b90ba25666b": {
      "model_module": "@jupyter-widgets/controls",
      "model_module_version": "1.5.0",
      "model_name": "DescriptionStyleModel",
      "state": {
       "description_width": ""
      }
     },
     "058b9e68a4954f0ab78801b343baf699": {
      "model_module": "@jupyter-widgets/controls",
      "model_module_version": "1.5.0",
      "model_name": "DescriptionStyleModel",
      "state": {
       "description_width": ""
      }
     },
     "0595c18111394792afc86f08be77c134": {
      "model_module": "@jupyter-widgets/controls",
      "model_module_version": "1.5.0",
      "model_name": "HTMLModel",
      "state": {
       "layout": "IPY_MODEL_a1115fc209e4440fb7e9f1ed2c5c3a85",
       "style": "IPY_MODEL_cf5a08c028ae4509975d107eddfffc19",
       "value": " 3/12 [00:04&lt;00:14,  1.57s/it]"
      }
     },
     "05c91f65bd044f83b89181502fc7fb1f": {
      "model_module": "@jupyter-widgets/controls",
      "model_module_version": "1.5.0",
      "model_name": "DescriptionStyleModel",
      "state": {
       "description_width": ""
      }
     },
     "05cb4c580dde444098efb98c54b50c3f": {
      "model_module": "@jupyter-widgets/controls",
      "model_module_version": "1.5.0",
      "model_name": "HTMLModel",
      "state": {
       "layout": "IPY_MODEL_b3a3b78a2c3842a692a2b187c2989e93",
       "style": "IPY_MODEL_12eb0347d45f42b69355a45c2d61b66b",
       "value": " 12/12 [00:05&lt;00:00,  2.23it/s]"
      }
     },
     "05dd38b0ddb947feb48a28ad731ed10f": {
      "model_module": "@jupyter-widgets/controls",
      "model_module_version": "1.5.0",
      "model_name": "DescriptionStyleModel",
      "state": {
       "description_width": ""
      }
     },
     "0619b20dbd0d46458551e312fac16274": {
      "model_module": "@jupyter-widgets/controls",
      "model_module_version": "1.5.0",
      "model_name": "FloatProgressModel",
      "state": {
       "bar_style": "success",
       "layout": "IPY_MODEL_3511b219b43a4f779546c134ef8b8158",
       "max": 12,
       "style": "IPY_MODEL_b51727934e4b4c98b00ea191c4f945d7",
       "value": 12
      }
     },
     "069f1a0ed05b412f8f3adab8bbbbb1f6": {
      "model_module": "@jupyter-widgets/base",
      "model_module_version": "1.2.0",
      "model_name": "LayoutModel",
      "state": {}
     },
     "06f6f7cfea5246a6ac00511e2eaaa007": {
      "model_module": "@jupyter-widgets/controls",
      "model_module_version": "1.5.0",
      "model_name": "HBoxModel",
      "state": {
       "children": [
        "IPY_MODEL_c0539241c6be486d9b561699f82cc7d9",
        "IPY_MODEL_6b6be3bf62e942a3a315985de46021bd",
        "IPY_MODEL_a4830a6b02084f84b964357b60cb081f"
       ],
       "layout": "IPY_MODEL_b8454c93121542b4a842ba74d37a055b"
      }
     },
     "073cd63a03ef4f1b8ac760507ef42ff4": {
      "model_module": "@jupyter-widgets/controls",
      "model_module_version": "1.5.0",
      "model_name": "DescriptionStyleModel",
      "state": {
       "description_width": ""
      }
     },
     "079b4f6d1e98471ea39722f248db2bf6": {
      "model_module": "@jupyter-widgets/base",
      "model_module_version": "1.2.0",
      "model_name": "LayoutModel",
      "state": {}
     },
     "07e39326ed974adc8c802d83ef56467f": {
      "model_module": "@jupyter-widgets/base",
      "model_module_version": "1.2.0",
      "model_name": "LayoutModel",
      "state": {}
     },
     "07f98036fcc1465f9ee44feeec20ed8a": {
      "model_module": "@jupyter-widgets/controls",
      "model_module_version": "1.5.0",
      "model_name": "DescriptionStyleModel",
      "state": {
       "description_width": ""
      }
     },
     "0859ef6dca154053aa8afab88d267980": {
      "model_module": "@jupyter-widgets/controls",
      "model_module_version": "1.5.0",
      "model_name": "VBoxModel",
      "state": {
       "children": [
        "IPY_MODEL_780c9096b7704882ac7f3a0d08681e1c",
        "IPY_MODEL_ddc9e549c10f442a9ba2ae6cf156f38a",
        "IPY_MODEL_a1e983b4046642bd97f4b1bf3c1374b7"
       ],
       "layout": "IPY_MODEL_3abbe878948c4b2eb9c46a94e460ac3e"
      }
     },
     "087f620f7eeb4c8b96ea0603ce0ff848": {
      "model_module": "@jupyter-widgets/controls",
      "model_module_version": "1.5.0",
      "model_name": "FloatProgressModel",
      "state": {
       "bar_style": "success",
       "layout": "IPY_MODEL_804409c1edb241ee8ddad5dc84f4bf89",
       "max": 12,
       "style": "IPY_MODEL_6921959b79ad41209ca12a21ef24724f",
       "value": 12
      }
     },
     "089f3b3311c24a4180b589645c05a222": {
      "model_module": "@jupyter-widgets/controls",
      "model_module_version": "1.5.0",
      "model_name": "DescriptionStyleModel",
      "state": {
       "description_width": ""
      }
     },
     "0910b99fd6bc4eeabfd155720fb71e3f": {
      "model_module": "@jupyter-widgets/controls",
      "model_module_version": "1.5.0",
      "model_name": "HTMLModel",
      "state": {
       "layout": "IPY_MODEL_a09417d54b66491f8b11661c87727c05",
       "style": "IPY_MODEL_985210176537446f994ba436b54cf83f",
       "value": "100%"
      }
     },
     "0911855550fc48248eab5e1b347d6ab8": {
      "model_module": "@jupyter-widgets/controls",
      "model_module_version": "1.5.0",
      "model_name": "HTMLModel",
      "state": {
       "layout": "IPY_MODEL_d3b8cd3e365d484ca67af9bbc704921a",
       "style": "IPY_MODEL_71b2152462d64ee7b8328919700af938",
       "value": "100%"
      }
     },
     "095717a558524f179ef209fb21955523": {
      "model_module": "@jupyter-widgets/base",
      "model_module_version": "1.2.0",
      "model_name": "LayoutModel",
      "state": {}
     },
     "095f809b95b3494f9a1f07585649935e": {
      "model_module": "@jupyter-widgets/controls",
      "model_module_version": "1.5.0",
      "model_name": "HTMLModel",
      "state": {
       "layout": "IPY_MODEL_5937e4a896f34585867f7d6761077824",
       "style": "IPY_MODEL_83e69c4ea26f45af82a3386cdbfaebab",
       "value": "100%"
      }
     },
     "0ae7c8e081044ca0a97c129b954c585f": {
      "model_module": "@jupyter-widgets/controls",
      "model_module_version": "1.5.0",
      "model_name": "HTMLModel",
      "state": {
       "layout": "IPY_MODEL_b7aa539c0a0d406a9c745d48e4bccad7",
       "style": "IPY_MODEL_c327214f6b9b48f2a547e913281209b2",
       "value": " 12/12 [00:01&lt;00:00,  7.96it/s]"
      }
     },
     "0b0bd0299837463f8f2f63754aa59c6d": {
      "model_module": "@jupyter-widgets/controls",
      "model_module_version": "1.5.0",
      "model_name": "HTMLModel",
      "state": {
       "layout": "IPY_MODEL_189a6029648246b698bfa6fd402d436a",
       "style": "IPY_MODEL_d3f51239007943dbb3e3d9a8226f0232",
       "value": " 8/? [00:12&lt;00:00,  1.55s/it]"
      }
     },
     "0b31312835d741dab02692e754fb9679": {
      "model_module": "@jupyter-widgets/controls",
      "model_module_version": "1.5.0",
      "model_name": "HTMLModel",
      "state": {
       "layout": "IPY_MODEL_4f54d014619848dc835983729d1f1245",
       "style": "IPY_MODEL_bccbd33682464e028367057e4f250351",
       "value": " 12/12 [00:02&lt;00:00,  4.52it/s]"
      }
     },
     "0b4ec4411e4b4a0f97a7ab9f98743351": {
      "model_module": "@jupyter-widgets/base",
      "model_module_version": "1.2.0",
      "model_name": "LayoutModel",
      "state": {}
     },
     "0b8d2ef57bb2412cb41e52f0cb86d98e": {
      "model_module": "@jupyter-widgets/controls",
      "model_module_version": "1.5.0",
      "model_name": "HTMLModel",
      "state": {
       "layout": "IPY_MODEL_e5822a0e472846398b6ca8b6bfdcc318",
       "style": "IPY_MODEL_b7445f918c1a419690ad24128c981511",
       "value": " 25%"
      }
     },
     "0be34408e85348cb9621409626336a4d": {
      "model_module": "@jupyter-widgets/controls",
      "model_module_version": "1.5.0",
      "model_name": "HTMLModel",
      "state": {
       "layout": "IPY_MODEL_33d35da9f93841b7898bec34b2b6cd77",
       "style": "IPY_MODEL_d6aab960c0b74e359d836849bc6f8e4c",
       "value": " 12/12 [00:04&lt;00:00,  2.67it/s]"
      }
     },
     "0c582dd558c044689632b670c723b711": {
      "model_module": "@jupyter-widgets/controls",
      "model_module_version": "1.5.0",
      "model_name": "HTMLModel",
      "state": {
       "layout": "IPY_MODEL_57f0512c8934417682fab3fea0b012c0",
       "style": "IPY_MODEL_1c47b1ce117242eca7f37863578b8898",
       "value": " 12/12 [00:05&lt;00:00,  2.26it/s]"
      }
     },
     "0cac5d06cf28464ca52cf2c242c01922": {
      "model_module": "@jupyter-widgets/controls",
      "model_module_version": "1.5.0",
      "model_name": "HTMLModel",
      "state": {
       "layout": "IPY_MODEL_d240b416c11348e4b85d7529a44400d4",
       "style": "IPY_MODEL_4c3617524a1b4369b9d6676d10d6f621",
       "value": "100%"
      }
     },
     "0ccc9e509e134cefba6f35b3a20ab199": {
      "model_module": "@jupyter-widgets/controls",
      "model_module_version": "1.5.0",
      "model_name": "FloatProgressModel",
      "state": {
       "bar_style": "success",
       "layout": "IPY_MODEL_2cb7f26a44f248cfb7f9ea4712052094",
       "max": 7,
       "style": "IPY_MODEL_0d0aec6120f94fc3a56e19c33aae00ec",
       "value": 7
      }
     },
     "0cd238d057854470857245e6ca64d509": {
      "model_module": "@jupyter-widgets/base",
      "model_module_version": "1.2.0",
      "model_name": "LayoutModel",
      "state": {}
     },
     "0cfb3092ecbd477abbaac410530053c6": {
      "model_module": "@jupyter-widgets/controls",
      "model_module_version": "1.5.0",
      "model_name": "HTMLModel",
      "state": {
       "layout": "IPY_MODEL_6955f9bb923e41139544cf44e27454ff",
       "style": "IPY_MODEL_d4884a0c8a274be88cd0d425ad4fc6e7",
       "value": "100%"
      }
     },
     "0d0aec6120f94fc3a56e19c33aae00ec": {
      "model_module": "@jupyter-widgets/controls",
      "model_module_version": "1.5.0",
      "model_name": "ProgressStyleModel",
      "state": {
       "description_width": ""
      }
     },
     "0d4e4f37102f408ba9ea09200f219ca1": {
      "model_module": "@jupyter-widgets/controls",
      "model_module_version": "1.5.0",
      "model_name": "HTMLModel",
      "state": {
       "layout": "IPY_MODEL_a91e11c433ae409b82119d0d50560f26",
       "style": "IPY_MODEL_8910ca2a021c48f9a8a4df049eee692e",
       "value": "100%"
      }
     },
     "0ed926be81d240ceaf746f843dca2647": {
      "model_module": "@jupyter-widgets/base",
      "model_module_version": "1.2.0",
      "model_name": "LayoutModel",
      "state": {}
     },
     "0f32d027c73747ea8cdce6834dc8bd4b": {
      "model_module": "@jupyter-widgets/base",
      "model_module_version": "1.2.0",
      "model_name": "LayoutModel",
      "state": {}
     },
     "0fc44f010d044edaa09cabca7d7d034f": {
      "model_module": "@jupyter-widgets/controls",
      "model_module_version": "1.5.0",
      "model_name": "HTMLModel",
      "state": {
       "layout": "IPY_MODEL_9c18bf77bd0a4d289084f8445d3b1c6b",
       "style": "IPY_MODEL_fa4bc6e0d7cf4bcb9ba30454cbb6a0bb",
       "value": " 12/12 [00:02&lt;00:00,  4.12it/s]"
      }
     },
     "0fc57fd727744e3a957e32703906dfb2": {
      "model_module": "@jupyter-widgets/base",
      "model_module_version": "1.2.0",
      "model_name": "LayoutModel",
      "state": {}
     },
     "10665a72de54492bb8434335bbdf5319": {
      "model_module": "@jupyter-widgets/base",
      "model_module_version": "1.2.0",
      "model_name": "LayoutModel",
      "state": {}
     },
     "110af7d3b873400ba52d850356f38f5f": {
      "model_module": "@jupyter-widgets/base",
      "model_module_version": "1.2.0",
      "model_name": "LayoutModel",
      "state": {}
     },
     "113c533f1342498b8e7946c17c59ea1e": {
      "model_module": "@jupyter-widgets/controls",
      "model_module_version": "1.5.0",
      "model_name": "HBoxModel",
      "state": {
       "children": [
        "IPY_MODEL_095f809b95b3494f9a1f07585649935e",
        "IPY_MODEL_80e9fe9f58fa442087347f5bc8609a09",
        "IPY_MODEL_83ae30c125a1403ab7991f52802003c6"
       ],
       "layout": "IPY_MODEL_8de835e321a540079711490fe698ad64"
      }
     },
     "1153a9a409174f0fbe80f9e2255d4ed1": {
      "model_module": "@jupyter-widgets/base",
      "model_module_version": "1.2.0",
      "model_name": "LayoutModel",
      "state": {}
     },
     "117a8a0185fc469a863f6de318ca5fc6": {
      "model_module": "@jupyter-widgets/controls",
      "model_module_version": "1.5.0",
      "model_name": "FloatProgressModel",
      "state": {
       "bar_style": "success",
       "layout": "IPY_MODEL_72d87da630ab472a8b961c659c8d7766",
       "max": 12,
       "style": "IPY_MODEL_fc87110146e6446b90670e40c7372811",
       "value": 12
      }
     },
     "11ef487c081d4e0a8829f09f95e385fd": {
      "model_module": "@jupyter-widgets/controls",
      "model_module_version": "1.5.0",
      "model_name": "DescriptionStyleModel",
      "state": {
       "description_width": ""
      }
     },
     "1223c6a4b18b4aaf82c2a85fcc7e2e54": {
      "model_module": "@jupyter-widgets/base",
      "model_module_version": "1.2.0",
      "model_name": "LayoutModel",
      "state": {}
     },
     "12b712e5ddc742a5a2e552f467a5e9a6": {
      "model_module": "@jupyter-widgets/controls",
      "model_module_version": "1.5.0",
      "model_name": "HBoxModel",
      "state": {
       "children": [
        "IPY_MODEL_f42825f1c0ea45e9840ad0119567af0e",
        "IPY_MODEL_60c7367f0e2b455a90ecf43dec46054c",
        "IPY_MODEL_d297104d3d8c4e109c1e89f4cbbed3b5"
       ],
       "layout": "IPY_MODEL_897a6ba0f7824aacbbc5a2b1c5e35980"
      }
     },
     "12eb0347d45f42b69355a45c2d61b66b": {
      "model_module": "@jupyter-widgets/controls",
      "model_module_version": "1.5.0",
      "model_name": "DescriptionStyleModel",
      "state": {
       "description_width": ""
      }
     },
     "12f50e123f954d6a907c97c83cea2c69": {
      "model_module": "@jupyter-widgets/base",
      "model_module_version": "1.2.0",
      "model_name": "LayoutModel",
      "state": {}
     },
     "12f7f38d990e475c9452734228b576d8": {
      "model_module": "@jupyter-widgets/base",
      "model_module_version": "1.2.0",
      "model_name": "LayoutModel",
      "state": {}
     },
     "1308da5a9e05411d802a659660034a06": {
      "model_module": "@jupyter-widgets/controls",
      "model_module_version": "1.5.0",
      "model_name": "DescriptionStyleModel",
      "state": {
       "description_width": ""
      }
     },
     "134fb58aec6e4c57b730c222dd6f9538": {
      "model_module": "@jupyter-widgets/controls",
      "model_module_version": "1.5.0",
      "model_name": "HBoxModel",
      "state": {
       "children": [
        "IPY_MODEL_c524d44637f4417e90c6c28d21531325",
        "IPY_MODEL_f7432a27e3aa43e0a264da842f250608",
        "IPY_MODEL_15c30c3e68f34678b7edca44b116ec9e"
       ],
       "layout": "IPY_MODEL_65b7b73c03f146148c636d03a1f8a55e"
      }
     },
     "13f6fe5857cd4b89bd0619d0dd1a907d": {
      "model_module": "@jupyter-widgets/controls",
      "model_module_version": "1.5.0",
      "model_name": "HTMLModel",
      "state": {
       "layout": "IPY_MODEL_2243d61da42f47b5b984b2bc19c50d30",
       "style": "IPY_MODEL_4982bcd47f5441f98610597ce0e81ad1",
       "value": " 12/12 [00:03&lt;00:00,  3.95it/s]"
      }
     },
     "14d86f8f2cb344338797fe2f63e51fab": {
      "model_module": "@jupyter-widgets/controls",
      "model_module_version": "1.5.0",
      "model_name": "DescriptionStyleModel",
      "state": {
       "description_width": ""
      }
     },
     "15659455adcb4983877a386d8bd5c4c9": {
      "model_module": "@jupyter-widgets/controls",
      "model_module_version": "1.5.0",
      "model_name": "HTMLModel",
      "state": {
       "layout": "IPY_MODEL_89b8f59ceb1c431c9029dff9a6410ec9",
       "style": "IPY_MODEL_69f8d3c1726745cc9ba52a8af867f613",
       "value": "Plotting med_torque_2: "
      }
     },
     "157f360ee46840baa83a31bcc76ec4bc": {
      "model_module": "@jupyter-widgets/base",
      "model_module_version": "1.2.0",
      "model_name": "LayoutModel",
      "state": {}
     },
     "15979345587e473cbdd8d8cafe30c131": {
      "model_module": "@jupyter-widgets/base",
      "model_module_version": "1.2.0",
      "model_name": "LayoutModel",
      "state": {}
     },
     "15c30c3e68f34678b7edca44b116ec9e": {
      "model_module": "@jupyter-widgets/controls",
      "model_module_version": "1.5.0",
      "model_name": "HTMLModel",
      "state": {
       "layout": "IPY_MODEL_6bdd44456b164571b67d4970889255d3",
       "style": "IPY_MODEL_668fb81c51e04796be03490d1b191672",
       "value": " 12/12 [00:01&lt;00:00,  7.52it/s]"
      }
     },
     "15eb066bdbb844c5ab71acbd3a794073": {
      "model_module": "@jupyter-widgets/base",
      "model_module_version": "1.2.0",
      "model_name": "LayoutModel",
      "state": {}
     },
     "163d8dce23a74b16a289ff030ec671d4": {
      "model_module": "@jupyter-widgets/controls",
      "model_module_version": "1.5.0",
      "model_name": "DescriptionStyleModel",
      "state": {
       "description_width": ""
      }
     },
     "1645a17e84684317a2d47cc4da1ca6a2": {
      "model_module": "@jupyter-widgets/controls",
      "model_module_version": "1.5.0",
      "model_name": "DescriptionStyleModel",
      "state": {
       "description_width": ""
      }
     },
     "172af4b3af20421aa4f0e73597f779d1": {
      "model_module": "@jupyter-widgets/controls",
      "model_module_version": "1.5.0",
      "model_name": "HTMLModel",
      "state": {
       "layout": "IPY_MODEL_12f7f38d990e475c9452734228b576d8",
       "style": "IPY_MODEL_3795ff6204624f4f9d8480e2a3607267",
       "value": "100%"
      }
     },
     "173c2d524c7545ecb32abf7f0e389aad": {
      "model_module": "@jupyter-widgets/base",
      "model_module_version": "1.2.0",
      "model_name": "LayoutModel",
      "state": {}
     },
     "173e9a84c87647bfbdd2a7c8acc6fe12": {
      "model_module": "@jupyter-widgets/base",
      "model_module_version": "1.2.0",
      "model_name": "LayoutModel",
      "state": {}
     },
     "177ea2dbf6844f3cb6e3b6aa834b9055": {
      "model_module": "@jupyter-widgets/controls",
      "model_module_version": "1.5.0",
      "model_name": "FloatProgressModel",
      "state": {
       "bar_style": "danger",
       "layout": "IPY_MODEL_f8b5cda77973427f8e308083ef5d5fd1",
       "max": 12,
       "style": "IPY_MODEL_6c74c4da9c9843c79a7757d5e8c1cd3e",
       "value": 3
      }
     },
     "17b03a5e575d470fbe50abf5bd4e74ac": {
      "model_module": "@jupyter-widgets/base",
      "model_module_version": "1.2.0",
      "model_name": "LayoutModel",
      "state": {}
     },
     "18164897eb27435ba3fc69ce73034db6": {
      "model_module": "@jupyter-widgets/base",
      "model_module_version": "1.2.0",
      "model_name": "LayoutModel",
      "state": {}
     },
     "1818433aaecc4732b2429113d4e6c5f8": {
      "model_module": "@jupyter-widgets/base",
      "model_module_version": "1.2.0",
      "model_name": "LayoutModel",
      "state": {
       "align_items": "stretch",
       "display": "flex",
       "flex_flow": "row",
       "justify_content": "space-between",
       "width": "100%"
      }
     },
     "184c87c8768a47259542a6499ed84105": {
      "model_module": "@jupyter-widgets/controls",
      "model_module_version": "1.5.0",
      "model_name": "ProgressStyleModel",
      "state": {
       "description_width": ""
      }
     },
     "189a6029648246b698bfa6fd402d436a": {
      "model_module": "@jupyter-widgets/base",
      "model_module_version": "1.2.0",
      "model_name": "LayoutModel",
      "state": {}
     },
     "18c1ac77e3294723b3b2c5b413bc39ca": {
      "model_module": "@jupyter-widgets/controls",
      "model_module_version": "1.5.0",
      "model_name": "HBoxModel",
      "state": {
       "children": [
        "IPY_MODEL_b9189253cd684fba921fb4f32dc6a1e0",
        "IPY_MODEL_177ea2dbf6844f3cb6e3b6aa834b9055",
        "IPY_MODEL_41523bff8d80465090b41332d7f4ea31"
       ],
       "layout": "IPY_MODEL_0cd238d057854470857245e6ca64d509"
      }
     },
     "1911fc95899546a4b1dd9f7c635977b4": {
      "model_module": "@jupyter-widgets/controls",
      "model_module_version": "1.5.0",
      "model_name": "ProgressStyleModel",
      "state": {
       "description_width": ""
      }
     },
     "199b819d0c1b4bf19ce8676842fa4789": {
      "model_module": "@jupyter-widgets/controls",
      "model_module_version": "1.5.0",
      "model_name": "FloatProgressModel",
      "state": {
       "bar_style": "success",
       "layout": "IPY_MODEL_84567c49326145949d516e57ba21a55d",
       "max": 12,
       "style": "IPY_MODEL_a92fac34459447288e11c5113f7b0f7b",
       "value": 12
      }
     },
     "1aa4b14d10884dfea4d7d26da702969a": {
      "model_module": "@jupyter-widgets/base",
      "model_module_version": "1.2.0",
      "model_name": "LayoutModel",
      "state": {}
     },
     "1b6300e1794b4659b4d556a3b4d9772d": {
      "model_module": "@jupyter-widgets/controls",
      "model_module_version": "1.5.0",
      "model_name": "DescriptionStyleModel",
      "state": {
       "description_width": ""
      }
     },
     "1b8275d2b0a640089d85576d60b138b6": {
      "model_module": "@jupyter-widgets/controls",
      "model_module_version": "1.5.0",
      "model_name": "FloatProgressModel",
      "state": {
       "bar_style": "danger",
       "layout": "IPY_MODEL_bed6dc0fc9174831b252e34c2fb79baa",
       "max": 12,
       "style": "IPY_MODEL_ae4382d635d148b8b671f4ba8e92c033",
       "value": 3
      }
     },
     "1bc8f8ef1fd8492796ccbdf50c2d5bad": {
      "model_module": "@jupyter-widgets/controls",
      "model_module_version": "1.5.0",
      "model_name": "HTMLModel",
      "state": {
       "layout": "IPY_MODEL_ae91a7d484a74cf0a9b4692871b5813e",
       "style": "IPY_MODEL_c29449fc2dcc480584ce21e802e0cef8",
       "value": "100%"
      }
     },
     "1c2a03172a744632a75ecd7faf176849": {
      "model_module": "@jupyter-widgets/controls",
      "model_module_version": "1.5.0",
      "model_name": "DescriptionStyleModel",
      "state": {
       "description_width": ""
      }
     },
     "1c47b1ce117242eca7f37863578b8898": {
      "model_module": "@jupyter-widgets/controls",
      "model_module_version": "1.5.0",
      "model_name": "DescriptionStyleModel",
      "state": {
       "description_width": ""
      }
     },
     "1d779f1848d849a49a9c0c0ef13591e5": {
      "model_module": "@jupyter-widgets/controls",
      "model_module_version": "1.5.0",
      "model_name": "DescriptionStyleModel",
      "state": {
       "description_width": ""
      }
     },
     "1d80c3979c9d4adabefc0c16d767df1a": {
      "model_module": "@jupyter-widgets/base",
      "model_module_version": "1.2.0",
      "model_name": "LayoutModel",
      "state": {}
     },
     "1d82e618220c4621b8810da051460923": {
      "model_module": "@jupyter-widgets/controls",
      "model_module_version": "1.5.0",
      "model_name": "HTMLModel",
      "state": {
       "layout": "IPY_MODEL_df899ed056b54126a21e8118e6cff2a4",
       "style": "IPY_MODEL_acd1cbe6bc924a8b8a189c13ae5dcb36",
       "value": "100%"
      }
     },
     "1df642e8050b43b2a1505f01c54e243a": {
      "model_module": "@jupyter-widgets/base",
      "model_module_version": "1.2.0",
      "model_name": "LayoutModel",
      "state": {}
     },
     "1e04409ac569421694775cbbaa9c4fcf": {
      "model_module": "@jupyter-widgets/controls",
      "model_module_version": "1.5.0",
      "model_name": "HBoxModel",
      "state": {
       "children": [
        "IPY_MODEL_519bb50f0e4146f49547292d713ea792",
        "IPY_MODEL_31294974943b4b4086474ef36669311e",
        "IPY_MODEL_394235fa07dd4efaaf26788ac97b95f2"
       ],
       "layout": "IPY_MODEL_0f32d027c73747ea8cdce6834dc8bd4b"
      }
     },
     "1e53e60b527046098f3adc0ea1b21058": {
      "model_module": "@jupyter-widgets/base",
      "model_module_version": "1.2.0",
      "model_name": "LayoutModel",
      "state": {}
     },
     "1e76cb75d9ba41d3a65fa241dd113109": {
      "model_module": "@jupyter-widgets/base",
      "model_module_version": "1.2.0",
      "model_name": "LayoutModel",
      "state": {}
     },
     "1e99ce0f063b4b0ab98185d04c339303": {
      "model_module": "@jupyter-widgets/controls",
      "model_module_version": "1.5.0",
      "model_name": "HTMLModel",
      "state": {
       "layout": "IPY_MODEL_2c24ae761ebf4621b5065c28282e6941",
       "style": "IPY_MODEL_00e53f0290354eeb97277fb072d80a42",
       "value": " 12/12 [00:03&lt;00:00,  3.83it/s]"
      }
     },
     "1eec0946825f4afd80cd94d954754627": {
      "model_module": "@jupyter-widgets/controls",
      "model_module_version": "1.5.0",
      "model_name": "ProgressStyleModel",
      "state": {
       "description_width": ""
      }
     },
     "1f98bd8299524ffcb5c6ea14c472e9f5": {
      "model_module": "@jupyter-widgets/base",
      "model_module_version": "1.2.0",
      "model_name": "LayoutModel",
      "state": {}
     },
     "1fcb0dca50d148e8be5723d568e5dfee": {
      "model_module": "@jupyter-widgets/base",
      "model_module_version": "1.2.0",
      "model_name": "LayoutModel",
      "state": {}
     },
     "1fdcbd38e76a4b0489b49df977d8d29d": {
      "model_module": "@jupyter-widgets/controls",
      "model_module_version": "1.5.0",
      "model_name": "HTMLModel",
      "state": {
       "layout": "IPY_MODEL_d91ab927a6744ac7a6c8f85091f92fcb",
       "style": "IPY_MODEL_58dd15002ea04267ae38e02fd356e3c0",
       "value": "100%"
      }
     },
     "20068664256944bc8bc147fa99ea6826": {
      "model_module": "@jupyter-widgets/base",
      "model_module_version": "1.2.0",
      "model_name": "LayoutModel",
      "state": {}
     },
     "20888199b3904e68ba25f3ec400cdd94": {
      "model_module": "@jupyter-widgets/base",
      "model_module_version": "1.2.0",
      "model_name": "LayoutModel",
      "state": {}
     },
     "20ab9ed7772c412fa8f6f66fc3797e38": {
      "model_module": "@jupyter-widgets/base",
      "model_module_version": "1.2.0",
      "model_name": "LayoutModel",
      "state": {}
     },
     "211e95f7d58a470a9c6189f0d919cdbb": {
      "model_module": "@jupyter-widgets/controls",
      "model_module_version": "1.5.0",
      "model_name": "DescriptionStyleModel",
      "state": {
       "description_width": ""
      }
     },
     "214abf8cac8f44d8b11ea07442bc1825": {
      "model_module": "@jupyter-widgets/base",
      "model_module_version": "1.2.0",
      "model_name": "LayoutModel",
      "state": {}
     },
     "21bc24cf4701438abb0f876bfeade801": {
      "model_module": "@jupyter-widgets/base",
      "model_module_version": "1.2.0",
      "model_name": "LayoutModel",
      "state": {}
     },
     "2243d61da42f47b5b984b2bc19c50d30": {
      "model_module": "@jupyter-widgets/base",
      "model_module_version": "1.2.0",
      "model_name": "LayoutModel",
      "state": {}
     },
     "22440b57ec9342368ef8289e82412802": {
      "model_module": "@jupyter-widgets/controls",
      "model_module_version": "1.5.0",
      "model_name": "ProgressStyleModel",
      "state": {
       "description_width": ""
      }
     },
     "22685e5e56194a528b009e8a42daf2b0": {
      "model_module": "@jupyter-widgets/controls",
      "model_module_version": "1.5.0",
      "model_name": "HBoxModel",
      "state": {
       "children": [
        "IPY_MODEL_0911855550fc48248eab5e1b347d6ab8",
        "IPY_MODEL_3dc2068ea1c84748b37525e304045204",
        "IPY_MODEL_9fb09cbf8e714790a0e865b07b18a66d"
       ],
       "layout": "IPY_MODEL_5a4cda13a79c4caa9634086a0fed4037"
      }
     },
     "232c22d1a9db42ffbf5f8ccf914c0cf3": {
      "model_module": "@jupyter-widgets/controls",
      "model_module_version": "1.5.0",
      "model_name": "HTMLModel",
      "state": {
       "layout": "IPY_MODEL_907394f6f5d2473c9e258bd5c1ffc3e0",
       "style": "IPY_MODEL_9d6cdad552964c5f892ff9447422eb2f",
       "value": "100%"
      }
     },
     "23af601bd03b490eae338a8024de488e": {
      "model_module": "@jupyter-widgets/base",
      "model_module_version": "1.2.0",
      "model_name": "LayoutModel",
      "state": {}
     },
     "249d9741c6cd4ba4b48f6168cbdaeb32": {
      "model_module": "@jupyter-widgets/base",
      "model_module_version": "1.2.0",
      "model_name": "LayoutModel",
      "state": {}
     },
     "25248bd377af4292923e915ddb808c64": {
      "model_module": "@jupyter-widgets/controls",
      "model_module_version": "1.5.0",
      "model_name": "HTMLModel",
      "state": {
       "layout": "IPY_MODEL_5b628663f1d746f5a9922676b85ce66e",
       "style": "IPY_MODEL_859ae85f8d43450ca522c1e57bea1e04",
       "value": " 3/12 [00:04&lt;00:13,  1.45s/it]"
      }
     },
     "254825b25e2b42bcac084206bb97cb24": {
      "model_module": "@jupyter-widgets/controls",
      "model_module_version": "1.5.0",
      "model_name": "DescriptionStyleModel",
      "state": {
       "description_width": ""
      }
     },
     "257a268d4e96419cb81072d44d3f5217": {
      "model_module": "@jupyter-widgets/controls",
      "model_module_version": "1.5.0",
      "model_name": "HTMLModel",
      "state": {
       "layout": "IPY_MODEL_e58f2de28779476caa5c8f85347851d7",
       "style": "IPY_MODEL_bd22c43f625f44f8aa428a736ad50aa4",
       "value": " 12/12 [00:04&lt;00:00,  2.89it/s]"
      }
     },
     "25b32bf41e5c487ebeb549db7163c459": {
      "model_module": "@jupyter-widgets/base",
      "model_module_version": "1.2.0",
      "model_name": "LayoutModel",
      "state": {}
     },
     "25e7dbca33f542f3981a1f2c155bea7c": {
      "model_module": "@jupyter-widgets/controls",
      "model_module_version": "1.5.0",
      "model_name": "ProgressStyleModel",
      "state": {
       "description_width": ""
      }
     },
     "2667412161b2455a814cc48429766af6": {
      "model_module": "@jupyter-widgets/controls",
      "model_module_version": "1.5.0",
      "model_name": "HBoxModel",
      "state": {
       "children": [
        "IPY_MODEL_a4dda3d1a45c45cfb8c58394fed44e5a",
        "IPY_MODEL_881526ef691a4a90b24790fe5eac1800",
        "IPY_MODEL_dbab42a226d946b385e39f5f8da85fd9"
       ],
       "layout": "IPY_MODEL_e3ec2c2c8a1c4f78a9023544dbbd55a3"
      }
     },
     "268ad88c11f246b19d6ab493c357cb8c": {
      "model_module": "@jupyter-widgets/controls",
      "model_module_version": "1.5.0",
      "model_name": "FloatProgressModel",
      "state": {
       "bar_style": "danger",
       "layout": "IPY_MODEL_17b03a5e575d470fbe50abf5bd4e74ac",
       "max": 12,
       "style": "IPY_MODEL_037bf5021a5c4781bb283d08d2b0a2dd",
       "value": 3
      }
     },
     "2722fdca3aa94e8a9d140ce7ea4f282c": {
      "model_module": "@jupyter-widgets/base",
      "model_module_version": "1.2.0",
      "model_name": "LayoutModel",
      "state": {}
     },
     "272c4d2c6d084497b3934f45cbc6082d": {
      "model_module": "@jupyter-widgets/base",
      "model_module_version": "1.2.0",
      "model_name": "LayoutModel",
      "state": {}
     },
     "2753c91aea6741e081f3934cbc8a78d7": {
      "model_module": "@jupyter-widgets/controls",
      "model_module_version": "1.5.0",
      "model_name": "DescriptionStyleModel",
      "state": {
       "description_width": ""
      }
     },
     "27ebfe9fa535473c9afa977c8d945a74": {
      "model_module": "@jupyter-widgets/base",
      "model_module_version": "1.2.0",
      "model_name": "LayoutModel",
      "state": {}
     },
     "28940a5510e144fb86a86bafa2238c8c": {
      "model_module": "@jupyter-widgets/base",
      "model_module_version": "1.2.0",
      "model_name": "LayoutModel",
      "state": {}
     },
     "28fa057a4d9349a7a177b0964942ed0c": {
      "model_module": "@jupyter-widgets/controls",
      "model_module_version": "1.5.0",
      "model_name": "FloatProgressModel",
      "state": {
       "bar_style": "success",
       "layout": "IPY_MODEL_45d26afec53946118d763f2922961701",
       "max": 12,
       "style": "IPY_MODEL_3590778ba9a14c3c89c9bd06048d8bac",
       "value": 12
      }
     },
     "293e20c7e73e46cda8cde53921c4dada": {
      "model_module": "@jupyter-widgets/controls",
      "model_module_version": "1.5.0",
      "model_name": "FloatProgressModel",
      "state": {
       "bar_style": "success",
       "layout": "IPY_MODEL_77853776c9924a9cb9cb3cc08be5f43f",
       "max": 7,
       "style": "IPY_MODEL_99e98e493d43415abb2ea684d43e2856",
       "value": 7
      }
     },
     "29b350037e5c4f60a6afda452cf7da9f": {
      "model_module": "@jupyter-widgets/controls",
      "model_module_version": "1.5.0",
      "model_name": "ProgressStyleModel",
      "state": {
       "description_width": ""
      }
     },
     "2a1e4cf0f1d842feb2b5de9531a7708f": {
      "model_module": "@jupyter-widgets/controls",
      "model_module_version": "1.5.0",
      "model_name": "HBoxModel",
      "state": {
       "children": [
        "IPY_MODEL_9f2f730c48d447f6a4dfd90bc53da9e7",
        "IPY_MODEL_d1b3fa62c0714bd1b12022c7754a38c9",
        "IPY_MODEL_257a268d4e96419cb81072d44d3f5217"
       ],
       "layout": "IPY_MODEL_b5633ae3a90a42e39274b06f1c2188e3"
      }
     },
     "2ad59f8bc26a4a87b345b291d766a701": {
      "model_module": "@jupyter-widgets/base",
      "model_module_version": "1.2.0",
      "model_name": "LayoutModel",
      "state": {}
     },
     "2b384d3f63a34b858945da25655c835b": {
      "model_module": "@jupyter-widgets/base",
      "model_module_version": "1.2.0",
      "model_name": "LayoutModel",
      "state": {}
     },
     "2b3d0d01adbe40c3baabd98d1d7b0e05": {
      "model_module": "@jupyter-widgets/base",
      "model_module_version": "1.2.0",
      "model_name": "LayoutModel",
      "state": {}
     },
     "2b5e05d3c51942d6bf453c9fd0e5b246": {
      "model_module": "@jupyter-widgets/controls",
      "model_module_version": "1.5.0",
      "model_name": "DescriptionStyleModel",
      "state": {
       "description_width": ""
      }
     },
     "2b7b4f01197a4879bc22096d0ad03496": {
      "model_module": "@jupyter-widgets/controls",
      "model_module_version": "1.5.0",
      "model_name": "FloatProgressModel",
      "state": {
       "bar_style": "success",
       "layout": "IPY_MODEL_61f7d123f3214357b13b108a84c49d3b",
       "max": 12,
       "style": "IPY_MODEL_c9257668dc0745269aff5dd44947c7ae",
       "value": 12
      }
     },
     "2b8a9c1f339848c596c6402ed8e1ed46": {
      "model_module": "@jupyter-widgets/controls",
      "model_module_version": "1.5.0",
      "model_name": "HTMLModel",
      "state": {
       "layout": "IPY_MODEL_0ed926be81d240ceaf746f843dca2647",
       "style": "IPY_MODEL_3c5302c32bc84ece861a89b6243cc98f",
       "value": " 12/12 [00:05&lt;00:00,  2.12it/s]"
      }
     },
     "2bcd6fcebf3a4e9daad8d8185fdef1af": {
      "model_module": "@jupyter-widgets/controls",
      "model_module_version": "1.5.0",
      "model_name": "HBoxModel",
      "state": {
       "children": [
        "IPY_MODEL_1d82e618220c4621b8810da051460923",
        "IPY_MODEL_bc339e33a00b43ada5c60de184665518",
        "IPY_MODEL_cea55e672f60456aa9057f2a3cfba2bd"
       ],
       "layout": "IPY_MODEL_fb86622fc05f410597b8fe62ee7bc193"
      }
     },
     "2c24ae761ebf4621b5065c28282e6941": {
      "model_module": "@jupyter-widgets/base",
      "model_module_version": "1.2.0",
      "model_name": "LayoutModel",
      "state": {}
     },
     "2c45f08e8aa64b9ea80513b248ffaefa": {
      "model_module": "@jupyter-widgets/controls",
      "model_module_version": "1.5.0",
      "model_name": "HTMLModel",
      "state": {
       "layout": "IPY_MODEL_a8e8a852a85446bcb34a2f27c1496ead",
       "style": "IPY_MODEL_6a6206ba422940dbbe4ed6037d51e88f",
       "value": "100%"
      }
     },
     "2c59efe84b8e4fcfbfaf4036160b993a": {
      "model_module": "@jupyter-widgets/base",
      "model_module_version": "1.2.0",
      "model_name": "LayoutModel",
      "state": {}
     },
     "2cb24bb582ff4625afdfe48653a62400": {
      "model_module": "@jupyter-widgets/controls",
      "model_module_version": "1.5.0",
      "model_name": "HBoxModel",
      "state": {
       "children": [
        "IPY_MODEL_ddc588c3214f4a03bb78f265230da8b9",
        "IPY_MODEL_3c38e0e4e2ce43e9af7d30c2a40f43db",
        "IPY_MODEL_25248bd377af4292923e915ddb808c64"
       ],
       "layout": "IPY_MODEL_1df642e8050b43b2a1505f01c54e243a"
      }
     },
     "2cb6edfd0b6243d391c58bd268e4a51f": {
      "model_module": "@jupyter-widgets/base",
      "model_module_version": "1.2.0",
      "model_name": "LayoutModel",
      "state": {}
     },
     "2cb7f26a44f248cfb7f9ea4712052094": {
      "model_module": "@jupyter-widgets/base",
      "model_module_version": "1.2.0",
      "model_name": "LayoutModel",
      "state": {}
     },
     "2da0b16ee62a464a93a63451bde509f1": {
      "model_module": "@jupyter-widgets/controls",
      "model_module_version": "1.5.0",
      "model_name": "DescriptionStyleModel",
      "state": {
       "description_width": ""
      }
     },
     "2e1767b50a6d441aa1e01f54524b6df2": {
      "model_module": "@jupyter-widgets/controls",
      "model_module_version": "1.5.0",
      "model_name": "DescriptionStyleModel",
      "state": {
       "description_width": ""
      }
     },
     "2e4dfae48fd14d2e9022a343ea05bc98": {
      "model_module": "@jupyter-widgets/controls",
      "model_module_version": "1.5.0",
      "model_name": "HBoxModel",
      "state": {
       "children": [
        "IPY_MODEL_d6ec8048fed942c6a7da31dba496b3db",
        "IPY_MODEL_5699b100e50e42c2ba5054ad00b07c65",
        "IPY_MODEL_b2c896115b7840f2962dc432a3d346de"
       ],
       "layout": "IPY_MODEL_da75061ed1a94190894b752f41263a43"
      }
     },
     "2e554baaffa948dfb3c17ae2701c53e9": {
      "model_module": "@jupyter-widgets/base",
      "model_module_version": "1.2.0",
      "model_name": "LayoutModel",
      "state": {}
     },
     "2e74e6cf740643bdb72335fc1648242d": {
      "model_module": "@jupyter-widgets/controls",
      "model_module_version": "1.5.0",
      "model_name": "ProgressStyleModel",
      "state": {
       "description_width": ""
      }
     },
     "2ea67fab72994d718f9297838e39b01e": {
      "model_module": "@jupyter-widgets/controls",
      "model_module_version": "1.5.0",
      "model_name": "HTMLModel",
      "state": {
       "layout": "IPY_MODEL_d686baf6b6cd4170bb91dca4c939e01c",
       "style": "IPY_MODEL_5a2dabe8537747f295557cde9ea7fae2",
       "value": " 12/12 [00:01&lt;00:00,  7.45it/s]"
      }
     },
     "2ed40d1a95334977ba6b8c369d8b2308": {
      "model_module": "@jupyter-widgets/controls",
      "model_module_version": "1.5.0",
      "model_name": "HTMLModel",
      "state": {
       "layout": "IPY_MODEL_b83b91b239d6444d8595f96c910d21b0",
       "style": "IPY_MODEL_b2cf3ecd79ea47a78512b7f867d6561e",
       "value": " 12/12 [00:04&lt;00:00,  2.79it/s]"
      }
     },
     "2f945e109297436fba5819fccc7fdbe8": {
      "model_module": "@jupyter-widgets/base",
      "model_module_version": "1.2.0",
      "model_name": "LayoutModel",
      "state": {}
     },
     "2fa2d0a25a4b45dbbcfa84b90da7709b": {
      "model_module": "@jupyter-widgets/controls",
      "model_module_version": "1.5.0",
      "model_name": "HBoxModel",
      "state": {
       "children": [
        "IPY_MODEL_f69754c39f8948b08f47cd44998a6a16",
        "IPY_MODEL_e143d4e634264bd1bf573b1608fa986e",
        "IPY_MODEL_0b31312835d741dab02692e754fb9679"
       ],
       "layout": "IPY_MODEL_4158f32088fd4e65b69df3db9888c41b"
      }
     },
     "2fdaef77c0084363ab9f4f3bb69dcc34": {
      "model_module": "@jupyter-widgets/base",
      "model_module_version": "1.2.0",
      "model_name": "LayoutModel",
      "state": {}
     },
     "3040fd1a6a5f46b8b92421c442c730bf": {
      "model_module": "@jupyter-widgets/controls",
      "model_module_version": "1.5.0",
      "model_name": "HTMLModel",
      "state": {
       "layout": "IPY_MODEL_2ad59f8bc26a4a87b345b291d766a701",
       "style": "IPY_MODEL_11ef487c081d4e0a8829f09f95e385fd",
       "value": " 12/12 [00:04&lt;00:00,  2.68it/s]"
      }
     },
     "30ab1fcceab44f99b5cffe88dc835899": {
      "model_module": "@jupyter-widgets/controls",
      "model_module_version": "1.5.0",
      "model_name": "DescriptionStyleModel",
      "state": {
       "description_width": ""
      }
     },
     "31294974943b4b4086474ef36669311e": {
      "model_module": "@jupyter-widgets/controls",
      "model_module_version": "1.5.0",
      "model_name": "FloatProgressModel",
      "state": {
       "bar_style": "success",
       "layout": "IPY_MODEL_f5e4a92ac80840aa83589a6a014fc5cc",
       "max": 12,
       "style": "IPY_MODEL_ef10f88688504041bcf652f6a6976531",
       "value": 12
      }
     },
     "312bb055092c420eaa11cbc990f2def6": {
      "model_module": "@jupyter-widgets/controls",
      "model_module_version": "1.5.0",
      "model_name": "HBoxModel",
      "state": {
       "children": [
        "IPY_MODEL_0143dcef69ee42bd991c14fd8374fd12",
        "IPY_MODEL_325e03ff954a4bb99475b6751f1e4bea",
        "IPY_MODEL_b7a6d5414a514cefab3de784fd9493de"
       ],
       "layout": "IPY_MODEL_095717a558524f179ef209fb21955523"
      }
     },
     "315db9aff59746de9edd35d0db65d2ea": {
      "model_module": "@jupyter-widgets/base",
      "model_module_version": "1.2.0",
      "model_name": "LayoutModel",
      "state": {}
     },
     "315eb326525c47f786dbc48e7624871c": {
      "model_module": "@jupyter-widgets/base",
      "model_module_version": "1.2.0",
      "model_name": "LayoutModel",
      "state": {}
     },
     "325e03ff954a4bb99475b6751f1e4bea": {
      "model_module": "@jupyter-widgets/controls",
      "model_module_version": "1.5.0",
      "model_name": "FloatProgressModel",
      "state": {
       "bar_style": "success",
       "layout": "IPY_MODEL_8481e3d99b2d4313bb04c963a7e82536",
       "max": 12,
       "style": "IPY_MODEL_ab0223ada4fc44279d245ba1b23d1409",
       "value": 12
      }
     },
     "32bc807aa1e9437789aea15aa093a2f5": {
      "model_module": "@jupyter-widgets/base",
      "model_module_version": "1.2.0",
      "model_name": "LayoutModel",
      "state": {}
     },
     "32c0eefa99804eae906df880d3eaa3aa": {
      "model_module": "@jupyter-widgets/controls",
      "model_module_version": "1.5.0",
      "model_name": "FloatProgressModel",
      "state": {
       "bar_style": "success",
       "layout": "IPY_MODEL_34f5743b98a440eab05e1cbcb4c06754",
       "max": 12,
       "style": "IPY_MODEL_525573bb44cc4feda47f2cb57179ee1d",
       "value": 12
      }
     },
     "331cdaf9842c4ae2b02ef4b0bd93541d": {
      "model_module": "@jupyter-widgets/controls",
      "model_module_version": "1.5.0",
      "model_name": "HTMLModel",
      "state": {
       "layout": "IPY_MODEL_daf57e6b3b824217ab7e823fa768d3f1",
       "style": "IPY_MODEL_b482753fd78444c8beb3b0c9eedd6779",
       "value": "100%"
      }
     },
     "3391b729b4cc4f229a2fd0673e7a4a33": {
      "model_module": "@jupyter-widgets/controls",
      "model_module_version": "1.5.0",
      "model_name": "DropdownModel",
      "state": {
       "_options_labels": [
        "joint_loads",
        "kinematics"
       ],
       "description": "Group:",
       "index": 0,
       "layout": "IPY_MODEL_27ebfe9fa535473c9afa977c8d945a74",
       "style": "IPY_MODEL_05c91f65bd044f83b89181502fc7fb1f"
      }
     },
     "33d35da9f93841b7898bec34b2b6cd77": {
      "model_module": "@jupyter-widgets/base",
      "model_module_version": "1.2.0",
      "model_name": "LayoutModel",
      "state": {}
     },
     "33fad6b7ce0f4bd8a7702dd1a327d638": {
      "model_module": "@jupyter-widgets/base",
      "model_module_version": "1.2.0",
      "model_name": "LayoutModel",
      "state": {}
     },
     "345390f20792474785840c650f73e545": {
      "model_module": "@jupyter-widgets/controls",
      "model_module_version": "1.5.0",
      "model_name": "HBoxModel",
      "state": {
       "children": [
        "IPY_MODEL_331cdaf9842c4ae2b02ef4b0bd93541d",
        "IPY_MODEL_c59c1de1d7204eb8b87e20a5d94abf7d",
        "IPY_MODEL_3e6be846b854407f814f18d4a251fc49"
       ],
       "layout": "IPY_MODEL_004b67e9e1d843098e85fafd3428e19e"
      }
     },
     "34548ae66d0b463ab5f5005e930a3b8c": {
      "model_module": "@jupyter-widgets/base",
      "model_module_version": "1.2.0",
      "model_name": "LayoutModel",
      "state": {}
     },
     "3459ffaff406440bb42dc2641e76b9fd": {
      "model_module": "@jupyter-widgets/controls",
      "model_module_version": "1.5.0",
      "model_name": "FloatProgressModel",
      "state": {
       "bar_style": "success",
       "layout": "IPY_MODEL_4bd965ad38bc4415b11025860f4bc172",
       "max": 12,
       "style": "IPY_MODEL_6cc4b19b9caa4807b8cbade1f293a63b",
       "value": 12
      }
     },
     "34a9946b2c0046c39fddf1640ac9f483": {
      "model_module": "@jupyter-widgets/base",
      "model_module_version": "1.2.0",
      "model_name": "LayoutModel",
      "state": {}
     },
     "34f5743b98a440eab05e1cbcb4c06754": {
      "model_module": "@jupyter-widgets/base",
      "model_module_version": "1.2.0",
      "model_name": "LayoutModel",
      "state": {}
     },
     "3511b219b43a4f779546c134ef8b8158": {
      "model_module": "@jupyter-widgets/base",
      "model_module_version": "1.2.0",
      "model_name": "LayoutModel",
      "state": {}
     },
     "35152ec82aaf47fc9e204c30abf70cc0": {
      "model_module": "@jupyter-widgets/base",
      "model_module_version": "1.2.0",
      "model_name": "LayoutModel",
      "state": {}
     },
     "3552b109edab4b799b68f6ebbfb4a69f": {
      "model_module": "@jupyter-widgets/controls",
      "model_module_version": "1.5.0",
      "model_name": "ProgressStyleModel",
      "state": {
       "description_width": ""
      }
     },
     "3590778ba9a14c3c89c9bd06048d8bac": {
      "model_module": "@jupyter-widgets/controls",
      "model_module_version": "1.5.0",
      "model_name": "ProgressStyleModel",
      "state": {
       "description_width": ""
      }
     },
     "35d7d63a59634bb1b3d68dfed702dd81": {
      "model_module": "@jupyter-widgets/controls",
      "model_module_version": "1.5.0",
      "model_name": "HTMLModel",
      "state": {
       "layout": "IPY_MODEL_a49929533d604f9987200be59c662868",
       "style": "IPY_MODEL_4565be822bd644f086251b9090515eaf",
       "value": "100%"
      }
     },
     "35f23198bafd4a1ea7450717fabfb419": {
      "model_module": "@jupyter-widgets/base",
      "model_module_version": "1.2.0",
      "model_name": "LayoutModel",
      "state": {}
     },
     "362b7bc6e20e4a259df04308cdc1b4a7": {
      "model_module": "@jupyter-widgets/controls",
      "model_module_version": "1.5.0",
      "model_name": "HBoxModel",
      "state": {
       "children": [
        "IPY_MODEL_813d74283ca94c23a251ab9fe08325c9",
        "IPY_MODEL_cb81dcd53c8f457a8398bf3e012b3c59",
        "IPY_MODEL_fde263929a874065b56bc7e098ad1773"
       ],
       "layout": "IPY_MODEL_66f20e31d9c34b8493a080279ea57b09"
      }
     },
     "362cd9a58a224fc295bfb2f2a155f3b3": {
      "model_module": "@jupyter-widgets/base",
      "model_module_version": "1.2.0",
      "model_name": "LayoutModel",
      "state": {}
     },
     "36d1e8d0948c4509835416b8969a7e77": {
      "model_module": "@jupyter-widgets/controls",
      "model_module_version": "1.5.0",
      "model_name": "DescriptionStyleModel",
      "state": {
       "description_width": ""
      }
     },
     "371bcc80b36f442abb7827075c405750": {
      "model_module": "@jupyter-widgets/controls",
      "model_module_version": "1.5.0",
      "model_name": "HBoxModel",
      "state": {
       "children": [
        "IPY_MODEL_b1faa3081590447d815b6c87f6d6b808",
        "IPY_MODEL_3459ffaff406440bb42dc2641e76b9fd",
        "IPY_MODEL_f76b663d57614f29b1434d1c71525927"
       ],
       "layout": "IPY_MODEL_837e98f55cad4d0e964363b4ea72ae86"
      }
     },
     "372c6de92b254117948924329c1941b8": {
      "model_module": "@jupyter-widgets/controls",
      "model_module_version": "1.5.0",
      "model_name": "ProgressStyleModel",
      "state": {
       "description_width": ""
      }
     },
     "3795ff6204624f4f9d8480e2a3607267": {
      "model_module": "@jupyter-widgets/controls",
      "model_module_version": "1.5.0",
      "model_name": "DescriptionStyleModel",
      "state": {
       "description_width": ""
      }
     },
     "381b2c8211914872a540c6e6f4ddd793": {
      "model_module": "@jupyter-widgets/controls",
      "model_module_version": "1.5.0",
      "model_name": "HTMLModel",
      "state": {
       "layout": "IPY_MODEL_5f68bd47fda148f78241164e41beeb56",
       "style": "IPY_MODEL_7932f0cb6b4f4a0a870ca34694810aae",
       "value": " 25%"
      }
     },
     "381c3c31d6bc46649da5dd2c875c17d7": {
      "model_module": "@jupyter-widgets/base",
      "model_module_version": "1.2.0",
      "model_name": "LayoutModel",
      "state": {}
     },
     "388069c696974b3dbbfded0cacd99d44": {
      "model_module": "@jupyter-widgets/controls",
      "model_module_version": "1.5.0",
      "model_name": "HBoxModel",
      "state": {
       "children": [
        "IPY_MODEL_15659455adcb4983877a386d8bd5c4c9",
        "IPY_MODEL_54cc2481550c4a6a8c57d9e615868a65",
        "IPY_MODEL_0b0bd0299837463f8f2f63754aa59c6d"
       ],
       "layout": "IPY_MODEL_e6fc2af78bac4a46b79b60d8971177bf"
      }
     },
     "38b5955b1ded4797b3ca4b03bc12eb6b": {
      "model_module": "@jupyter-widgets/controls",
      "model_module_version": "1.5.0",
      "model_name": "FloatProgressModel",
      "state": {
       "bar_style": "success",
       "layout": "IPY_MODEL_dd7f42fd82be46d2be4161ae100e841b",
       "max": 12,
       "style": "IPY_MODEL_57fc6cfbf24f4071a00b66c245d4956b",
       "value": 12
      }
     },
     "390605d0ac864769834343d34c9fe0f8": {
      "model_module": "@jupyter-widgets/controls",
      "model_module_version": "1.5.0",
      "model_name": "HTMLModel",
      "state": {
       "layout": "IPY_MODEL_f8fb59a64ad24caf9ae50463c33f9865",
       "style": "IPY_MODEL_1c2a03172a744632a75ecd7faf176849",
       "value": " 12/12 [00:02&lt;00:00,  5.91it/s]"
      }
     },
     "3930dba2a58147a394e1e0191833bf1b": {
      "model_module": "@jupyter-widgets/controls",
      "model_module_version": "1.5.0",
      "model_name": "DescriptionStyleModel",
      "state": {
       "description_width": ""
      }
     },
     "394235fa07dd4efaaf26788ac97b95f2": {
      "model_module": "@jupyter-widgets/controls",
      "model_module_version": "1.5.0",
      "model_name": "HTMLModel",
      "state": {
       "layout": "IPY_MODEL_028bdfeffaac4c039beb2f7c6c90755e",
       "style": "IPY_MODEL_55d6e676871d48dba9b1aec5ab572fd6",
       "value": " 12/12 [00:02&lt;00:00,  4.13it/s]"
      }
     },
     "398f9f0c738345228e3ce94cd1ce7135": {
      "model_module": "@jupyter-widgets/controls",
      "model_module_version": "1.5.0",
      "model_name": "ProgressStyleModel",
      "state": {
       "description_width": ""
      }
     },
     "39f63241353544e585ed3dccbfcc6306": {
      "model_module": "@jupyter-widgets/base",
      "model_module_version": "1.2.0",
      "model_name": "LayoutModel",
      "state": {}
     },
     "3aa8b97a1a0043f5bf70df753827a7e0": {
      "model_module": "@jupyter-widgets/controls",
      "model_module_version": "1.5.0",
      "model_name": "FloatProgressModel",
      "state": {
       "bar_style": "success",
       "layout": "IPY_MODEL_5ffe83123c034e86a9543fcf66e8cf0d",
       "max": 7,
       "style": "IPY_MODEL_81bd3e1e98024937a8ce1a05a67ef6d3",
       "value": 7
      }
     },
     "3abbe878948c4b2eb9c46a94e460ac3e": {
      "model_module": "@jupyter-widgets/base",
      "model_module_version": "1.2.0",
      "model_name": "LayoutModel",
      "state": {}
     },
     "3b4b7096e8dc40268bb6d486ff0ebbc7": {
      "model_module": "@jupyter-widgets/base",
      "model_module_version": "1.2.0",
      "model_name": "LayoutModel",
      "state": {}
     },
     "3b841de55ce5468b82b8fb893defadd9": {
      "model_module": "@jupyter-widgets/controls",
      "model_module_version": "1.5.0",
      "model_name": "DescriptionStyleModel",
      "state": {
       "description_width": ""
      }
     },
     "3be2657137364e3aadc37275842df643": {
      "model_module": "@jupyter-widgets/controls",
      "model_module_version": "1.5.0",
      "model_name": "HTMLModel",
      "state": {
       "layout": "IPY_MODEL_43df4f3b142a48978a691f3352ae5bbc",
       "style": "IPY_MODEL_ae1193e43db74205b40ddb4ad86071cd",
       "value": "100%"
      }
     },
     "3c38e0e4e2ce43e9af7d30c2a40f43db": {
      "model_module": "@jupyter-widgets/controls",
      "model_module_version": "1.5.0",
      "model_name": "FloatProgressModel",
      "state": {
       "bar_style": "danger",
       "layout": "IPY_MODEL_7a12ee7c10f94e79a6fd1cedfe41b802",
       "max": 12,
       "style": "IPY_MODEL_cb0cf6a79b89450e97ff2bafde7a21c8",
       "value": 3
      }
     },
     "3c456363fa0a491489d04e05a4cbe788": {
      "model_module": "@jupyter-widgets/controls",
      "model_module_version": "1.5.0",
      "model_name": "DescriptionStyleModel",
      "state": {
       "description_width": ""
      }
     },
     "3c47306872474eb39745f74d8ebd35b2": {
      "model_module": "@jupyter-widgets/controls",
      "model_module_version": "1.5.0",
      "model_name": "HBoxModel",
      "state": {
       "children": [
        "IPY_MODEL_40f42ebdf4ff4c39851de4038a190fde",
        "IPY_MODEL_5710aecc728a40c5a659d4d278c981c4",
        "IPY_MODEL_cb13add08f524541acd540f447038101"
       ],
       "layout": "IPY_MODEL_315eb326525c47f786dbc48e7624871c"
      }
     },
     "3c5302c32bc84ece861a89b6243cc98f": {
      "model_module": "@jupyter-widgets/controls",
      "model_module_version": "1.5.0",
      "model_name": "DescriptionStyleModel",
      "state": {
       "description_width": ""
      }
     },
     "3c68b872644c43078db6a3b93c29835b": {
      "model_module": "@jupyter-widgets/controls",
      "model_module_version": "1.5.0",
      "model_name": "ProgressStyleModel",
      "state": {
       "description_width": ""
      }
     },
     "3dc2068ea1c84748b37525e304045204": {
      "model_module": "@jupyter-widgets/controls",
      "model_module_version": "1.5.0",
      "model_name": "FloatProgressModel",
      "state": {
       "bar_style": "success",
       "layout": "IPY_MODEL_8293a98eedfd46cead79820d9a8e610e",
       "max": 12,
       "style": "IPY_MODEL_184c87c8768a47259542a6499ed84105",
       "value": 12
      }
     },
     "3e3f2953c24e488395797ce5f697c723": {
      "model_module": "@jupyter-widgets/controls",
      "model_module_version": "1.5.0",
      "model_name": "DescriptionStyleModel",
      "state": {
       "description_width": ""
      }
     },
     "3e5bcae8b4c44e329eb88400fa3388d1": {
      "model_module": "@jupyter-widgets/controls",
      "model_module_version": "1.5.0",
      "model_name": "HTMLModel",
      "state": {
       "layout": "IPY_MODEL_1fcb0dca50d148e8be5723d568e5dfee",
       "style": "IPY_MODEL_ce7db81374334b6ba2ba0ff1f9708bcb",
       "value": "100%"
      }
     },
     "3e6be846b854407f814f18d4a251fc49": {
      "model_module": "@jupyter-widgets/controls",
      "model_module_version": "1.5.0",
      "model_name": "HTMLModel",
      "state": {
       "layout": "IPY_MODEL_efaf4accece34cb984280fe913aa4929",
       "style": "IPY_MODEL_c4dd8a3796af4a9caebb5dbfff7a8c39",
       "value": " 12/12 [00:04&lt;00:00,  2.77it/s]"
      }
     },
     "3ec0624a7a2a47da8a9e8de18273548e": {
      "model_module": "@jupyter-widgets/controls",
      "model_module_version": "1.5.0",
      "model_name": "HTMLModel",
      "state": {
       "layout": "IPY_MODEL_d743733f45de49fba0dddaaaa21e4fc2",
       "style": "IPY_MODEL_1645a17e84684317a2d47cc4da1ca6a2",
       "value": " 12/12 [00:03&lt;00:00,  3.07it/s]"
      }
     },
     "3efee4733bf2472999124d638bab7cb4": {
      "model_module": "@jupyter-widgets/controls",
      "model_module_version": "1.5.0",
      "model_name": "ProgressStyleModel",
      "state": {
       "description_width": ""
      }
     },
     "3f0d9b6579754bc197198005143761a8": {
      "model_module": "@jupyter-widgets/controls",
      "model_module_version": "1.5.0",
      "model_name": "HBoxModel",
      "state": {
       "children": [
        "IPY_MODEL_2c45f08e8aa64b9ea80513b248ffaefa",
        "IPY_MODEL_6abc14b548eb486f82fd53bebfb06e4c",
        "IPY_MODEL_967a7649b4e240baaa5631de73c2bc8c"
       ],
       "layout": "IPY_MODEL_069f1a0ed05b412f8f3adab8bbbbb1f6"
      }
     },
     "3f7e6ee58a8e47fe99ad2de4ac105e0a": {
      "model_module": "@jupyter-widgets/controls",
      "model_module_version": "1.5.0",
      "model_name": "HTMLModel",
      "state": {
       "layout": "IPY_MODEL_e914b0cae3524c2690508243b7261186",
       "style": "IPY_MODEL_db65413029e24ef0938f05d820590f04",
       "value": "100%"
      }
     },
     "405cac166a3c4dd287aee7aac0deaf06": {
      "model_module": "@jupyter-widgets/base",
      "model_module_version": "1.2.0",
      "model_name": "LayoutModel",
      "state": {}
     },
     "40eff804c451460191c104c170ccb2b5": {
      "model_module": "@jupyter-widgets/controls",
      "model_module_version": "1.5.0",
      "model_name": "HBoxModel",
      "state": {
       "children": [
        "IPY_MODEL_e3b05f63534a419597f9cf0eff4deae8",
        "IPY_MODEL_b199403579bc401c84a7487e1c6c549a",
        "IPY_MODEL_ea5fb43f154c44019ab173931b857b40"
       ],
       "layout": "IPY_MODEL_5cd9c7412d1945528bd6be16b39d9e97"
      }
     },
     "40f42ebdf4ff4c39851de4038a190fde": {
      "model_module": "@jupyter-widgets/controls",
      "model_module_version": "1.5.0",
      "model_name": "HTMLModel",
      "state": {
       "layout": "IPY_MODEL_e4270b7b10314652b30398ab9d6bc28d",
       "style": "IPY_MODEL_cbd403d3f9cd48f3b7af19b50fecd53c",
       "value": "100%"
      }
     },
     "40f895eb90ab470592f4cb94f477d95d": {
      "model_module": "@jupyter-widgets/controls",
      "model_module_version": "1.5.0",
      "model_name": "HTMLModel",
      "state": {
       "layout": "IPY_MODEL_41866984d5aa49a4b5d67c1a423f82e0",
       "style": "IPY_MODEL_f372701f42694e21a2a4635b2f2ebad4",
       "value": " 12/12 [00:04&lt;00:00,  2.87it/s]"
      }
     },
     "4126bd079c284c33b59b4fbefbf4c58e": {
      "model_module": "@jupyter-widgets/controls",
      "model_module_version": "1.5.0",
      "model_name": "DescriptionStyleModel",
      "state": {
       "description_width": ""
      }
     },
     "41523bff8d80465090b41332d7f4ea31": {
      "model_module": "@jupyter-widgets/controls",
      "model_module_version": "1.5.0",
      "model_name": "HTMLModel",
      "state": {
       "layout": "IPY_MODEL_ddbf257379854a96b03c18e780dcced2",
       "style": "IPY_MODEL_820c1efd8f9c43159288714d55858dd3",
       "value": " 3/12 [00:00&lt;00:00, 68.24it/s]"
      }
     },
     "4158f32088fd4e65b69df3db9888c41b": {
      "model_module": "@jupyter-widgets/base",
      "model_module_version": "1.2.0",
      "model_name": "LayoutModel",
      "state": {}
     },
     "41866984d5aa49a4b5d67c1a423f82e0": {
      "model_module": "@jupyter-widgets/base",
      "model_module_version": "1.2.0",
      "model_name": "LayoutModel",
      "state": {}
     },
     "423d6a5b13f8491d9858179f39bd55df": {
      "model_module": "@jupyter-widgets/controls",
      "model_module_version": "1.5.0",
      "model_name": "DescriptionStyleModel",
      "state": {
       "description_width": ""
      }
     },
     "42ce16045dbd40ef8a2a4b427ac73fdb": {
      "model_module": "@jupyter-widgets/base",
      "model_module_version": "1.2.0",
      "model_name": "LayoutModel",
      "state": {}
     },
     "42d3afeb14d84a469e15b265e81f64f8": {
      "model_module": "@jupyter-widgets/controls",
      "model_module_version": "1.5.0",
      "model_name": "DescriptionStyleModel",
      "state": {
       "description_width": ""
      }
     },
     "42d5669c088c4a14a3bc0b27950380e8": {
      "model_module": "@jupyter-widgets/controls",
      "model_module_version": "1.5.0",
      "model_name": "FloatProgressModel",
      "state": {
       "bar_style": "success",
       "layout": "IPY_MODEL_4ba0dd8eef1f499b999e37bc4f983207",
       "max": 12,
       "style": "IPY_MODEL_22440b57ec9342368ef8289e82412802",
       "value": 12
      }
     },
     "43df4f3b142a48978a691f3352ae5bbc": {
      "model_module": "@jupyter-widgets/base",
      "model_module_version": "1.2.0",
      "model_name": "LayoutModel",
      "state": {}
     },
     "4446453e2eb341159509cb366a33bafe": {
      "model_module": "@jupyter-widgets/base",
      "model_module_version": "1.2.0",
      "model_name": "LayoutModel",
      "state": {}
     },
     "446ffc3bebc94447a11ec8b45c878681": {
      "model_module": "@jupyter-widgets/controls",
      "model_module_version": "1.5.0",
      "model_name": "HTMLModel",
      "state": {
       "layout": "IPY_MODEL_bf2d60a461ee4df5a7fab5c9200d577c",
       "style": "IPY_MODEL_ed787e3a053143dbba8163baee19850d",
       "value": " 8/? [00:11&lt;00:00,  1.39s/it]"
      }
     },
     "4521e1224cb34df8b5a132ab93d6a85f": {
      "model_module": "@jupyter-widgets/controls",
      "model_module_version": "1.5.0",
      "model_name": "HTMLModel",
      "state": {
       "layout": "IPY_MODEL_727130f713e048259474c4e197648898",
       "style": "IPY_MODEL_d46bfa312dfd4731a38670843419eb6e",
       "value": " 3/12 [00:01&lt;00:04,  2.25it/s]"
      }
     },
     "4543d9eb5c5a49ac88d9ce2e1f6a33fb": {
      "model_module": "@jupyter-widgets/base",
      "model_module_version": "1.2.0",
      "model_name": "LayoutModel",
      "state": {}
     },
     "4565be822bd644f086251b9090515eaf": {
      "model_module": "@jupyter-widgets/controls",
      "model_module_version": "1.5.0",
      "model_name": "DescriptionStyleModel",
      "state": {
       "description_width": ""
      }
     },
     "45cd45efa6224fcaa60178bcc5e4fe1e": {
      "model_module": "@jupyter-widgets/base",
      "model_module_version": "1.2.0",
      "model_name": "LayoutModel",
      "state": {}
     },
     "45d26afec53946118d763f2922961701": {
      "model_module": "@jupyter-widgets/base",
      "model_module_version": "1.2.0",
      "model_name": "LayoutModel",
      "state": {}
     },
     "463bfd0fa6294fd684731265b9c205c7": {
      "model_module": "@jupyter-widgets/controls",
      "model_module_version": "1.5.0",
      "model_name": "HTMLModel",
      "state": {
       "layout": "IPY_MODEL_b7e2045a75764f0fb1c21af0e9dc0211",
       "style": "IPY_MODEL_e404af6575414266bb4571696f4c32e4",
       "value": "100%"
      }
     },
     "466bba0eb6ac41688c825199c068b93f": {
      "model_module": "@jupyter-widgets/base",
      "model_module_version": "1.2.0",
      "model_name": "LayoutModel",
      "state": {}
     },
     "46950570e6ce4b0ab5844a2e14534787": {
      "model_module": "@jupyter-widgets/controls",
      "model_module_version": "1.5.0",
      "model_name": "HBoxModel",
      "state": {
       "children": [
        "IPY_MODEL_3be2657137364e3aadc37275842df643",
        "IPY_MODEL_cab8a79d3db04eb4ad0fa09cf9ee34b7",
        "IPY_MODEL_40f895eb90ab470592f4cb94f477d95d"
       ],
       "layout": "IPY_MODEL_9c6660e5a427423ca7c378504d26e706"
      }
     },
     "46b1b355dbb94b7cb1daf3037f52e559": {
      "model_module": "@jupyter-widgets/base",
      "model_module_version": "1.2.0",
      "model_name": "LayoutModel",
      "state": {}
     },
     "477666f9aa0341b99f67f42d7be019ce": {
      "model_module": "@jupyter-widgets/controls",
      "model_module_version": "1.5.0",
      "model_name": "HTMLModel",
      "state": {
       "layout": "IPY_MODEL_dac77fdd9cbd4bffaceece82d70da96d",
       "style": "IPY_MODEL_2b5e05d3c51942d6bf453c9fd0e5b246",
       "value": "100%"
      }
     },
     "47921722bbcb4fce8aa6bc9394fae7ff": {
      "model_module": "@jupyter-widgets/controls",
      "model_module_version": "1.5.0",
      "model_name": "HBoxModel",
      "state": {
       "children": [
        "IPY_MODEL_e37259127f1e4d22beba9fd2f17889e1",
        "IPY_MODEL_cf69793ffb5340d799de9f691898f17c",
        "IPY_MODEL_0fc44f010d044edaa09cabca7d7d034f"
       ],
       "layout": "IPY_MODEL_1f98bd8299524ffcb5c6ea14c472e9f5"
      }
     },
     "4830f5aba35c4dec8c0a7e57fbbe2c2c": {
      "model_module": "@jupyter-widgets/base",
      "model_module_version": "1.2.0",
      "model_name": "LayoutModel",
      "state": {}
     },
     "48ed88ec672348d38a0cabdd67b93aaf": {
      "model_module": "@jupyter-widgets/controls",
      "model_module_version": "1.5.0",
      "model_name": "DescriptionStyleModel",
      "state": {
       "description_width": ""
      }
     },
     "4982bcd47f5441f98610597ce0e81ad1": {
      "model_module": "@jupyter-widgets/controls",
      "model_module_version": "1.5.0",
      "model_name": "DescriptionStyleModel",
      "state": {
       "description_width": ""
      }
     },
     "4aedfd03aa53467fb45081179d380caa": {
      "model_module": "@jupyter-widgets/controls",
      "model_module_version": "1.5.0",
      "model_name": "HBoxModel",
      "state": {
       "children": [
        "IPY_MODEL_b27081dea23f464ea7681af29beabcca",
        "IPY_MODEL_4d60e8cb981240dbb64ec9520a9590b6",
        "IPY_MODEL_13f6fe5857cd4b89bd0619d0dd1a907d"
       ],
       "layout": "IPY_MODEL_bb9b551438f04df189e7259addc212b1"
      }
     },
     "4afd52c531fb46a9b711891491cdb85c": {
      "model_module": "@jupyter-widgets/controls",
      "model_module_version": "1.5.0",
      "model_name": "HBoxModel",
      "state": {
       "children": [
        "IPY_MODEL_3f7e6ee58a8e47fe99ad2de4ac105e0a",
        "IPY_MODEL_022ba79279234fb18f885b6808a2bfc4",
        "IPY_MODEL_bca8f817de71433c9f815cb97d912067"
       ],
       "layout": "IPY_MODEL_079b4f6d1e98471ea39722f248db2bf6"
      }
     },
     "4b2afb492e1040488555c11b4b325c93": {
      "model_module": "@jupyter-widgets/controls",
      "model_module_version": "1.5.0",
      "model_name": "HTMLModel",
      "state": {
       "layout": "IPY_MODEL_25b32bf41e5c487ebeb549db7163c459",
       "style": "IPY_MODEL_ee57c0e31aa847d2815164107dc6c0ff",
       "value": "Plotting med_torque_1: "
      }
     },
     "4b3f9734a63245a0a5bab57d3d8d2c7f": {
      "model_module": "@jupyter-widgets/base",
      "model_module_version": "1.2.0",
      "model_name": "LayoutModel",
      "state": {}
     },
     "4ba0dd8eef1f499b999e37bc4f983207": {
      "model_module": "@jupyter-widgets/base",
      "model_module_version": "1.2.0",
      "model_name": "LayoutModel",
      "state": {}
     },
     "4bc524cfc19c4c2e9f5503ed765c6acf": {
      "model_module": "@jupyter-widgets/base",
      "model_module_version": "1.2.0",
      "model_name": "LayoutModel",
      "state": {}
     },
     "4bd965ad38bc4415b11025860f4bc172": {
      "model_module": "@jupyter-widgets/base",
      "model_module_version": "1.2.0",
      "model_name": "LayoutModel",
      "state": {}
     },
     "4bebe5bf81c04013894679d82c302f30": {
      "model_module": "@jupyter-widgets/controls",
      "model_module_version": "1.5.0",
      "model_name": "DescriptionStyleModel",
      "state": {
       "description_width": ""
      }
     },
     "4bf3970ffa8a4fa5a731736562286e92": {
      "model_module": "@jupyter-widgets/controls",
      "model_module_version": "1.5.0",
      "model_name": "FloatProgressModel",
      "state": {
       "bar_style": "success",
       "layout": "IPY_MODEL_aaaf02fa4b1c4dbcabde1c457204a1ce",
       "max": 12,
       "style": "IPY_MODEL_c47472da28684f52875576bbabb1f147",
       "value": 12
      }
     },
     "4c3617524a1b4369b9d6676d10d6f621": {
      "model_module": "@jupyter-widgets/controls",
      "model_module_version": "1.5.0",
      "model_name": "DescriptionStyleModel",
      "state": {
       "description_width": ""
      }
     },
     "4c858d2ca1b34822b11653c2f6858bc4": {
      "model_module": "@jupyter-widgets/controls",
      "model_module_version": "1.5.0",
      "model_name": "DescriptionStyleModel",
      "state": {
       "description_width": ""
      }
     },
     "4d60e8cb981240dbb64ec9520a9590b6": {
      "model_module": "@jupyter-widgets/controls",
      "model_module_version": "1.5.0",
      "model_name": "FloatProgressModel",
      "state": {
       "bar_style": "success",
       "layout": "IPY_MODEL_7126012f902f4bb0ba41cdf45ba9a57b",
       "max": 12,
       "style": "IPY_MODEL_ff21f6d7fdf449b58d80af969d152366",
       "value": 12
      }
     },
     "4e618a71afe84ef3bb732156522e37be": {
      "model_module": "@jupyter-widgets/base",
      "model_module_version": "1.2.0",
      "model_name": "LayoutModel",
      "state": {}
     },
     "4eb427a51a17434990cdd393ec1d0bf2": {
      "model_module": "@jupyter-widgets/controls",
      "model_module_version": "1.5.0",
      "model_name": "ProgressStyleModel",
      "state": {
       "description_width": ""
      }
     },
     "4f0c5c6ef37f4d628a6706f820194eef": {
      "model_module": "@jupyter-widgets/controls",
      "model_module_version": "1.5.0",
      "model_name": "DescriptionStyleModel",
      "state": {
       "description_width": ""
      }
     },
     "4f54d014619848dc835983729d1f1245": {
      "model_module": "@jupyter-widgets/base",
      "model_module_version": "1.2.0",
      "model_name": "LayoutModel",
      "state": {}
     },
     "4f698f1b7cc945b69e263f0646e82487": {
      "model_module": "@jupyter-widgets/controls",
      "model_module_version": "1.5.0",
      "model_name": "HTMLModel",
      "state": {
       "layout": "IPY_MODEL_9992021a9ae74678a1b60357457c15cb",
       "style": "IPY_MODEL_bb37d03cb6264863b05240722b2ddbff",
       "value": "100%"
      }
     },
     "4f6d4d9b20814dc8aadf40d4c58f4cd2": {
      "model_module": "@jupyter-widgets/base",
      "model_module_version": "1.2.0",
      "model_name": "LayoutModel",
      "state": {}
     },
     "4f74bca90e7d4931b73f453692d56ad5": {
      "model_module": "@jupyter-widgets/controls",
      "model_module_version": "1.5.0",
      "model_name": "DescriptionStyleModel",
      "state": {
       "description_width": ""
      }
     },
     "503deb9b034b4e7f9996caeb5a727900": {
      "model_module": "@jupyter-widgets/controls",
      "model_module_version": "1.5.0",
      "model_name": "FloatProgressModel",
      "state": {
       "bar_style": "success",
       "layout": "IPY_MODEL_d685871108c04542beadeb74c6f1a740",
       "max": 12,
       "style": "IPY_MODEL_5e83e5d2e8e0488c8a4f5e7ba8d2bc1b",
       "value": 12
      }
     },
     "508c46697de441d5a657581d107cc88a": {
      "model_module": "@jupyter-widgets/controls",
      "model_module_version": "1.5.0",
      "model_name": "ProgressStyleModel",
      "state": {
       "description_width": ""
      }
     },
     "519bb50f0e4146f49547292d713ea792": {
      "model_module": "@jupyter-widgets/controls",
      "model_module_version": "1.5.0",
      "model_name": "HTMLModel",
      "state": {
       "layout": "IPY_MODEL_1aa4b14d10884dfea4d7d26da702969a",
       "style": "IPY_MODEL_908a84d83f7449a4a04f8e0ae2a7a0cc",
       "value": "100%"
      }
     },
     "51da44adbb834063838d3e0fdacf91ee": {
      "model_module": "@jupyter-widgets/base",
      "model_module_version": "1.2.0",
      "model_name": "LayoutModel",
      "state": {}
     },
     "51dea163efa247d4b3599101a49cd557": {
      "model_module": "@jupyter-widgets/base",
      "model_module_version": "1.2.0",
      "model_name": "LayoutModel",
      "state": {}
     },
     "523ed3e7669f462d8930d5d40b0dcc1e": {
      "model_module": "@jupyter-widgets/controls",
      "model_module_version": "1.5.0",
      "model_name": "HTMLModel",
      "state": {
       "layout": "IPY_MODEL_e28e677fabe140cc836e6ca3ca68d571",
       "style": "IPY_MODEL_04ccea20a1394cb787d47b90ba25666b",
       "value": " 3/12 [00:02&lt;00:06,  1.38it/s]"
      }
     },
     "525573bb44cc4feda47f2cb57179ee1d": {
      "model_module": "@jupyter-widgets/controls",
      "model_module_version": "1.5.0",
      "model_name": "ProgressStyleModel",
      "state": {
       "description_width": ""
      }
     },
     "52b8977b8ffa4c538bf2c62c9696749f": {
      "model_module": "@jupyter-widgets/controls",
      "model_module_version": "1.5.0",
      "model_name": "HTMLModel",
      "state": {
       "layout": "IPY_MODEL_5a8ec8d248814ce5b44acbd6d0235a54",
       "style": "IPY_MODEL_3e3f2953c24e488395797ce5f697c723",
       "value": " 12/12 [00:02&lt;00:00,  4.63it/s]"
      }
     },
     "531e30a4aabf40eab41ddb68431ae512": {
      "model_module": "@jupyter-widgets/controls",
      "model_module_version": "1.5.0",
      "model_name": "ProgressStyleModel",
      "state": {
       "description_width": ""
      }
     },
     "5408b3ca2999476ab1785e2ce4d23eba": {
      "model_module": "@jupyter-widgets/base",
      "model_module_version": "1.2.0",
      "model_name": "LayoutModel",
      "state": {}
     },
     "545f286716274e24ae7b265cfe2b1f22": {
      "model_module": "@jupyter-widgets/controls",
      "model_module_version": "1.5.0",
      "model_name": "FloatProgressModel",
      "state": {
       "bar_style": "success",
       "layout": "IPY_MODEL_facadb19f05a4438b5872c7e57e7d45e",
       "max": 12,
       "style": "IPY_MODEL_1911fc95899546a4b1dd9f7c635977b4",
       "value": 12
      }
     },
     "54cc2481550c4a6a8c57d9e615868a65": {
      "model_module": "@jupyter-widgets/controls",
      "model_module_version": "1.5.0",
      "model_name": "FloatProgressModel",
      "state": {
       "bar_style": "success",
       "layout": "IPY_MODEL_82a61f89e33e4127a2aaf09aa91d0b36",
       "max": 7,
       "style": "IPY_MODEL_8a8c93eb3ef54e399941846bb5f1668e",
       "value": 7
      }
     },
     "54cd0a1b336c472caef73f93b829765d": {
      "model_module": "@jupyter-widgets/controls",
      "model_module_version": "1.5.0",
      "model_name": "DescriptionStyleModel",
      "state": {
       "description_width": ""
      }
     },
     "54cf363960424fe59095972a461aba0f": {
      "model_module": "@jupyter-widgets/base",
      "model_module_version": "1.2.0",
      "model_name": "LayoutModel",
      "state": {}
     },
     "55c5061df2034606ac2de999c63f7506": {
      "model_module": "@jupyter-widgets/controls",
      "model_module_version": "1.5.0",
      "model_name": "DescriptionStyleModel",
      "state": {
       "description_width": ""
      }
     },
     "55d6e676871d48dba9b1aec5ab572fd6": {
      "model_module": "@jupyter-widgets/controls",
      "model_module_version": "1.5.0",
      "model_name": "DescriptionStyleModel",
      "state": {
       "description_width": ""
      }
     },
     "55e2c6c59908439a923ff4fad09d823f": {
      "model_module": "@jupyter-widgets/controls",
      "model_module_version": "1.5.0",
      "model_name": "HTMLModel",
      "state": {
       "layout": "IPY_MODEL_e7e2db65fff942b7b4848f5205c1a340",
       "style": "IPY_MODEL_7090a7fe88604b6fb52821fb4c809923",
       "value": " 12/12 [00:05&lt;00:00,  2.26it/s]"
      }
     },
     "562c6f809b6a4bd2847c6a6d7a8bcba4": {
      "model_module": "@jupyter-widgets/controls",
      "model_module_version": "1.5.0",
      "model_name": "DescriptionStyleModel",
      "state": {
       "description_width": ""
      }
     },
     "562ed32f36904a3e87eba2f08a216d0b": {
      "model_module": "@jupyter-widgets/base",
      "model_module_version": "1.2.0",
      "model_name": "LayoutModel",
      "state": {}
     },
     "5699b100e50e42c2ba5054ad00b07c65": {
      "model_module": "@jupyter-widgets/controls",
      "model_module_version": "1.5.0",
      "model_name": "FloatProgressModel",
      "state": {
       "bar_style": "danger",
       "layout": "IPY_MODEL_a4fd9a9d692f4306b7c02752f8f3f6e7",
       "max": 12,
       "style": "IPY_MODEL_fd9934f590e24bfd89d71eda12a9ff0b",
       "value": 3
      }
     },
     "56a5c704193241d89911914fdf1285a6": {
      "model_module": "@jupyter-widgets/controls",
      "model_module_version": "1.5.0",
      "model_name": "HBoxModel",
      "state": {
       "children": [
        "IPY_MODEL_e6675bebc8d34c2a82721a55adf9d79b",
        "IPY_MODEL_293e20c7e73e46cda8cde53921c4dada",
        "IPY_MODEL_c285fa8e58f14072a86dc93d3b434032"
       ],
       "layout": "IPY_MODEL_2b384d3f63a34b858945da25655c835b"
      }
     },
     "5710aecc728a40c5a659d4d278c981c4": {
      "model_module": "@jupyter-widgets/controls",
      "model_module_version": "1.5.0",
      "model_name": "FloatProgressModel",
      "state": {
       "bar_style": "success",
       "layout": "IPY_MODEL_680197ae4c7f4325b169c4c410a541af",
       "max": 12,
       "style": "IPY_MODEL_d621520fc9404e3eb9c94fa5e38f817d",
       "value": 12
      }
     },
     "5770ce2061bf454da418f95f99fbc6d0": {
      "model_module": "@jupyter-widgets/controls",
      "model_module_version": "1.5.0",
      "model_name": "FloatProgressModel",
      "state": {
       "bar_style": "success",
       "layout": "IPY_MODEL_cd4dd186b41441c7b03b391c9b144662",
       "max": 12,
       "style": "IPY_MODEL_a691892e969a4077a631a59b576e4e4b",
       "value": 12
      }
     },
     "57dc054d8f9d40d288de97ba6a036398": {
      "model_module": "@jupyter-widgets/controls",
      "model_module_version": "1.5.0",
      "model_name": "DescriptionStyleModel",
      "state": {
       "description_width": ""
      }
     },
     "57f0512c8934417682fab3fea0b012c0": {
      "model_module": "@jupyter-widgets/base",
      "model_module_version": "1.2.0",
      "model_name": "LayoutModel",
      "state": {}
     },
     "57f1dadc9caf487bb2d7eeca73c32a5f": {
      "model_module": "@jupyter-widgets/base",
      "model_module_version": "1.2.0",
      "model_name": "LayoutModel",
      "state": {}
     },
     "57fc6cfbf24f4071a00b66c245d4956b": {
      "model_module": "@jupyter-widgets/controls",
      "model_module_version": "1.5.0",
      "model_name": "ProgressStyleModel",
      "state": {
       "description_width": ""
      }
     },
     "58dd15002ea04267ae38e02fd356e3c0": {
      "model_module": "@jupyter-widgets/controls",
      "model_module_version": "1.5.0",
      "model_name": "DescriptionStyleModel",
      "state": {
       "description_width": ""
      }
     },
     "5922091a9cfc424ebaacde28baefbd1c": {
      "model_module": "@jupyter-widgets/controls",
      "model_module_version": "1.5.0",
      "model_name": "DescriptionStyleModel",
      "state": {
       "description_width": ""
      }
     },
     "5937e4a896f34585867f7d6761077824": {
      "model_module": "@jupyter-widgets/base",
      "model_module_version": "1.2.0",
      "model_name": "LayoutModel",
      "state": {}
     },
     "596c047ea4c347f89287ffb067c8e00b": {
      "model_module": "@jupyter-widgets/base",
      "model_module_version": "1.2.0",
      "model_name": "LayoutModel",
      "state": {}
     },
     "5984c1d25bae42f8919e9e711f4d1e2a": {
      "model_module": "@jupyter-widgets/controls",
      "model_module_version": "1.5.0",
      "model_name": "HTMLModel",
      "state": {
       "layout": "IPY_MODEL_b095452739ab4c27aae22b99f05bc1a7",
       "style": "IPY_MODEL_f109b47add1a4649922eba4fc8f09be4",
       "value": " 12/12 [00:05&lt;00:00,  2.13it/s]"
      }
     },
     "59879bc7af984a8b91d2fff8fa2f7b6a": {
      "model_module": "@jupyter-widgets/controls",
      "model_module_version": "1.5.0",
      "model_name": "FloatProgressModel",
      "state": {
       "bar_style": "success",
       "layout": "IPY_MODEL_46b1b355dbb94b7cb1daf3037f52e559",
       "max": 12,
       "style": "IPY_MODEL_372c6de92b254117948924329c1941b8",
       "value": 12
      }
     },
     "5a2dabe8537747f295557cde9ea7fae2": {
      "model_module": "@jupyter-widgets/controls",
      "model_module_version": "1.5.0",
      "model_name": "DescriptionStyleModel",
      "state": {
       "description_width": ""
      }
     },
     "5a4cda13a79c4caa9634086a0fed4037": {
      "model_module": "@jupyter-widgets/base",
      "model_module_version": "1.2.0",
      "model_name": "LayoutModel",
      "state": {}
     },
     "5a76a82859a94a4695de4f1e119e32e4": {
      "model_module": "@jupyter-widgets/controls",
      "model_module_version": "1.5.0",
      "model_name": "DescriptionStyleModel",
      "state": {
       "description_width": ""
      }
     },
     "5a8ec8d248814ce5b44acbd6d0235a54": {
      "model_module": "@jupyter-widgets/base",
      "model_module_version": "1.2.0",
      "model_name": "LayoutModel",
      "state": {}
     },
     "5ab33442374949bca262109c38ed230a": {
      "model_module": "@jupyter-widgets/controls",
      "model_module_version": "1.5.0",
      "model_name": "FloatProgressModel",
      "state": {
       "bar_style": "success",
       "layout": "IPY_MODEL_23af601bd03b490eae338a8024de488e",
       "max": 12,
       "style": "IPY_MODEL_398f9f0c738345228e3ce94cd1ce7135",
       "value": 12
      }
     },
     "5b2caab24b6b40eebfdcb050b6c625bd": {
      "model_module": "@jupyter-widgets/controls",
      "model_module_version": "1.5.0",
      "model_name": "HTMLModel",
      "state": {
       "layout": "IPY_MODEL_f8cd1baec2364105be01e3628dbdd0fb",
       "style": "IPY_MODEL_423d6a5b13f8491d9858179f39bd55df",
       "value": "100%"
      }
     },
     "5b628663f1d746f5a9922676b85ce66e": {
      "model_module": "@jupyter-widgets/base",
      "model_module_version": "1.2.0",
      "model_name": "LayoutModel",
      "state": {}
     },
     "5bcff0ead56e4d729b4d7bc73d1c59ae": {
      "model_module": "@jupyter-widgets/controls",
      "model_module_version": "1.5.0",
      "model_name": "ButtonStyleModel",
      "state": {}
     },
     "5be7b5522eb9449692c78973717330dc": {
      "model_module": "@jupyter-widgets/controls",
      "model_module_version": "1.5.0",
      "model_name": "HTMLModel",
      "state": {
       "layout": "IPY_MODEL_ced84daca2934560be350f596e1f77fe",
       "style": "IPY_MODEL_9f35e279463b4cbda12f48f3cfdf4504",
       "value": "100%"
      }
     },
     "5cd9c7412d1945528bd6be16b39d9e97": {
      "model_module": "@jupyter-widgets/base",
      "model_module_version": "1.2.0",
      "model_name": "LayoutModel",
      "state": {}
     },
     "5e1e574db08f43d38846b5959b67132c": {
      "model_module": "@jupyter-widgets/controls",
      "model_module_version": "1.5.0",
      "model_name": "ProgressStyleModel",
      "state": {
       "description_width": ""
      }
     },
     "5e83e5d2e8e0488c8a4f5e7ba8d2bc1b": {
      "model_module": "@jupyter-widgets/controls",
      "model_module_version": "1.5.0",
      "model_name": "ProgressStyleModel",
      "state": {
       "description_width": ""
      }
     },
     "5f3f9930fc2b451a91fb4f22ebe9cdf7": {
      "model_module": "@jupyter-widgets/base",
      "model_module_version": "1.2.0",
      "model_name": "LayoutModel",
      "state": {}
     },
     "5f68bd47fda148f78241164e41beeb56": {
      "model_module": "@jupyter-widgets/base",
      "model_module_version": "1.2.0",
      "model_name": "LayoutModel",
      "state": {}
     },
     "5f69d11c3dca4005996711a26d5c8457": {
      "model_module": "@jupyter-widgets/controls",
      "model_module_version": "1.5.0",
      "model_name": "FloatProgressModel",
      "state": {
       "bar_style": "success",
       "layout": "IPY_MODEL_34548ae66d0b463ab5f5005e930a3b8c",
       "max": 12,
       "style": "IPY_MODEL_dd790b88878a4ad09cdedf4ea2f8f5b1",
       "value": 12
      }
     },
     "5ffe83123c034e86a9543fcf66e8cf0d": {
      "model_module": "@jupyter-widgets/base",
      "model_module_version": "1.2.0",
      "model_name": "LayoutModel",
      "state": {}
     },
     "60938cd16fcd49af9e3593c10716d53c": {
      "model_module": "@jupyter-widgets/controls",
      "model_module_version": "1.5.0",
      "model_name": "HTMLModel",
      "state": {
       "layout": "IPY_MODEL_405cac166a3c4dd287aee7aac0deaf06",
       "style": "IPY_MODEL_9e835485cbc0452495bcaa40c3b284ba",
       "value": "100%"
      }
     },
     "60c7367f0e2b455a90ecf43dec46054c": {
      "model_module": "@jupyter-widgets/controls",
      "model_module_version": "1.5.0",
      "model_name": "FloatProgressModel",
      "state": {
       "bar_style": "success",
       "layout": "IPY_MODEL_110af7d3b873400ba52d850356f38f5f",
       "max": 7,
       "style": "IPY_MODEL_78fb0a9f5a3d494588ad873ddbcac269",
       "value": 7
      }
     },
     "61f7d123f3214357b13b108a84c49d3b": {
      "model_module": "@jupyter-widgets/base",
      "model_module_version": "1.2.0",
      "model_name": "LayoutModel",
      "state": {}
     },
     "62b6035083f14c9ca872a3c1efa02a45": {
      "model_module": "@jupyter-widgets/base",
      "model_module_version": "1.2.0",
      "model_name": "LayoutModel",
      "state": {}
     },
     "632f92a1704b46658933cf8ede18203c": {
      "model_module": "@jupyter-widgets/base",
      "model_module_version": "1.2.0",
      "model_name": "LayoutModel",
      "state": {}
     },
     "63ff7234fd5c4f8da90333fa6f876b18": {
      "model_module": "@jupyter-widgets/base",
      "model_module_version": "1.2.0",
      "model_name": "LayoutModel",
      "state": {}
     },
     "657d2a2b05a44b9ca1a48eedad683216": {
      "model_module": "@jupyter-widgets/controls",
      "model_module_version": "1.5.0",
      "model_name": "HBoxModel",
      "state": {
       "children": [
        "IPY_MODEL_7a73dd42f6824a7ca41606bf6d406af8",
        "IPY_MODEL_a4e92fb422be449da5f936fbfb001ab8",
        "IPY_MODEL_96d1925b48694e6a950780aa31089dff"
       ],
       "layout": "IPY_MODEL_83aecff4578445aaa13b5c492f5172c7"
      }
     },
     "65b7b73c03f146148c636d03a1f8a55e": {
      "model_module": "@jupyter-widgets/base",
      "model_module_version": "1.2.0",
      "model_name": "LayoutModel",
      "state": {}
     },
     "65d527ac27e1472f8fc7b2918717dfaa": {
      "model_module": "@jupyter-widgets/base",
      "model_module_version": "1.2.0",
      "model_name": "LayoutModel",
      "state": {}
     },
     "660b4efe0a894ac39fd53f1ed4f33ffb": {
      "model_module": "@jupyter-widgets/base",
      "model_module_version": "1.2.0",
      "model_name": "LayoutModel",
      "state": {}
     },
     "668fb81c51e04796be03490d1b191672": {
      "model_module": "@jupyter-widgets/controls",
      "model_module_version": "1.5.0",
      "model_name": "DescriptionStyleModel",
      "state": {
       "description_width": ""
      }
     },
     "66f20e31d9c34b8493a080279ea57b09": {
      "model_module": "@jupyter-widgets/base",
      "model_module_version": "1.2.0",
      "model_name": "LayoutModel",
      "state": {}
     },
     "66fb2a1b5f8b4ce195ecbdd1174737ee": {
      "model_module": "@jupyter-widgets/controls",
      "model_module_version": "1.5.0",
      "model_name": "HBoxModel",
      "state": {
       "children": [
        "IPY_MODEL_c322f517a40049518510187997433b8a",
        "IPY_MODEL_6f4be8486ac644c98213a63f88649bc3",
        "IPY_MODEL_b508082c1190414b8dae0dc520a89cec"
       ],
       "layout": "IPY_MODEL_65d527ac27e1472f8fc7b2918717dfaa"
      }
     },
     "6712eefefe9144dd9bab07e75d652f6f": {
      "model_module": "@jupyter-widgets/controls",
      "model_module_version": "1.5.0",
      "model_name": "DescriptionStyleModel",
      "state": {
       "description_width": ""
      }
     },
     "67453d7ff4e04c5a82a40d36ad8617bb": {
      "model_module": "@jupyter-widgets/controls",
      "model_module_version": "1.5.0",
      "model_name": "DescriptionStyleModel",
      "state": {
       "description_width": ""
      }
     },
     "680197ae4c7f4325b169c4c410a541af": {
      "model_module": "@jupyter-widgets/base",
      "model_module_version": "1.2.0",
      "model_name": "LayoutModel",
      "state": {}
     },
     "68da2199ea7047fd9554f55137a4ffdb": {
      "model_module": "@jupyter-widgets/controls",
      "model_module_version": "1.5.0",
      "model_name": "HTMLModel",
      "state": {
       "layout": "IPY_MODEL_07e39326ed974adc8c802d83ef56467f",
       "style": "IPY_MODEL_eb34e04b9bcc4d90af3861745cfcfecc",
       "value": "100%"
      }
     },
     "6921959b79ad41209ca12a21ef24724f": {
      "model_module": "@jupyter-widgets/controls",
      "model_module_version": "1.5.0",
      "model_name": "ProgressStyleModel",
      "state": {
       "description_width": ""
      }
     },
     "6945ab9d561b420899e7b8c2aa8526d1": {
      "model_module": "@jupyter-widgets/controls",
      "model_module_version": "1.5.0",
      "model_name": "ProgressStyleModel",
      "state": {
       "description_width": ""
      }
     },
     "6955f9bb923e41139544cf44e27454ff": {
      "model_module": "@jupyter-widgets/base",
      "model_module_version": "1.2.0",
      "model_name": "LayoutModel",
      "state": {}
     },
     "699cb6f8c0da459e81d7c9048bbf6bc0": {
      "model_module": "@jupyter-widgets/controls",
      "model_module_version": "1.5.0",
      "model_name": "HTMLModel",
      "state": {
       "layout": "IPY_MODEL_75a01749be0f4482bf93e6efd5842c6e",
       "style": "IPY_MODEL_7e328b16acce43929415519c42429e18",
       "value": "100%"
      }
     },
     "69f8d3c1726745cc9ba52a8af867f613": {
      "model_module": "@jupyter-widgets/controls",
      "model_module_version": "1.5.0",
      "model_name": "DescriptionStyleModel",
      "state": {
       "description_width": ""
      }
     },
     "6a6206ba422940dbbe4ed6037d51e88f": {
      "model_module": "@jupyter-widgets/controls",
      "model_module_version": "1.5.0",
      "model_name": "DescriptionStyleModel",
      "state": {
       "description_width": ""
      }
     },
     "6abc14b548eb486f82fd53bebfb06e4c": {
      "model_module": "@jupyter-widgets/controls",
      "model_module_version": "1.5.0",
      "model_name": "FloatProgressModel",
      "state": {
       "bar_style": "success",
       "layout": "IPY_MODEL_1153a9a409174f0fbe80f9e2255d4ed1",
       "max": 12,
       "style": "IPY_MODEL_8e0dbfc939854ed0892801cc7a73f751",
       "value": 12
      }
     },
     "6abc3b67cc4148828b1eab65ba6e5c5d": {
      "model_module": "@jupyter-widgets/controls",
      "model_module_version": "1.5.0",
      "model_name": "ProgressStyleModel",
      "state": {
       "description_width": ""
      }
     },
     "6b0d11f1f8b34359b6be33fd6bb9cd09": {
      "model_module": "@jupyter-widgets/controls",
      "model_module_version": "1.5.0",
      "model_name": "HTMLModel",
      "state": {
       "layout": "IPY_MODEL_cfcf1bb696894f9eb45e8a4cb93d57e6",
       "style": "IPY_MODEL_818ef3426f75418b81d45afe51e9374e",
       "value": " 12/12 [00:02&lt;00:00,  4.27it/s]"
      }
     },
     "6b4bd85a573246f3bf367a2dab85a471": {
      "model_module": "@jupyter-widgets/controls",
      "model_module_version": "1.5.0",
      "model_name": "DescriptionStyleModel",
      "state": {
       "description_width": ""
      }
     },
     "6b6be3bf62e942a3a315985de46021bd": {
      "model_module": "@jupyter-widgets/controls",
      "model_module_version": "1.5.0",
      "model_name": "FloatProgressModel",
      "state": {
       "bar_style": "success",
       "layout": "IPY_MODEL_8c222fdeee4f40be86573973cf146355",
       "max": 7,
       "style": "IPY_MODEL_7c6c6a04d0b1466d9c5ae3bfec2e898e",
       "value": 7
      }
     },
     "6bdd44456b164571b67d4970889255d3": {
      "model_module": "@jupyter-widgets/base",
      "model_module_version": "1.2.0",
      "model_name": "LayoutModel",
      "state": {}
     },
     "6c74c4da9c9843c79a7757d5e8c1cd3e": {
      "model_module": "@jupyter-widgets/controls",
      "model_module_version": "1.5.0",
      "model_name": "ProgressStyleModel",
      "state": {
       "description_width": ""
      }
     },
     "6cc4149ffb7f473d9b658159e46b89e9": {
      "model_module": "@jupyter-widgets/controls",
      "model_module_version": "1.5.0",
      "model_name": "DescriptionStyleModel",
      "state": {
       "description_width": ""
      }
     },
     "6cc4b19b9caa4807b8cbade1f293a63b": {
      "model_module": "@jupyter-widgets/controls",
      "model_module_version": "1.5.0",
      "model_name": "ProgressStyleModel",
      "state": {
       "description_width": ""
      }
     },
     "6cc5e143d0d94c9192ef320968212de7": {
      "model_module": "@jupyter-widgets/controls",
      "model_module_version": "1.5.0",
      "model_name": "DescriptionStyleModel",
      "state": {
       "description_width": ""
      }
     },
     "6ccc5518770b4cbab0cd1313c228b421": {
      "model_module": "@jupyter-widgets/controls",
      "model_module_version": "1.5.0",
      "model_name": "HTMLModel",
      "state": {
       "layout": "IPY_MODEL_977baab632754ae585b0454fd619d745",
       "style": "IPY_MODEL_163d8dce23a74b16a289ff030ec671d4",
       "value": " 12/12 [00:04&lt;00:00,  2.84it/s]"
      }
     },
     "6d4cfddeee81475b8bcbcb722cce0087": {
      "model_module": "@jupyter-widgets/base",
      "model_module_version": "1.2.0",
      "model_name": "LayoutModel",
      "state": {}
     },
     "6db53351311b4a4ead4b5a63b5b5afdb": {
      "model_module": "@jupyter-widgets/controls",
      "model_module_version": "1.5.0",
      "model_name": "ProgressStyleModel",
      "state": {
       "description_width": ""
      }
     },
     "6db61a18f96e4f3fb9d737521ed293b9": {
      "model_module": "@jupyter-widgets/controls",
      "model_module_version": "1.5.0",
      "model_name": "HTMLModel",
      "state": {
       "layout": "IPY_MODEL_cd1745989e8a4543b86cce681f8c1824",
       "style": "IPY_MODEL_b2a3c6d4af02480fa70bd62a200f095b",
       "value": "100%"
      }
     },
     "6dc7a76dacd84dfc899162f20a7685d4": {
      "model_module": "@jupyter-widgets/controls",
      "model_module_version": "1.5.0",
      "model_name": "DescriptionStyleModel",
      "state": {
       "description_width": ""
      }
     },
     "6e7368c9f9db4ee6a824b431ae1cb8bf": {
      "model_module": "@jupyter-widgets/controls",
      "model_module_version": "1.5.0",
      "model_name": "DescriptionStyleModel",
      "state": {
       "description_width": ""
      }
     },
     "6f4be8486ac644c98213a63f88649bc3": {
      "model_module": "@jupyter-widgets/controls",
      "model_module_version": "1.5.0",
      "model_name": "FloatProgressModel",
      "state": {
       "bar_style": "success",
       "layout": "IPY_MODEL_f3f363fc136f49b3b77a4cc8f0f2c7cd",
       "max": 12,
       "style": "IPY_MODEL_88af15b5ed684bd3acc585955792d693",
       "value": 12
      }
     },
     "700111134ed748679885ac08958b5095": {
      "model_module": "@jupyter-widgets/base",
      "model_module_version": "1.2.0",
      "model_name": "LayoutModel",
      "state": {}
     },
     "702e311ecb774c2d8f48b3013ebea6cb": {
      "model_module": "@jupyter-widgets/controls",
      "model_module_version": "1.5.0",
      "model_name": "HBoxModel",
      "state": {
       "children": [
        "IPY_MODEL_9d0899d3af014ae39126b63e34c33816",
        "IPY_MODEL_a5bcc4505c6142dead23115fb15b2b7a",
        "IPY_MODEL_e9640c8407124231aa0efad0deda4272"
       ],
       "layout": "IPY_MODEL_4bc524cfc19c4c2e9f5503ed765c6acf"
      }
     },
     "70490dcc68ea44e7a9a52080f0f2b7d1": {
      "model_module": "@jupyter-widgets/controls",
      "model_module_version": "1.5.0",
      "model_name": "ProgressStyleModel",
      "state": {
       "description_width": ""
      }
     },
     "7090a7fe88604b6fb52821fb4c809923": {
      "model_module": "@jupyter-widgets/controls",
      "model_module_version": "1.5.0",
      "model_name": "DescriptionStyleModel",
      "state": {
       "description_width": ""
      }
     },
     "70ef386bb3c64621bc8908707f6716d6": {
      "model_module": "@jupyter-widgets/controls",
      "model_module_version": "1.5.0",
      "model_name": "ButtonModel",
      "state": {
       "icon": "arrow-right",
       "layout": "IPY_MODEL_a784d2e210bd42718a4401e75e938f62",
       "style": "IPY_MODEL_5bcff0ead56e4d729b4d7bc73d1c59ae",
       "tooltip": "Next image"
      }
     },
     "711a0a234443494a92d21b5be080494e": {
      "model_module": "@jupyter-widgets/controls",
      "model_module_version": "1.5.0",
      "model_name": "FloatProgressModel",
      "state": {
       "bar_style": "success",
       "layout": "IPY_MODEL_2fdaef77c0084363ab9f4f3bb69dcc34",
       "max": 12,
       "style": "IPY_MODEL_70490dcc68ea44e7a9a52080f0f2b7d1",
       "value": 12
      }
     },
     "7126012f902f4bb0ba41cdf45ba9a57b": {
      "model_module": "@jupyter-widgets/base",
      "model_module_version": "1.2.0",
      "model_name": "LayoutModel",
      "state": {}
     },
     "71b2152462d64ee7b8328919700af938": {
      "model_module": "@jupyter-widgets/controls",
      "model_module_version": "1.5.0",
      "model_name": "DescriptionStyleModel",
      "state": {
       "description_width": ""
      }
     },
     "727130f713e048259474c4e197648898": {
      "model_module": "@jupyter-widgets/base",
      "model_module_version": "1.2.0",
      "model_name": "LayoutModel",
      "state": {}
     },
     "72d87da630ab472a8b961c659c8d7766": {
      "model_module": "@jupyter-widgets/base",
      "model_module_version": "1.2.0",
      "model_name": "LayoutModel",
      "state": {}
     },
     "7303b01c19754eeba7cda11a4ce6271d": {
      "model_module": "@jupyter-widgets/controls",
      "model_module_version": "1.5.0",
      "model_name": "HTMLModel",
      "state": {
       "layout": "IPY_MODEL_d69f197da33a41b58be8c2afcd9af954",
       "style": "IPY_MODEL_67453d7ff4e04c5a82a40d36ad8617bb",
       "value": " 12/12 [00:03&lt;00:00,  3.57it/s]"
      }
     },
     "735a0bdd8b404be2ac275e353a6286b5": {
      "model_module": "@jupyter-widgets/base",
      "model_module_version": "1.2.0",
      "model_name": "LayoutModel",
      "state": {}
     },
     "7395784d24d0469781332991ebd0d22e": {
      "model_module": "@jupyter-widgets/controls",
      "model_module_version": "1.5.0",
      "model_name": "DescriptionStyleModel",
      "state": {
       "description_width": ""
      }
     },
     "75a01749be0f4482bf93e6efd5842c6e": {
      "model_module": "@jupyter-widgets/base",
      "model_module_version": "1.2.0",
      "model_name": "LayoutModel",
      "state": {}
     },
     "75de666b0e8a4f28b074b2fb0e6415b1": {
      "model_module": "@jupyter-widgets/controls",
      "model_module_version": "1.5.0",
      "model_name": "HBoxModel",
      "state": {
       "children": [
        "IPY_MODEL_68da2199ea7047fd9554f55137a4ffdb",
        "IPY_MODEL_89a25e2a1603417095a309e14a6f4a87",
        "IPY_MODEL_6b0d11f1f8b34359b6be33fd6bb9cd09"
       ],
       "layout": "IPY_MODEL_0b4ec4411e4b4a0f97a7ab9f98743351"
      }
     },
     "768d541bc1434ac2b9858399d286c9f8": {
      "model_module": "@jupyter-widgets/controls",
      "model_module_version": "1.5.0",
      "model_name": "HTMLModel",
      "state": {
       "layout": "IPY_MODEL_e4ca7f06e6c3411c8be79934cf1bc60b",
       "style": "IPY_MODEL_ffcfa27b97f8434cb628a49e4cd8f827",
       "value": " 12/12 [00:05&lt;00:00,  2.16it/s]"
      }
     },
     "771fe57720c743b38d9fb73d2556f397": {
      "model_module": "@jupyter-widgets/base",
      "model_module_version": "1.2.0",
      "model_name": "LayoutModel",
      "state": {}
     },
     "77853776c9924a9cb9cb3cc08be5f43f": {
      "model_module": "@jupyter-widgets/base",
      "model_module_version": "1.2.0",
      "model_name": "LayoutModel",
      "state": {}
     },
     "77cfe4a37f8743f0a9f7edf8db56cc11": {
      "model_module": "@jupyter-widgets/controls",
      "model_module_version": "1.5.0",
      "model_name": "DescriptionStyleModel",
      "state": {
       "description_width": ""
      }
     },
     "780c9096b7704882ac7f3a0d08681e1c": {
      "buffers": [
       {
        "data": "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",
        "encoding": "base64",
        "path": [
         "value"
        ]
       }
      ],
      "model_module": "@jupyter-widgets/controls",
      "model_module_version": "1.5.0",
      "model_name": "ImageModel",
      "state": {
       "layout": "IPY_MODEL_e4df35b475fb43daaaedb1afccb7fa9a"
      }
     },
     "789fb2b057394a0ca9a46b38c9b37621": {
      "model_module": "@jupyter-widgets/controls",
      "model_module_version": "1.5.0",
      "model_name": "DescriptionStyleModel",
      "state": {
       "description_width": ""
      }
     },
     "78fb0a9f5a3d494588ad873ddbcac269": {
      "model_module": "@jupyter-widgets/controls",
      "model_module_version": "1.5.0",
      "model_name": "ProgressStyleModel",
      "state": {
       "description_width": ""
      }
     },
     "7932f0cb6b4f4a0a870ca34694810aae": {
      "model_module": "@jupyter-widgets/controls",
      "model_module_version": "1.5.0",
      "model_name": "DescriptionStyleModel",
      "state": {
       "description_width": ""
      }
     },
     "796726cf53b34e37aa6a680cda312a60": {
      "model_module": "@jupyter-widgets/controls",
      "model_module_version": "1.5.0",
      "model_name": "HBoxModel",
      "state": {
       "children": [
        "IPY_MODEL_1bc8f8ef1fd8492796ccbdf50c2d5bad",
        "IPY_MODEL_cccb78b76731423da429ce7cf5068d43",
        "IPY_MODEL_bd536ff7e2c24412b4bf87f80e22b1c0"
       ],
       "layout": "IPY_MODEL_827917abba914f8b8024b12194c46d12"
      }
     },
     "79968d35e52c46a59402ecffa41ed5f7": {
      "model_module": "@jupyter-widgets/controls",
      "model_module_version": "1.5.0",
      "model_name": "ProgressStyleModel",
      "state": {
       "description_width": ""
      }
     },
     "7a12ee7c10f94e79a6fd1cedfe41b802": {
      "model_module": "@jupyter-widgets/base",
      "model_module_version": "1.2.0",
      "model_name": "LayoutModel",
      "state": {}
     },
     "7a73dd42f6824a7ca41606bf6d406af8": {
      "model_module": "@jupyter-widgets/controls",
      "model_module_version": "1.5.0",
      "model_name": "HTMLModel",
      "state": {
       "layout": "IPY_MODEL_ba29b35e46a647e4a26e4243377b04cd",
       "style": "IPY_MODEL_fee0020d7f334ef68cf2960b9403c767",
       "value": "100%"
      }
     },
     "7a7c7a4fb2ec4d9f9a01d4adf6ba9733": {
      "model_module": "@jupyter-widgets/controls",
      "model_module_version": "1.5.0",
      "model_name": "DescriptionStyleModel",
      "state": {
       "description_width": ""
      }
     },
     "7ae2af16e4394136b59047e331a961e3": {
      "model_module": "@jupyter-widgets/base",
      "model_module_version": "1.2.0",
      "model_name": "LayoutModel",
      "state": {}
     },
     "7b2d2d14c6f042d8a98db8e32bd56a2b": {
      "model_module": "@jupyter-widgets/controls",
      "model_module_version": "1.5.0",
      "model_name": "ProgressStyleModel",
      "state": {
       "description_width": ""
      }
     },
     "7b8f4859e1594f41a48a249f4fb8dc86": {
      "model_module": "@jupyter-widgets/controls",
      "model_module_version": "1.5.0",
      "model_name": "HBoxModel",
      "state": {
       "children": [
        "IPY_MODEL_9dc87302706f4b759600b8c5dd5eac4a",
        "IPY_MODEL_5f69d11c3dca4005996711a26d5c8457",
        "IPY_MODEL_52b8977b8ffa4c538bf2c62c9696749f"
       ],
       "layout": "IPY_MODEL_f1ce26da039b4ac1b85ef7fc6fc480e2"
      }
     },
     "7c37832200b145f6904bef9a3c7ac6d3": {
      "model_module": "@jupyter-widgets/base",
      "model_module_version": "1.2.0",
      "model_name": "LayoutModel",
      "state": {}
     },
     "7c6c6a04d0b1466d9c5ae3bfec2e898e": {
      "model_module": "@jupyter-widgets/controls",
      "model_module_version": "1.5.0",
      "model_name": "ProgressStyleModel",
      "state": {
       "description_width": ""
      }
     },
     "7d6e5a09e7c742f5a2a29376607c014f": {
      "model_module": "@jupyter-widgets/controls",
      "model_module_version": "1.5.0",
      "model_name": "ProgressStyleModel",
      "state": {
       "description_width": ""
      }
     },
     "7da79287099e491da16503be909701bd": {
      "model_module": "@jupyter-widgets/base",
      "model_module_version": "1.2.0",
      "model_name": "LayoutModel",
      "state": {}
     },
     "7e328b16acce43929415519c42429e18": {
      "model_module": "@jupyter-widgets/controls",
      "model_module_version": "1.5.0",
      "model_name": "DescriptionStyleModel",
      "state": {
       "description_width": ""
      }
     },
     "7e775cf4051a474aa7ea03cb033c6a71": {
      "model_module": "@jupyter-widgets/base",
      "model_module_version": "1.2.0",
      "model_name": "LayoutModel",
      "state": {}
     },
     "7f02db9bb6134af0a5afcd8ecb657834": {
      "model_module": "@jupyter-widgets/controls",
      "model_module_version": "1.5.0",
      "model_name": "HTMLModel",
      "state": {
       "layout": "IPY_MODEL_42ce16045dbd40ef8a2a4b427ac73fdb",
       "style": "IPY_MODEL_1b6300e1794b4659b4d556a3b4d9772d",
       "value": "100%"
      }
     },
     "7f25df6750b44a8faaed95a22c6c56ad": {
      "model_module": "@jupyter-widgets/controls",
      "model_module_version": "1.5.0",
      "model_name": "DropdownModel",
      "state": {
       "_options_labels": [
        "AdaBoostRegressor",
        "AdaBoostRegressor-LinearRegression",
        "DecisionTreeRegressor",
        "LinearRegression",
        "Ridge"
       ],
       "description": "Regressor:",
       "index": 0,
       "layout": "IPY_MODEL_90f23456518d491482cd4de84703297d",
       "style": "IPY_MODEL_5a76a82859a94a4695de4f1e119e32e4"
      }
     },
     "7f6bb02c4187480ea1a500420731c1f5": {
      "model_module": "@jupyter-widgets/controls",
      "model_module_version": "1.5.0",
      "model_name": "HBoxModel",
      "state": {
       "children": [
        "IPY_MODEL_4f698f1b7cc945b69e263f0646e82487",
        "IPY_MODEL_4bf3970ffa8a4fa5a731736562286e92",
        "IPY_MODEL_a0eea065ccdd4c8f83078ff6942825fb"
       ],
       "layout": "IPY_MODEL_0211adc79de44e0d80a0d4d89441088a"
      }
     },
     "7fdda65eeaef42b99fabc42256b7d06f": {
      "model_module": "@jupyter-widgets/controls",
      "model_module_version": "1.5.0",
      "model_name": "DescriptionStyleModel",
      "state": {
       "description_width": ""
      }
     },
     "7ff66d77c6714aa7ae18f8135e8557d7": {
      "model_module": "@jupyter-widgets/base",
      "model_module_version": "1.2.0",
      "model_name": "LayoutModel",
      "state": {}
     },
     "804409c1edb241ee8ddad5dc84f4bf89": {
      "model_module": "@jupyter-widgets/base",
      "model_module_version": "1.2.0",
      "model_name": "LayoutModel",
      "state": {}
     },
     "80ae2484e7f0429f8c09a103bd4292b1": {
      "model_module": "@jupyter-widgets/controls",
      "model_module_version": "1.5.0",
      "model_name": "HTMLModel",
      "state": {
       "layout": "IPY_MODEL_9463a68240b444aebf23a43353439b2f",
       "style": "IPY_MODEL_e9c84e5e5c5741288e5a2df861c4068d",
       "value": " 8/? [00:10&lt;00:00,  1.33s/it]"
      }
     },
     "80e9fe9f58fa442087347f5bc8609a09": {
      "model_module": "@jupyter-widgets/controls",
      "model_module_version": "1.5.0",
      "model_name": "FloatProgressModel",
      "state": {
       "bar_style": "success",
       "layout": "IPY_MODEL_466bba0eb6ac41688c825199c068b93f",
       "max": 12,
       "style": "IPY_MODEL_6945ab9d561b420899e7b8c2aa8526d1",
       "value": 12
      }
     },
     "8117965aa18c4fc0bd17760f3d871913": {
      "model_module": "@jupyter-widgets/controls",
      "model_module_version": "1.5.0",
      "model_name": "HTMLModel",
      "state": {
       "layout": "IPY_MODEL_8468fc3947a342fa9d680450f28b5bbe",
       "style": "IPY_MODEL_254825b25e2b42bcac084206bb97cb24",
       "value": " 12/12 [00:06&lt;00:00,  1.96it/s]"
      }
     },
     "813d74283ca94c23a251ab9fe08325c9": {
      "model_module": "@jupyter-widgets/controls",
      "model_module_version": "1.5.0",
      "model_name": "HTMLModel",
      "state": {
       "layout": "IPY_MODEL_2cb6edfd0b6243d391c58bd268e4a51f",
       "style": "IPY_MODEL_a0c060d8724f4d838b166670b443f439",
       "value": "100%"
      }
     },
     "813f9c4d439b4e3687dc5d3beffaf76d": {
      "model_module": "@jupyter-widgets/controls",
      "model_module_version": "1.5.0",
      "model_name": "ProgressStyleModel",
      "state": {
       "description_width": ""
      }
     },
     "8146dd4ec66b4598a632dddd22179b15": {
      "model_module": "@jupyter-widgets/base",
      "model_module_version": "1.2.0",
      "model_name": "LayoutModel",
      "state": {}
     },
     "818ef3426f75418b81d45afe51e9374e": {
      "model_module": "@jupyter-widgets/controls",
      "model_module_version": "1.5.0",
      "model_name": "DescriptionStyleModel",
      "state": {
       "description_width": ""
      }
     },
     "81bad02ea35446149c42e44846e4bceb": {
      "model_module": "@jupyter-widgets/base",
      "model_module_version": "1.2.0",
      "model_name": "LayoutModel",
      "state": {}
     },
     "81bd3e1e98024937a8ce1a05a67ef6d3": {
      "model_module": "@jupyter-widgets/controls",
      "model_module_version": "1.5.0",
      "model_name": "ProgressStyleModel",
      "state": {
       "description_width": ""
      }
     },
     "820443dbaf384a2e9558078522183219": {
      "model_module": "@jupyter-widgets/base",
      "model_module_version": "1.2.0",
      "model_name": "LayoutModel",
      "state": {}
     },
     "820c1efd8f9c43159288714d55858dd3": {
      "model_module": "@jupyter-widgets/controls",
      "model_module_version": "1.5.0",
      "model_name": "DescriptionStyleModel",
      "state": {
       "description_width": ""
      }
     },
     "827917abba914f8b8024b12194c46d12": {
      "model_module": "@jupyter-widgets/base",
      "model_module_version": "1.2.0",
      "model_name": "LayoutModel",
      "state": {}
     },
     "8293a98eedfd46cead79820d9a8e610e": {
      "model_module": "@jupyter-widgets/base",
      "model_module_version": "1.2.0",
      "model_name": "LayoutModel",
      "state": {}
     },
     "82a61f89e33e4127a2aaf09aa91d0b36": {
      "model_module": "@jupyter-widgets/base",
      "model_module_version": "1.2.0",
      "model_name": "LayoutModel",
      "state": {}
     },
     "8318f207eb324ef9bf561e5d1be340fc": {
      "model_module": "@jupyter-widgets/controls",
      "model_module_version": "1.5.0",
      "model_name": "HTMLModel",
      "state": {
       "layout": "IPY_MODEL_700111134ed748679885ac08958b5095",
       "style": "IPY_MODEL_c08f4f0e23384401b1a7a9115bb8bdfc",
       "value": "100%"
      }
     },
     "837e98f55cad4d0e964363b4ea72ae86": {
      "model_module": "@jupyter-widgets/base",
      "model_module_version": "1.2.0",
      "model_name": "LayoutModel",
      "state": {}
     },
     "8396cdd310a648a5bb588c65fdd7c000": {
      "model_module": "@jupyter-widgets/controls",
      "model_module_version": "1.5.0",
      "model_name": "HBoxModel",
      "state": {
       "children": [
        "IPY_MODEL_f119d6e27e564ffc891edeaf6fecdd3d",
        "IPY_MODEL_c4d3f7cec2fa4b98a23709d4ba26d3d4",
        "IPY_MODEL_2ea67fab72994d718f9297838e39b01e"
       ],
       "layout": "IPY_MODEL_8f9c558bf05a40f5a844a8e278e3167c"
      }
     },
     "83ae30c125a1403ab7991f52802003c6": {
      "model_module": "@jupyter-widgets/controls",
      "model_module_version": "1.5.0",
      "model_name": "HTMLModel",
      "state": {
       "layout": "IPY_MODEL_8fb5ad5a7f0b428d83acf3cf13d57bc8",
       "style": "IPY_MODEL_57dc054d8f9d40d288de97ba6a036398",
       "value": " 12/12 [00:02&lt;00:00,  4.80it/s]"
      }
     },
     "83aecff4578445aaa13b5c492f5172c7": {
      "model_module": "@jupyter-widgets/base",
      "model_module_version": "1.2.0",
      "model_name": "LayoutModel",
      "state": {}
     },
     "83db158b110744f4b71665f60659b276": {
      "model_module": "@jupyter-widgets/controls",
      "model_module_version": "1.5.0",
      "model_name": "HBoxModel",
      "state": {
       "children": [
        "IPY_MODEL_5be7b5522eb9449692c78973717330dc",
        "IPY_MODEL_711a0a234443494a92d21b5be080494e",
        "IPY_MODEL_8117965aa18c4fc0bd17760f3d871913"
       ],
       "layout": "IPY_MODEL_6d4cfddeee81475b8bcbcb722cce0087"
      }
     },
     "83e69c4ea26f45af82a3386cdbfaebab": {
      "model_module": "@jupyter-widgets/controls",
      "model_module_version": "1.5.0",
      "model_name": "DescriptionStyleModel",
      "state": {
       "description_width": ""
      }
     },
     "84567c49326145949d516e57ba21a55d": {
      "model_module": "@jupyter-widgets/base",
      "model_module_version": "1.2.0",
      "model_name": "LayoutModel",
      "state": {}
     },
     "8468fc3947a342fa9d680450f28b5bbe": {
      "model_module": "@jupyter-widgets/base",
      "model_module_version": "1.2.0",
      "model_name": "LayoutModel",
      "state": {}
     },
     "8481e3d99b2d4313bb04c963a7e82536": {
      "model_module": "@jupyter-widgets/base",
      "model_module_version": "1.2.0",
      "model_name": "LayoutModel",
      "state": {}
     },
     "851c6529e0324c1b9cd12a58b87b5708": {
      "model_module": "@jupyter-widgets/base",
      "model_module_version": "1.2.0",
      "model_name": "LayoutModel",
      "state": {
       "flex": "1 1 0%",
       "width": "auto"
      }
     },
     "8533964bded74c2f9fab833c8eb24d1b": {
      "model_module": "@jupyter-widgets/base",
      "model_module_version": "1.2.0",
      "model_name": "LayoutModel",
      "state": {}
     },
     "8539c238968a48b0b12973bf56cf3b37": {
      "model_module": "@jupyter-widgets/controls",
      "model_module_version": "1.5.0",
      "model_name": "DescriptionStyleModel",
      "state": {
       "description_width": ""
      }
     },
     "855bd7659a8f456fae8f5a5212e00c22": {
      "model_module": "@jupyter-widgets/base",
      "model_module_version": "1.2.0",
      "model_name": "LayoutModel",
      "state": {}
     },
     "859ae85f8d43450ca522c1e57bea1e04": {
      "model_module": "@jupyter-widgets/controls",
      "model_module_version": "1.5.0",
      "model_name": "DescriptionStyleModel",
      "state": {
       "description_width": ""
      }
     },
     "85b199582ef04c52bc207efd86834620": {
      "model_module": "@jupyter-widgets/controls",
      "model_module_version": "1.5.0",
      "model_name": "DescriptionStyleModel",
      "state": {
       "description_width": ""
      }
     },
     "85d6e38d460e41cf9892ba1fc1c8e16b": {
      "model_module": "@jupyter-widgets/base",
      "model_module_version": "1.2.0",
      "model_name": "LayoutModel",
      "state": {}
     },
     "861cd60ba9cf4070bbcbba9f63c35506": {
      "model_module": "@jupyter-widgets/controls",
      "model_module_version": "1.5.0",
      "model_name": "HBoxModel",
      "state": {
       "children": [
        "IPY_MODEL_7f02db9bb6134af0a5afcd8ecb657834",
        "IPY_MODEL_ff321559f497400fa4dfa5666d9f7b3c",
        "IPY_MODEL_05cb4c580dde444098efb98c54b50c3f"
       ],
       "layout": "IPY_MODEL_f04d0366d6e84924a0af63b24ea8eb86"
      }
     },
     "8780fc84bff8493395ddda500d449335": {
      "model_module": "@jupyter-widgets/controls",
      "model_module_version": "1.5.0",
      "model_name": "HBoxModel",
      "state": {
       "children": [
        "IPY_MODEL_6db61a18f96e4f3fb9d737521ed293b9",
        "IPY_MODEL_bcefb4034d484fa28cd0602d2a3f992d",
        "IPY_MODEL_2ed40d1a95334977ba6b8c369d8b2308"
       ],
       "layout": "IPY_MODEL_7da79287099e491da16503be909701bd"
      }
     },
     "87de1057282f495c9d9481791a05f596": {
      "model_module": "@jupyter-widgets/base",
      "model_module_version": "1.2.0",
      "model_name": "LayoutModel",
      "state": {}
     },
     "881526ef691a4a90b24790fe5eac1800": {
      "model_module": "@jupyter-widgets/controls",
      "model_module_version": "1.5.0",
      "model_name": "FloatProgressModel",
      "state": {
       "bar_style": "success",
       "layout": "IPY_MODEL_81bad02ea35446149c42e44846e4bceb",
       "max": 12,
       "style": "IPY_MODEL_aa5cbaee1d13429396c94cfce17e0a01",
       "value": 12
      }
     },
     "881fc140daa34c50a9a6d926e3495720": {
      "model_module": "@jupyter-widgets/controls",
      "model_module_version": "1.5.0",
      "model_name": "ProgressStyleModel",
      "state": {
       "description_width": ""
      }
     },
     "88383f0e64c84fd7aa021858bbb706eb": {
      "model_module": "@jupyter-widgets/controls",
      "model_module_version": "1.5.0",
      "model_name": "DescriptionStyleModel",
      "state": {
       "description_width": ""
      }
     },
     "88af15b5ed684bd3acc585955792d693": {
      "model_module": "@jupyter-widgets/controls",
      "model_module_version": "1.5.0",
      "model_name": "ProgressStyleModel",
      "state": {
       "description_width": ""
      }
     },
     "8910ca2a021c48f9a8a4df049eee692e": {
      "model_module": "@jupyter-widgets/controls",
      "model_module_version": "1.5.0",
      "model_name": "DescriptionStyleModel",
      "state": {
       "description_width": ""
      }
     },
     "897a6ba0f7824aacbbc5a2b1c5e35980": {
      "model_module": "@jupyter-widgets/base",
      "model_module_version": "1.2.0",
      "model_name": "LayoutModel",
      "state": {}
     },
     "89a25e2a1603417095a309e14a6f4a87": {
      "model_module": "@jupyter-widgets/controls",
      "model_module_version": "1.5.0",
      "model_name": "FloatProgressModel",
      "state": {
       "bar_style": "success",
       "layout": "IPY_MODEL_9c33e0a270fd4e798b6324838a67f449",
       "max": 12,
       "style": "IPY_MODEL_2e74e6cf740643bdb72335fc1648242d",
       "value": 12
      }
     },
     "89b8f59ceb1c431c9029dff9a6410ec9": {
      "model_module": "@jupyter-widgets/base",
      "model_module_version": "1.2.0",
      "model_name": "LayoutModel",
      "state": {}
     },
     "8a8c93eb3ef54e399941846bb5f1668e": {
      "model_module": "@jupyter-widgets/controls",
      "model_module_version": "1.5.0",
      "model_name": "ProgressStyleModel",
      "state": {
       "description_width": ""
      }
     },
     "8b65e1db7c2b4f85a3aeed0120d02287": {
      "model_module": "@jupyter-widgets/controls",
      "model_module_version": "1.5.0",
      "model_name": "HBoxModel",
      "state": {
       "children": [
        "IPY_MODEL_8318f207eb324ef9bf561e5d1be340fc",
        "IPY_MODEL_503deb9b034b4e7f9996caeb5a727900",
        "IPY_MODEL_add25c8f96bb4e228a9e8fa0e15831de"
       ],
       "layout": "IPY_MODEL_2c59efe84b8e4fcfbfaf4036160b993a"
      }
     },
     "8b9d9f82ee814d2eb9170585764b3974": {
      "model_module": "@jupyter-widgets/controls",
      "model_module_version": "1.5.0",
      "model_name": "HTMLModel",
      "state": {
       "layout": "IPY_MODEL_1e76cb75d9ba41d3a65fa241dd113109",
       "style": "IPY_MODEL_2e1767b50a6d441aa1e01f54524b6df2",
       "value": "100%"
      }
     },
     "8bb94828db354c1890683a40302bd012": {
      "model_module": "@jupyter-widgets/controls",
      "model_module_version": "1.5.0",
      "model_name": "FloatProgressModel",
      "state": {
       "bar_style": "success",
       "layout": "IPY_MODEL_ff8281595a904fc9b251ab5377f8720f",
       "max": 7,
       "style": "IPY_MODEL_5e1e574db08f43d38846b5959b67132c",
       "value": 7
      }
     },
     "8c222fdeee4f40be86573973cf146355": {
      "model_module": "@jupyter-widgets/base",
      "model_module_version": "1.2.0",
      "model_name": "LayoutModel",
      "state": {}
     },
     "8d1952560e8a412696e8f0dd1fdfbd4f": {
      "model_module": "@jupyter-widgets/controls",
      "model_module_version": "1.5.0",
      "model_name": "HBoxModel",
      "state": {
       "children": [
        "IPY_MODEL_db3556a6382f4793a32522bee3426253",
        "IPY_MODEL_3aa8b97a1a0043f5bf70df753827a7e0",
        "IPY_MODEL_e3cac66f32de43e9a0f63c221cd788b7"
       ],
       "layout": "IPY_MODEL_8fcdaefcb8414d6da1217fd0d881e150"
      }
     },
     "8de835e321a540079711490fe698ad64": {
      "model_module": "@jupyter-widgets/base",
      "model_module_version": "1.2.0",
      "model_name": "LayoutModel",
      "state": {}
     },
     "8e0dbfc939854ed0892801cc7a73f751": {
      "model_module": "@jupyter-widgets/controls",
      "model_module_version": "1.5.0",
      "model_name": "ProgressStyleModel",
      "state": {
       "description_width": ""
      }
     },
     "8e884984b07f4eba8dbfa48076971db7": {
      "model_module": "@jupyter-widgets/controls",
      "model_module_version": "1.5.0",
      "model_name": "DescriptionStyleModel",
      "state": {
       "description_width": ""
      }
     },
     "8f681153059c48f09785fb0d67de0632": {
      "model_module": "@jupyter-widgets/controls",
      "model_module_version": "1.5.0",
      "model_name": "HTMLModel",
      "state": {
       "layout": "IPY_MODEL_28940a5510e144fb86a86bafa2238c8c",
       "style": "IPY_MODEL_789fb2b057394a0ca9a46b38c9b37621",
       "value": " 12/12 [00:03&lt;00:00,  3.09it/s]"
      }
     },
     "8f9c558bf05a40f5a844a8e278e3167c": {
      "model_module": "@jupyter-widgets/base",
      "model_module_version": "1.2.0",
      "model_name": "LayoutModel",
      "state": {}
     },
     "8fb5ad5a7f0b428d83acf3cf13d57bc8": {
      "model_module": "@jupyter-widgets/base",
      "model_module_version": "1.2.0",
      "model_name": "LayoutModel",
      "state": {}
     },
     "8fcdaefcb8414d6da1217fd0d881e150": {
      "model_module": "@jupyter-widgets/base",
      "model_module_version": "1.2.0",
      "model_name": "LayoutModel",
      "state": {}
     },
     "8fd6560a11e14d9cbdd8ade979c56a60": {
      "model_module": "@jupyter-widgets/controls",
      "model_module_version": "1.5.0",
      "model_name": "HTMLModel",
      "state": {
       "layout": "IPY_MODEL_bea5af74481240fcab344ec5d8173948",
       "style": "IPY_MODEL_a383e9d3c7044b1c8faa5f87feebc08b",
       "value": "100%"
      }
     },
     "907394f6f5d2473c9e258bd5c1ffc3e0": {
      "model_module": "@jupyter-widgets/base",
      "model_module_version": "1.2.0",
      "model_name": "LayoutModel",
      "state": {}
     },
     "908a84d83f7449a4a04f8e0ae2a7a0cc": {
      "model_module": "@jupyter-widgets/controls",
      "model_module_version": "1.5.0",
      "model_name": "DescriptionStyleModel",
      "state": {
       "description_width": ""
      }
     },
     "90dc7e957571477390d4e5e7a8d4fd5d": {
      "model_module": "@jupyter-widgets/controls",
      "model_module_version": "1.5.0",
      "model_name": "HBoxModel",
      "state": {
       "children": [
        "IPY_MODEL_8b9d9f82ee814d2eb9170585764b3974",
        "IPY_MODEL_ebbc84213bea4b04a35c29f65b2d2bd3",
        "IPY_MODEL_1e99ce0f063b4b0ab98185d04c339303"
       ],
       "layout": "IPY_MODEL_01a7f9afa561469fbc871dc362adbe56"
      }
     },
     "90f23456518d491482cd4de84703297d": {
      "model_module": "@jupyter-widgets/base",
      "model_module_version": "1.2.0",
      "model_name": "LayoutModel",
      "state": {}
     },
     "926109d0895844b3954b68ac79a812f1": {
      "model_module": "@jupyter-widgets/controls",
      "model_module_version": "1.5.0",
      "model_name": "HBoxModel",
      "state": {
       "children": [
        "IPY_MODEL_e0bbbf40dd834ae09a2106a0be6fd271",
        "IPY_MODEL_268ad88c11f246b19d6ab493c357cb8c",
        "IPY_MODEL_523ed3e7669f462d8930d5d40b0dcc1e"
       ],
       "layout": "IPY_MODEL_ed59fa15b92a4ba79fa77647e0d7e0ec"
      }
     },
     "92a9764d820a49e1a89c104d18c06c32": {
      "model_module": "@jupyter-widgets/controls",
      "model_module_version": "1.5.0",
      "model_name": "HBoxModel",
      "state": {
       "children": [
        "IPY_MODEL_4b2afb492e1040488555c11b4b325c93",
        "IPY_MODEL_0ccc9e509e134cefba6f35b3a20ab199",
        "IPY_MODEL_446ffc3bebc94447a11ec8b45c878681"
       ],
       "layout": "IPY_MODEL_20068664256944bc8bc147fa99ea6826"
      }
     },
     "945b7216d7dd4bffbad5d0b8df22f875": {
      "model_module": "@jupyter-widgets/controls",
      "model_module_version": "1.5.0",
      "model_name": "HBoxModel",
      "state": {
       "children": [
        "IPY_MODEL_e85fb92252414e4fb3f290186b0c8a9f",
        "IPY_MODEL_5770ce2061bf454da418f95f99fbc6d0",
        "IPY_MODEL_0ae7c8e081044ca0a97c129b954c585f"
       ],
       "layout": "IPY_MODEL_e5c0c8006170428c88128d30cc50ec95"
      }
     },
     "9463a68240b444aebf23a43353439b2f": {
      "model_module": "@jupyter-widgets/base",
      "model_module_version": "1.2.0",
      "model_name": "LayoutModel",
      "state": {}
     },
     "956aaf73de5a40f09145caa8957f435d": {
      "model_module": "@jupyter-widgets/controls",
      "model_module_version": "1.5.0",
      "model_name": "FloatProgressModel",
      "state": {
       "bar_style": "success",
       "layout": "IPY_MODEL_2f945e109297436fba5819fccc7fdbe8",
       "max": 12,
       "style": "IPY_MODEL_f7421f29cf634d508a93525d59d21585",
       "value": 12
      }
     },
     "95b7ac3fae2842188684fbab8f59495c": {
      "model_module": "@jupyter-widgets/controls",
      "model_module_version": "1.5.0",
      "model_name": "HTMLModel",
      "state": {
       "layout": "IPY_MODEL_f4e66f19f79c4e2ebeab15a07e3532e4",
       "style": "IPY_MODEL_2753c91aea6741e081f3934cbc8a78d7",
       "value": "100%"
      }
     },
     "967a7649b4e240baaa5631de73c2bc8c": {
      "model_module": "@jupyter-widgets/controls",
      "model_module_version": "1.5.0",
      "model_name": "HTMLModel",
      "state": {
       "layout": "IPY_MODEL_820443dbaf384a2e9558078522183219",
       "style": "IPY_MODEL_85b199582ef04c52bc207efd86834620",
       "value": " 12/12 [00:04&lt;00:00,  2.85it/s]"
      }
     },
     "96d1925b48694e6a950780aa31089dff": {
      "model_module": "@jupyter-widgets/controls",
      "model_module_version": "1.5.0",
      "model_name": "HTMLModel",
      "state": {
       "layout": "IPY_MODEL_20888199b3904e68ba25f3ec400cdd94",
       "style": "IPY_MODEL_4f0c5c6ef37f4d628a6706f820194eef",
       "value": " 12/12 [00:03&lt;00:00,  3.02it/s]"
      }
     },
     "977baab632754ae585b0454fd619d745": {
      "model_module": "@jupyter-widgets/base",
      "model_module_version": "1.2.0",
      "model_name": "LayoutModel",
      "state": {}
     },
     "97bd0c9fba2749e3892f3e927401a27f": {
      "model_module": "@jupyter-widgets/controls",
      "model_module_version": "1.5.0",
      "model_name": "HTMLModel",
      "state": {
       "layout": "IPY_MODEL_fb54c50e821c447897e12742e964eae9",
       "style": "IPY_MODEL_af57c7a0e3b547e198a79051f7983f46",
       "value": "100%"
      }
     },
     "980a33c619634eca9840a111bea279a6": {
      "model_module": "@jupyter-widgets/base",
      "model_module_version": "1.2.0",
      "model_name": "LayoutModel",
      "state": {}
     },
     "985210176537446f994ba436b54cf83f": {
      "model_module": "@jupyter-widgets/controls",
      "model_module_version": "1.5.0",
      "model_name": "DescriptionStyleModel",
      "state": {
       "description_width": ""
      }
     },
     "986a61c1984f488bbaaffe584cc972dc": {
      "model_module": "@jupyter-widgets/controls",
      "model_module_version": "1.5.0",
      "model_name": "DescriptionStyleModel",
      "state": {
       "description_width": ""
      }
     },
     "9992021a9ae74678a1b60357457c15cb": {
      "model_module": "@jupyter-widgets/base",
      "model_module_version": "1.2.0",
      "model_name": "LayoutModel",
      "state": {}
     },
     "99d0bd37b2104d0aa2a2fc68b6f990ef": {
      "model_module": "@jupyter-widgets/controls",
      "model_module_version": "1.5.0",
      "model_name": "DescriptionStyleModel",
      "state": {
       "description_width": ""
      }
     },
     "99e98e493d43415abb2ea684d43e2856": {
      "model_module": "@jupyter-widgets/controls",
      "model_module_version": "1.5.0",
      "model_name": "ProgressStyleModel",
      "state": {
       "description_width": ""
      }
     },
     "9a053fa67b4e4dbcbd7e489889d5a18e": {
      "model_module": "@jupyter-widgets/controls",
      "model_module_version": "1.5.0",
      "model_name": "HTMLModel",
      "state": {
       "layout": "IPY_MODEL_1e53e60b527046098f3adc0ea1b21058",
       "style": "IPY_MODEL_aec17b0b5244455fa9400bdfce64cbef",
       "value": " 8/? [00:10&lt;00:00,  1.37s/it]"
      }
     },
     "9a9467a45feb4cd1b5a4e41d8eae8ce1": {
      "model_module": "@jupyter-widgets/controls",
      "model_module_version": "1.5.0",
      "model_name": "HBoxModel",
      "state": {
       "children": [
        "IPY_MODEL_fd71843d06f04a7799299881d4996f78",
        "IPY_MODEL_b82005efcb15434b8ececb9f59c947b8",
        "IPY_MODEL_dd59bde33d6440cd9eebdee1ac752460"
       ],
       "layout": "IPY_MODEL_ef197ddc74514e25a2c880ec044c2274"
      }
     },
     "9b3d8b0e64aa4812aa3100c7759e7bce": {
      "model_module": "@jupyter-widgets/controls",
      "model_module_version": "1.5.0",
      "model_name": "ProgressStyleModel",
      "state": {
       "description_width": ""
      }
     },
     "9b5861ed1d4a4453b06b0fe30e919fe1": {
      "model_module": "@jupyter-widgets/controls",
      "model_module_version": "1.5.0",
      "model_name": "HBoxModel",
      "state": {
       "children": [
        "IPY_MODEL_d80a69b132344ffca972845a9f0cba90",
        "IPY_MODEL_8bb94828db354c1890683a40302bd012",
        "IPY_MODEL_80ae2484e7f0429f8c09a103bd4292b1"
       ],
       "layout": "IPY_MODEL_21bc24cf4701438abb0f876bfeade801"
      }
     },
     "9c18bf77bd0a4d289084f8445d3b1c6b": {
      "model_module": "@jupyter-widgets/base",
      "model_module_version": "1.2.0",
      "model_name": "LayoutModel",
      "state": {}
     },
     "9c33e0a270fd4e798b6324838a67f449": {
      "model_module": "@jupyter-widgets/base",
      "model_module_version": "1.2.0",
      "model_name": "LayoutModel",
      "state": {}
     },
     "9c6660e5a427423ca7c378504d26e706": {
      "model_module": "@jupyter-widgets/base",
      "model_module_version": "1.2.0",
      "model_name": "LayoutModel",
      "state": {}
     },
     "9c82ca7bcc1a4fe7b3ff72d79b336eba": {
      "model_module": "@jupyter-widgets/controls",
      "model_module_version": "1.5.0",
      "model_name": "HBoxModel",
      "state": {
       "children": [
        "IPY_MODEL_ca0d7da9aae64bd3b6a2a30ba5ebc17a",
        "IPY_MODEL_c707c884614846bbb3e96647879312d5",
        "IPY_MODEL_9a053fa67b4e4dbcbd7e489889d5a18e"
       ],
       "layout": "IPY_MODEL_df18160078b24d78b18282e66120e7df"
      }
     },
     "9ccfec658afa4e37b9c7f4aa0ccef3db": {
      "model_module": "@jupyter-widgets/base",
      "model_module_version": "1.2.0",
      "model_name": "LayoutModel",
      "state": {}
     },
     "9cfc950b6c924e5f919ba9659d252bac": {
      "model_module": "@jupyter-widgets/controls",
      "model_module_version": "1.5.0",
      "model_name": "HBoxModel",
      "state": {
       "children": [
        "IPY_MODEL_e9bd587a597d4317a7c664cdbbfca78e",
        "IPY_MODEL_ba067dadbe1d4c9ca9a0a2a8999789b5",
        "IPY_MODEL_3ec0624a7a2a47da8a9e8de18273548e"
       ],
       "layout": "IPY_MODEL_d9bb550e2e324f7e81c339c16ea0052c"
      }
     },
     "9d0899d3af014ae39126b63e34c33816": {
      "model_module": "@jupyter-widgets/controls",
      "model_module_version": "1.5.0",
      "model_name": "HTMLModel",
      "state": {
       "layout": "IPY_MODEL_c9d41c93efe54cf8a70c43c0f8bedc6e",
       "style": "IPY_MODEL_55c5061df2034606ac2de999c63f7506",
       "value": "100%"
      }
     },
     "9d6cdad552964c5f892ff9447422eb2f": {
      "model_module": "@jupyter-widgets/controls",
      "model_module_version": "1.5.0",
      "model_name": "DescriptionStyleModel",
      "state": {
       "description_width": ""
      }
     },
     "9d739a3a001148cb934b4568f67252ba": {
      "model_module": "@jupyter-widgets/controls",
      "model_module_version": "1.5.0",
      "model_name": "DescriptionStyleModel",
      "state": {
       "description_width": ""
      }
     },
     "9dc87302706f4b759600b8c5dd5eac4a": {
      "model_module": "@jupyter-widgets/controls",
      "model_module_version": "1.5.0",
      "model_name": "HTMLModel",
      "state": {
       "layout": "IPY_MODEL_df06e023611f469183a9de17a7dcd61d",
       "style": "IPY_MODEL_fc7cce21293d41c6b70c52f96016ddff",
       "value": "100%"
      }
     },
     "9e0bf0e9d53341259cab624a8ca014b3": {
      "model_module": "@jupyter-widgets/controls",
      "model_module_version": "1.5.0",
      "model_name": "DescriptionStyleModel",
      "state": {
       "description_width": ""
      }
     },
     "9e835485cbc0452495bcaa40c3b284ba": {
      "model_module": "@jupyter-widgets/controls",
      "model_module_version": "1.5.0",
      "model_name": "DescriptionStyleModel",
      "state": {
       "description_width": ""
      }
     },
     "9f2f730c48d447f6a4dfd90bc53da9e7": {
      "model_module": "@jupyter-widgets/controls",
      "model_module_version": "1.5.0",
      "model_name": "HTMLModel",
      "state": {
       "layout": "IPY_MODEL_fc9354eb3c814165aca418a40e74b8ec",
       "style": "IPY_MODEL_7395784d24d0469781332991ebd0d22e",
       "value": "100%"
      }
     },
     "9f35e279463b4cbda12f48f3cfdf4504": {
      "model_module": "@jupyter-widgets/controls",
      "model_module_version": "1.5.0",
      "model_name": "DescriptionStyleModel",
      "state": {
       "description_width": ""
      }
     },
     "9fb09cbf8e714790a0e865b07b18a66d": {
      "model_module": "@jupyter-widgets/controls",
      "model_module_version": "1.5.0",
      "model_name": "HTMLModel",
      "state": {
       "layout": "IPY_MODEL_32bc807aa1e9437789aea15aa093a2f5",
       "style": "IPY_MODEL_6cc5e143d0d94c9192ef320968212de7",
       "value": " 12/12 [00:06&lt;00:00,  1.95it/s]"
      }
     },
     "a09417d54b66491f8b11661c87727c05": {
      "model_module": "@jupyter-widgets/base",
      "model_module_version": "1.2.0",
      "model_name": "LayoutModel",
      "state": {}
     },
     "a0c060d8724f4d838b166670b443f439": {
      "model_module": "@jupyter-widgets/controls",
      "model_module_version": "1.5.0",
      "model_name": "DescriptionStyleModel",
      "state": {
       "description_width": ""
      }
     },
     "a0c7afbae5754a7bb5ee6b89521b1328": {
      "model_module": "@jupyter-widgets/controls",
      "model_module_version": "1.5.0",
      "model_name": "FloatProgressModel",
      "state": {
       "bar_style": "danger",
       "layout": "IPY_MODEL_562ed32f36904a3e87eba2f08a216d0b",
       "max": 12,
       "style": "IPY_MODEL_fa8ce5fd519b40569064048051c6de61",
       "value": 3
      }
     },
     "a0eea065ccdd4c8f83078ff6942825fb": {
      "model_module": "@jupyter-widgets/controls",
      "model_module_version": "1.5.0",
      "model_name": "HTMLModel",
      "state": {
       "layout": "IPY_MODEL_ec58ef73702c4749952ba551bbb584be",
       "style": "IPY_MODEL_77cfe4a37f8743f0a9f7edf8db56cc11",
       "value": " 12/12 [00:02&lt;00:00,  4.07it/s]"
      }
     },
     "a1115fc209e4440fb7e9f1ed2c5c3a85": {
      "model_module": "@jupyter-widgets/base",
      "model_module_version": "1.2.0",
      "model_name": "LayoutModel",
      "state": {}
     },
     "a1485c8097194b93a8de40c74d4bbda8": {
      "model_module": "@jupyter-widgets/controls",
      "model_module_version": "1.5.0",
      "model_name": "ProgressStyleModel",
      "state": {
       "description_width": ""
      }
     },
     "a161318fd6ec40edb0b32c8ce6b45946": {
      "model_module": "@jupyter-widgets/controls",
      "model_module_version": "1.5.0",
      "model_name": "DropdownModel",
      "state": {
       "_options_labels": [
        "lat-force-1",
        "lat-force-2",
        "lat-torque-1",
        "lat-torque-2",
        "med-force-1",
        "med-force-2",
        "med-torque-1",
        "med-torque-2"
       ],
       "description": "Response:",
       "index": 0,
       "layout": "IPY_MODEL_10665a72de54492bb8434335bbdf5319",
       "style": "IPY_MODEL_9e0bf0e9d53341259cab624a8ca014b3"
      }
     },
     "a1e983b4046642bd97f4b1bf3c1374b7": {
      "model_module": "@jupyter-widgets/controls",
      "model_module_version": "1.5.0",
      "model_name": "BoxModel",
      "state": {
       "children": [
        "IPY_MODEL_c47ca23dfdd34ccdb2314bc7b873865c",
        "IPY_MODEL_a554442e92e641d8aad87aa8b32e6e26",
        "IPY_MODEL_70ef386bb3c64621bc8908707f6716d6"
       ],
       "layout": "IPY_MODEL_1818433aaecc4732b2429113d4e6c5f8"
      }
     },
     "a1e9fb22374843cf81d0968612dd28f2": {
      "model_module": "@jupyter-widgets/controls",
      "model_module_version": "1.5.0",
      "model_name": "HBoxModel",
      "state": {
       "children": [
        "IPY_MODEL_5b2caab24b6b40eebfdcb050b6c625bd",
        "IPY_MODEL_117a8a0185fc469a863f6de318ca5fc6",
        "IPY_MODEL_7303b01c19754eeba7cda11a4ce6271d"
       ],
       "layout": "IPY_MODEL_18164897eb27435ba3fc69ce73034db6"
      }
     },
     "a296a48bc76645ff800ef5161ab3bd23": {
      "model_module": "@jupyter-widgets/controls",
      "model_module_version": "1.5.0",
      "model_name": "ProgressStyleModel",
      "state": {
       "description_width": ""
      }
     },
     "a383e9d3c7044b1c8faa5f87feebc08b": {
      "model_module": "@jupyter-widgets/controls",
      "model_module_version": "1.5.0",
      "model_name": "DescriptionStyleModel",
      "state": {
       "description_width": ""
      }
     },
     "a4830a6b02084f84b964357b60cb081f": {
      "model_module": "@jupyter-widgets/controls",
      "model_module_version": "1.5.0",
      "model_name": "HTMLModel",
      "state": {
       "layout": "IPY_MODEL_2b3d0d01adbe40c3baabd98d1d7b0e05",
       "style": "IPY_MODEL_986a61c1984f488bbaaffe584cc972dc",
       "value": " 8/? [00:15&lt;00:00,  1.89s/it]"
      }
     },
     "a49929533d604f9987200be59c662868": {
      "model_module": "@jupyter-widgets/base",
      "model_module_version": "1.2.0",
      "model_name": "LayoutModel",
      "state": {}
     },
     "a4dda3d1a45c45cfb8c58394fed44e5a": {
      "model_module": "@jupyter-widgets/controls",
      "model_module_version": "1.5.0",
      "model_name": "HTMLModel",
      "state": {
       "layout": "IPY_MODEL_771fe57720c743b38d9fb73d2556f397",
       "style": "IPY_MODEL_4f74bca90e7d4931b73f453692d56ad5",
       "value": "100%"
      }
     },
     "a4e92fb422be449da5f936fbfb001ab8": {
      "model_module": "@jupyter-widgets/controls",
      "model_module_version": "1.5.0",
      "model_name": "FloatProgressModel",
      "state": {
       "bar_style": "success",
       "layout": "IPY_MODEL_4446453e2eb341159509cb366a33bafe",
       "max": 12,
       "style": "IPY_MODEL_9b3d8b0e64aa4812aa3100c7759e7bce",
       "value": 12
      }
     },
     "a4fd9a9d692f4306b7c02752f8f3f6e7": {
      "model_module": "@jupyter-widgets/base",
      "model_module_version": "1.2.0",
      "model_name": "LayoutModel",
      "state": {}
     },
     "a54b1d10e91a449ab04e1042c11923ba": {
      "model_module": "@jupyter-widgets/base",
      "model_module_version": "1.2.0",
      "model_name": "LayoutModel",
      "state": {}
     },
     "a554442e92e641d8aad87aa8b32e6e26": {
      "model_module": "@jupyter-widgets/controls",
      "model_module_version": "1.5.0",
      "model_name": "IntSliderModel",
      "state": {
       "continuous_update": false,
       "layout": "IPY_MODEL_851c6529e0324c1b9cd12a58b87b5708",
       "max": 7,
       "readout": false,
       "style": "IPY_MODEL_b3a131349a9f4bb78481d2706b97655e"
      }
     },
     "a5bcc4505c6142dead23115fb15b2b7a": {
      "model_module": "@jupyter-widgets/controls",
      "model_module_version": "1.5.0",
      "model_name": "FloatProgressModel",
      "state": {
       "bar_style": "success",
       "layout": "IPY_MODEL_f0635174d960449f862ad93fd18b42bd",
       "max": 12,
       "style": "IPY_MODEL_3c68b872644c43078db6a3b93c29835b",
       "value": 12
      }
     },
     "a61f5950a61e4eb2a4320db06d7311cb": {
      "model_module": "@jupyter-widgets/controls",
      "model_module_version": "1.5.0",
      "model_name": "HTMLModel",
      "state": {
       "layout": "IPY_MODEL_e9faeed263234745b30dac60e97bc35d",
       "style": "IPY_MODEL_8539c238968a48b0b12973bf56cf3b37",
       "value": " 12/12 [00:04&lt;00:00,  2.90it/s]"
      }
     },
     "a622e5a2d2364552b8c8695de64ca9d7": {
      "model_module": "@jupyter-widgets/controls",
      "model_module_version": "1.5.0",
      "model_name": "HTMLModel",
      "state": {
       "layout": "IPY_MODEL_5f3f9930fc2b451a91fb4f22ebe9cdf7",
       "style": "IPY_MODEL_36d1e8d0948c4509835416b8969a7e77",
       "value": " 12/12 [00:05&lt;00:00,  2.04it/s]"
      }
     },
     "a6777164c1c442f487b56b5f6b7f8b60": {
      "model_module": "@jupyter-widgets/base",
      "model_module_version": "1.2.0",
      "model_name": "LayoutModel",
      "state": {}
     },
     "a691892e969a4077a631a59b576e4e4b": {
      "model_module": "@jupyter-widgets/controls",
      "model_module_version": "1.5.0",
      "model_name": "ProgressStyleModel",
      "state": {
       "description_width": ""
      }
     },
     "a75ec392af5b45639f7adc1824c59fd9": {
      "model_module": "@jupyter-widgets/controls",
      "model_module_version": "1.5.0",
      "model_name": "HBoxModel",
      "state": {
       "children": [
        "IPY_MODEL_35d7d63a59634bb1b3d68dfed702dd81",
        "IPY_MODEL_32c0eefa99804eae906df880d3eaa3aa",
        "IPY_MODEL_f3720d5257c7431f8d5b6b74f2c54d1a"
       ],
       "layout": "IPY_MODEL_cd447f6cd25346e7bc108645d7b63ed8"
      }
     },
     "a784d2e210bd42718a4401e75e938f62": {
      "model_module": "@jupyter-widgets/base",
      "model_module_version": "1.2.0",
      "model_name": "LayoutModel",
      "state": {}
     },
     "a7c8465eeed1485c8ab2a376dc8cde7d": {
      "model_module": "@jupyter-widgets/base",
      "model_module_version": "1.2.0",
      "model_name": "LayoutModel",
      "state": {}
     },
     "a86d975475914575940cb96133aba9e8": {
      "model_module": "@jupyter-widgets/controls",
      "model_module_version": "1.5.0",
      "model_name": "HBoxModel",
      "state": {
       "children": [
        "IPY_MODEL_d5bade25f58b488dbd8b7f88fb99b49c",
        "IPY_MODEL_a0c7afbae5754a7bb5ee6b89521b1328",
        "IPY_MODEL_d1cb6be1fefb4b43848a1111f6350ee7"
       ],
       "layout": "IPY_MODEL_735a0bdd8b404be2ac275e353a6286b5"
      }
     },
     "a8981410345640fea16927f574c02c28": {
      "model_module": "@jupyter-widgets/controls",
      "model_module_version": "1.5.0",
      "model_name": "ProgressStyleModel",
      "state": {
       "description_width": ""
      }
     },
     "a8e8a852a85446bcb34a2f27c1496ead": {
      "model_module": "@jupyter-widgets/base",
      "model_module_version": "1.2.0",
      "model_name": "LayoutModel",
      "state": {}
     },
     "a91e11c433ae409b82119d0d50560f26": {
      "model_module": "@jupyter-widgets/base",
      "model_module_version": "1.2.0",
      "model_name": "LayoutModel",
      "state": {}
     },
     "a92fac34459447288e11c5113f7b0f7b": {
      "model_module": "@jupyter-widgets/controls",
      "model_module_version": "1.5.0",
      "model_name": "ProgressStyleModel",
      "state": {
       "description_width": ""
      }
     },
     "aa3de479804f46308d82d8e1d9b8a168": {
      "model_module": "@jupyter-widgets/controls",
      "model_module_version": "1.5.0",
      "model_name": "HBoxModel",
      "state": {
       "children": [
        "IPY_MODEL_bf70c8404c3d47858ab0004053f9d26c",
        "IPY_MODEL_01a0dd27d600461cade8aa09e7ff7470",
        "IPY_MODEL_4521e1224cb34df8b5a132ab93d6a85f"
       ],
       "layout": "IPY_MODEL_632f92a1704b46658933cf8ede18203c"
      }
     },
     "aa4399eb54264b7791b5e18d6eab943b": {
      "model_module": "@jupyter-widgets/controls",
      "model_module_version": "1.5.0",
      "model_name": "DescriptionStyleModel",
      "state": {
       "description_width": ""
      }
     },
     "aa5cbaee1d13429396c94cfce17e0a01": {
      "model_module": "@jupyter-widgets/controls",
      "model_module_version": "1.5.0",
      "model_name": "ProgressStyleModel",
      "state": {
       "description_width": ""
      }
     },
     "aaaf02fa4b1c4dbcabde1c457204a1ce": {
      "model_module": "@jupyter-widgets/base",
      "model_module_version": "1.2.0",
      "model_name": "LayoutModel",
      "state": {}
     },
     "ab0223ada4fc44279d245ba1b23d1409": {
      "model_module": "@jupyter-widgets/controls",
      "model_module_version": "1.5.0",
      "model_name": "ProgressStyleModel",
      "state": {
       "description_width": ""
      }
     },
     "aba8dae311e946fa8c417fd07795014f": {
      "model_module": "@jupyter-widgets/controls",
      "model_module_version": "1.5.0",
      "model_name": "DescriptionStyleModel",
      "state": {
       "description_width": ""
      }
     },
     "acd1cbe6bc924a8b8a189c13ae5dcb36": {
      "model_module": "@jupyter-widgets/controls",
      "model_module_version": "1.5.0",
      "model_name": "DescriptionStyleModel",
      "state": {
       "description_width": ""
      }
     },
     "add25c8f96bb4e228a9e8fa0e15831de": {
      "model_module": "@jupyter-widgets/controls",
      "model_module_version": "1.5.0",
      "model_name": "HTMLModel",
      "state": {
       "layout": "IPY_MODEL_a7c8465eeed1485c8ab2a376dc8cde7d",
       "style": "IPY_MODEL_6712eefefe9144dd9bab07e75d652f6f",
       "value": " 12/12 [00:01&lt;00:00,  7.49it/s]"
      }
     },
     "ae1193e43db74205b40ddb4ad86071cd": {
      "model_module": "@jupyter-widgets/controls",
      "model_module_version": "1.5.0",
      "model_name": "DescriptionStyleModel",
      "state": {
       "description_width": ""
      }
     },
     "ae141db274174887897ecedf04e23b4e": {
      "model_module": "@jupyter-widgets/controls",
      "model_module_version": "1.5.0",
      "model_name": "HBoxModel",
      "state": {
       "children": [
        "IPY_MODEL_efa9c52c54ab4e2a9efd2b79c73b5d1d",
        "IPY_MODEL_956aaf73de5a40f09145caa8957f435d",
        "IPY_MODEL_bb983ecb8f0c42ae8a97963c7442be55"
       ],
       "layout": "IPY_MODEL_d43c2ef48235489282f5021216e7d197"
      }
     },
     "ae4382d635d148b8b671f4ba8e92c033": {
      "model_module": "@jupyter-widgets/controls",
      "model_module_version": "1.5.0",
      "model_name": "ProgressStyleModel",
      "state": {
       "description_width": ""
      }
     },
     "ae91a7d484a74cf0a9b4692871b5813e": {
      "model_module": "@jupyter-widgets/base",
      "model_module_version": "1.2.0",
      "model_name": "LayoutModel",
      "state": {}
     },
     "aec17b0b5244455fa9400bdfce64cbef": {
      "model_module": "@jupyter-widgets/controls",
      "model_module_version": "1.5.0",
      "model_name": "DescriptionStyleModel",
      "state": {
       "description_width": ""
      }
     },
     "aef6376e42aa4063933e6d850059afe4": {
      "model_module": "@jupyter-widgets/controls",
      "model_module_version": "1.5.0",
      "model_name": "HBoxModel",
      "state": {
       "children": [
        "IPY_MODEL_232c22d1a9db42ffbf5f8ccf914c0cf3",
        "IPY_MODEL_e977e6b8658246708eda3922fd4a126c",
        "IPY_MODEL_d45e884b04154c0f8c6c2a4509d7cd6a"
       ],
       "layout": "IPY_MODEL_c37ab5668b07440fbe0968f02bfad484"
      }
     },
     "aefa7943137d4a239c341fe73de26599": {
      "model_module": "@jupyter-widgets/base",
      "model_module_version": "1.2.0",
      "model_name": "LayoutModel",
      "state": {}
     },
     "af57c7a0e3b547e198a79051f7983f46": {
      "model_module": "@jupyter-widgets/controls",
      "model_module_version": "1.5.0",
      "model_name": "DescriptionStyleModel",
      "state": {
       "description_width": ""
      }
     },
     "afee3ebc0d9045f885a817033cadf299": {
      "model_module": "@jupyter-widgets/controls",
      "model_module_version": "1.5.0",
      "model_name": "HTMLModel",
      "state": {
       "layout": "IPY_MODEL_b8811d993e364ce1b0893ab54d35e099",
       "style": "IPY_MODEL_f0c87cd48aea4e6f8a5848a136c69bc3",
       "value": "100%"
      }
     },
     "b04f44e84db54e6fa2fbc7f87b666191": {
      "model_module": "@jupyter-widgets/base",
      "model_module_version": "1.2.0",
      "model_name": "LayoutModel",
      "state": {}
     },
     "b095452739ab4c27aae22b99f05bc1a7": {
      "model_module": "@jupyter-widgets/base",
      "model_module_version": "1.2.0",
      "model_name": "LayoutModel",
      "state": {}
     },
     "b199403579bc401c84a7487e1c6c549a": {
      "model_module": "@jupyter-widgets/controls",
      "model_module_version": "1.5.0",
      "model_name": "FloatProgressModel",
      "state": {
       "bar_style": "success",
       "layout": "IPY_MODEL_57f1dadc9caf487bb2d7eeca73c32a5f",
       "max": 12,
       "style": "IPY_MODEL_e18c426915bb4e0093d6f9be4cb97a94",
       "value": 12
      }
     },
     "b1faa3081590447d815b6c87f6d6b808": {
      "model_module": "@jupyter-widgets/controls",
      "model_module_version": "1.5.0",
      "model_name": "HTMLModel",
      "state": {
       "layout": "IPY_MODEL_cd6a02bdd07d43e4a4ab4d96f123537c",
       "style": "IPY_MODEL_cde0f8c3384c428b9a0bfecdd577619b",
       "value": "100%"
      }
     },
     "b20a24ca5d9544ac8d2c1005f4dd69a3": {
      "model_module": "@jupyter-widgets/controls",
      "model_module_version": "1.5.0",
      "model_name": "HTMLModel",
      "state": {
       "layout": "IPY_MODEL_c4982626e7294178abe58d512abe9af0",
       "style": "IPY_MODEL_99d0bd37b2104d0aa2a2fc68b6f990ef",
       "value": " 12/12 [00:04&lt;00:00,  2.80it/s]"
      }
     },
     "b27081dea23f464ea7681af29beabcca": {
      "model_module": "@jupyter-widgets/controls",
      "model_module_version": "1.5.0",
      "model_name": "HTMLModel",
      "state": {
       "layout": "IPY_MODEL_aefa7943137d4a239c341fe73de26599",
       "style": "IPY_MODEL_1308da5a9e05411d802a659660034a06",
       "value": "100%"
      }
     },
     "b2a3c6d4af02480fa70bd62a200f095b": {
      "model_module": "@jupyter-widgets/controls",
      "model_module_version": "1.5.0",
      "model_name": "DescriptionStyleModel",
      "state": {
       "description_width": ""
      }
     },
     "b2c896115b7840f2962dc432a3d346de": {
      "model_module": "@jupyter-widgets/controls",
      "model_module_version": "1.5.0",
      "model_name": "HTMLModel",
      "state": {
       "layout": "IPY_MODEL_35152ec82aaf47fc9e204c30abf70cc0",
       "style": "IPY_MODEL_54cd0a1b336c472caef73f93b829765d",
       "value": " 3/12 [00:02&lt;00:08,  1.11it/s]"
      }
     },
     "b2cf3ecd79ea47a78512b7f867d6561e": {
      "model_module": "@jupyter-widgets/controls",
      "model_module_version": "1.5.0",
      "model_name": "DescriptionStyleModel",
      "state": {
       "description_width": ""
      }
     },
     "b3a131349a9f4bb78481d2706b97655e": {
      "model_module": "@jupyter-widgets/controls",
      "model_module_version": "1.5.0",
      "model_name": "SliderStyleModel",
      "state": {
       "description_width": ""
      }
     },
     "b3a3b78a2c3842a692a2b187c2989e93": {
      "model_module": "@jupyter-widgets/base",
      "model_module_version": "1.2.0",
      "model_name": "LayoutModel",
      "state": {}
     },
     "b411a0814c1041b69ede2d738e4b737f": {
      "model_module": "@jupyter-widgets/base",
      "model_module_version": "1.2.0",
      "model_name": "LayoutModel",
      "state": {}
     },
     "b448f82e3c694ab7a9d4df3056bfc5de": {
      "model_module": "@jupyter-widgets/controls",
      "model_module_version": "1.5.0",
      "model_name": "HBoxModel",
      "state": {
       "children": [
        "IPY_MODEL_1fdcbd38e76a4b0489b49df977d8d29d",
        "IPY_MODEL_59879bc7af984a8b91d2fff8fa2f7b6a",
        "IPY_MODEL_b20a24ca5d9544ac8d2c1005f4dd69a3"
       ],
       "layout": "IPY_MODEL_b508a8e6978d40bdae5289c2f1452565"
      }
     },
     "b482753fd78444c8beb3b0c9eedd6779": {
      "model_module": "@jupyter-widgets/controls",
      "model_module_version": "1.5.0",
      "model_name": "DescriptionStyleModel",
      "state": {
       "description_width": ""
      }
     },
     "b508082c1190414b8dae0dc520a89cec": {
      "model_module": "@jupyter-widgets/controls",
      "model_module_version": "1.5.0",
      "model_name": "HTMLModel",
      "state": {
       "layout": "IPY_MODEL_f38009b0a0da4c5c88456e2fd104fd43",
       "style": "IPY_MODEL_d15c823cb2ec4d738a1752b17c3b9a07",
       "value": " 12/12 [00:01&lt;00:00,  7.45it/s]"
      }
     },
     "b508a8e6978d40bdae5289c2f1452565": {
      "model_module": "@jupyter-widgets/base",
      "model_module_version": "1.2.0",
      "model_name": "LayoutModel",
      "state": {}
     },
     "b51727934e4b4c98b00ea191c4f945d7": {
      "model_module": "@jupyter-widgets/controls",
      "model_module_version": "1.5.0",
      "model_name": "ProgressStyleModel",
      "state": {
       "description_width": ""
      }
     },
     "b5633ae3a90a42e39274b06f1c2188e3": {
      "model_module": "@jupyter-widgets/base",
      "model_module_version": "1.2.0",
      "model_name": "LayoutModel",
      "state": {}
     },
     "b620197c88144fc09a74582f850c2595": {
      "model_module": "@jupyter-widgets/controls",
      "model_module_version": "1.5.0",
      "model_name": "HBoxModel",
      "state": {
       "children": [
        "IPY_MODEL_0910b99fd6bc4eeabfd155720fb71e3f",
        "IPY_MODEL_c60d780c19a54ff1a3fa6f24cd2b4a92",
        "IPY_MODEL_0c582dd558c044689632b670c723b711"
       ],
       "layout": "IPY_MODEL_51dea163efa247d4b3599101a49cd557"
      }
     },
     "b7445f918c1a419690ad24128c981511": {
      "model_module": "@jupyter-widgets/controls",
      "model_module_version": "1.5.0",
      "model_name": "DescriptionStyleModel",
      "state": {
       "description_width": ""
      }
     },
     "b7a6d5414a514cefab3de784fd9493de": {
      "model_module": "@jupyter-widgets/controls",
      "model_module_version": "1.5.0",
      "model_name": "HTMLModel",
      "state": {
       "layout": "IPY_MODEL_35f23198bafd4a1ea7450717fabfb419",
       "style": "IPY_MODEL_c8e779c8e93f46a38d633e127745fecc",
       "value": " 12/12 [00:00&lt;00:00, 164.50it/s]"
      }
     },
     "b7aa539c0a0d406a9c745d48e4bccad7": {
      "model_module": "@jupyter-widgets/base",
      "model_module_version": "1.2.0",
      "model_name": "LayoutModel",
      "state": {}
     },
     "b7e2045a75764f0fb1c21af0e9dc0211": {
      "model_module": "@jupyter-widgets/base",
      "model_module_version": "1.2.0",
      "model_name": "LayoutModel",
      "state": {}
     },
     "b82005efcb15434b8ececb9f59c947b8": {
      "model_module": "@jupyter-widgets/controls",
      "model_module_version": "1.5.0",
      "model_name": "FloatProgressModel",
      "state": {
       "bar_style": "success",
       "layout": "IPY_MODEL_d707d62059f041cea1d48a416fca0577",
       "max": 12,
       "style": "IPY_MODEL_881fc140daa34c50a9a6d926e3495720",
       "value": 12
      }
     },
     "b8375e69676042ceabfb1d3065d2a6f4": {
      "model_module": "@jupyter-widgets/base",
      "model_module_version": "1.2.0",
      "model_name": "LayoutModel",
      "state": {}
     },
     "b83b91b239d6444d8595f96c910d21b0": {
      "model_module": "@jupyter-widgets/base",
      "model_module_version": "1.2.0",
      "model_name": "LayoutModel",
      "state": {}
     },
     "b8454c93121542b4a842ba74d37a055b": {
      "model_module": "@jupyter-widgets/base",
      "model_module_version": "1.2.0",
      "model_name": "LayoutModel",
      "state": {}
     },
     "b8811d993e364ce1b0893ab54d35e099": {
      "model_module": "@jupyter-widgets/base",
      "model_module_version": "1.2.0",
      "model_name": "LayoutModel",
      "state": {}
     },
     "b9189253cd684fba921fb4f32dc6a1e0": {
      "model_module": "@jupyter-widgets/controls",
      "model_module_version": "1.5.0",
      "model_name": "HTMLModel",
      "state": {
       "layout": "IPY_MODEL_33fad6b7ce0f4bd8a7702dd1a327d638",
       "style": "IPY_MODEL_3c456363fa0a491489d04e05a4cbe788",
       "value": " 25%"
      }
     },
     "b9ec6c29035246ee84460d9e156fa3b3": {
      "model_module": "@jupyter-widgets/base",
      "model_module_version": "1.2.0",
      "model_name": "LayoutModel",
      "state": {}
     },
     "ba067dadbe1d4c9ca9a0a2a8999789b5": {
      "model_module": "@jupyter-widgets/controls",
      "model_module_version": "1.5.0",
      "model_name": "FloatProgressModel",
      "state": {
       "bar_style": "success",
       "layout": "IPY_MODEL_3b4b7096e8dc40268bb6d486ff0ebbc7",
       "max": 12,
       "style": "IPY_MODEL_e0507a11fc3d4fdda0bdfb2ab3bd0015",
       "value": 12
      }
     },
     "ba29b35e46a647e4a26e4243377b04cd": {
      "model_module": "@jupyter-widgets/base",
      "model_module_version": "1.2.0",
      "model_name": "LayoutModel",
      "state": {}
     },
     "bb21290b5cdc49129e4916be26980b9d": {
      "model_module": "@jupyter-widgets/base",
      "model_module_version": "1.2.0",
      "model_name": "LayoutModel",
      "state": {}
     },
     "bb37d03cb6264863b05240722b2ddbff": {
      "model_module": "@jupyter-widgets/controls",
      "model_module_version": "1.5.0",
      "model_name": "DescriptionStyleModel",
      "state": {
       "description_width": ""
      }
     },
     "bb983ecb8f0c42ae8a97963c7442be55": {
      "model_module": "@jupyter-widgets/controls",
      "model_module_version": "1.5.0",
      "model_name": "HTMLModel",
      "state": {
       "layout": "IPY_MODEL_214abf8cac8f44d8b11ea07442bc1825",
       "style": "IPY_MODEL_c7847dc128d24cfb8be000e8d0a57529",
       "value": " 12/12 [00:00&lt;00:00, 162.16it/s]"
      }
     },
     "bb9b551438f04df189e7259addc212b1": {
      "model_module": "@jupyter-widgets/base",
      "model_module_version": "1.2.0",
      "model_name": "LayoutModel",
      "state": {}
     },
     "bc339e33a00b43ada5c60de184665518": {
      "model_module": "@jupyter-widgets/controls",
      "model_module_version": "1.5.0",
      "model_name": "FloatProgressModel",
      "state": {
       "bar_style": "success",
       "layout": "IPY_MODEL_cfb7afc93f8743ba98b006b9b9427abc",
       "max": 12,
       "style": "IPY_MODEL_e49a0bdcfd024a14b5ec203a23218dfd",
       "value": 12
      }
     },
     "bc8b36375f4f4db7886e5bf0c23f38c9": {
      "model_module": "@jupyter-widgets/base",
      "model_module_version": "1.2.0",
      "model_name": "LayoutModel",
      "state": {}
     },
     "bca8f817de71433c9f815cb97d912067": {
      "model_module": "@jupyter-widgets/controls",
      "model_module_version": "1.5.0",
      "model_name": "HTMLModel",
      "state": {
       "layout": "IPY_MODEL_d39d6e3b60e643b894e853f0f78c666d",
       "style": "IPY_MODEL_14d86f8f2cb344338797fe2f63e51fab",
       "value": " 12/12 [00:02&lt;00:00,  4.62it/s]"
      }
     },
     "bccbd33682464e028367057e4f250351": {
      "model_module": "@jupyter-widgets/controls",
      "model_module_version": "1.5.0",
      "model_name": "DescriptionStyleModel",
      "state": {
       "description_width": ""
      }
     },
     "bcefb4034d484fa28cd0602d2a3f992d": {
      "model_module": "@jupyter-widgets/controls",
      "model_module_version": "1.5.0",
      "model_name": "FloatProgressModel",
      "state": {
       "bar_style": "success",
       "layout": "IPY_MODEL_c823f27feba74979a44c17f2f248012e",
       "max": 12,
       "style": "IPY_MODEL_6db53351311b4a4ead4b5a63b5b5afdb",
       "value": 12
      }
     },
     "bd22c43f625f44f8aa428a736ad50aa4": {
      "model_module": "@jupyter-widgets/controls",
      "model_module_version": "1.5.0",
      "model_name": "DescriptionStyleModel",
      "state": {
       "description_width": ""
      }
     },
     "bd536ff7e2c24412b4bf87f80e22b1c0": {
      "model_module": "@jupyter-widgets/controls",
      "model_module_version": "1.5.0",
      "model_name": "HTMLModel",
      "state": {
       "layout": "IPY_MODEL_006c996f0b664a5bbf02a5dad6c0146c",
       "style": "IPY_MODEL_6dc7a76dacd84dfc899162f20a7685d4",
       "value": " 12/12 [00:02&lt;00:00,  5.39it/s]"
      }
     },
     "bea5af74481240fcab344ec5d8173948": {
      "model_module": "@jupyter-widgets/base",
      "model_module_version": "1.2.0",
      "model_name": "LayoutModel",
      "state": {}
     },
     "beb74da610de450bb644ff2e32b82497": {
      "model_module": "@jupyter-widgets/controls",
      "model_module_version": "1.5.0",
      "model_name": "DescriptionStyleModel",
      "state": {
       "description_width": ""
      }
     },
     "bed6dc0fc9174831b252e34c2fb79baa": {
      "model_module": "@jupyter-widgets/base",
      "model_module_version": "1.2.0",
      "model_name": "LayoutModel",
      "state": {}
     },
     "bf2d60a461ee4df5a7fab5c9200d577c": {
      "model_module": "@jupyter-widgets/base",
      "model_module_version": "1.2.0",
      "model_name": "LayoutModel",
      "state": {}
     },
     "bf70c8404c3d47858ab0004053f9d26c": {
      "model_module": "@jupyter-widgets/controls",
      "model_module_version": "1.5.0",
      "model_name": "HTMLModel",
      "state": {
       "layout": "IPY_MODEL_381c3c31d6bc46649da5dd2c875c17d7",
       "style": "IPY_MODEL_073cd63a03ef4f1b8ac760507ef42ff4",
       "value": " 25%"
      }
     },
     "c0539241c6be486d9b561699f82cc7d9": {
      "model_module": "@jupyter-widgets/controls",
      "model_module_version": "1.5.0",
      "model_name": "HTMLModel",
      "state": {
       "layout": "IPY_MODEL_4830f5aba35c4dec8c0a7e57fbbe2c2c",
       "style": "IPY_MODEL_ec297fded3f34ebeaced221956a6225a",
       "value": "Plotting lat_torque_1: "
      }
     },
     "c08f4f0e23384401b1a7a9115bb8bdfc": {
      "model_module": "@jupyter-widgets/controls",
      "model_module_version": "1.5.0",
      "model_name": "DescriptionStyleModel",
      "state": {
       "description_width": ""
      }
     },
     "c121ce1a98514a5c899d9e119b139075": {
      "model_module": "@jupyter-widgets/controls",
      "model_module_version": "1.5.0",
      "model_name": "HBoxModel",
      "state": {
       "children": [
        "IPY_MODEL_95b7ac3fae2842188684fbab8f59495c",
        "IPY_MODEL_199b819d0c1b4bf19ce8676842fa4789",
        "IPY_MODEL_0be34408e85348cb9621409626336a4d"
       ],
       "layout": "IPY_MODEL_bb21290b5cdc49129e4916be26980b9d"
      }
     },
     "c285fa8e58f14072a86dc93d3b434032": {
      "model_module": "@jupyter-widgets/controls",
      "model_module_version": "1.5.0",
      "model_name": "HTMLModel",
      "state": {
       "layout": "IPY_MODEL_e0b0537fe09040deb52ccc6c8876e05f",
       "style": "IPY_MODEL_1d779f1848d849a49a9c0c0ef13591e5",
       "value": " 8/? [00:14&lt;00:00,  1.76s/it]"
      }
     },
     "c29449fc2dcc480584ce21e802e0cef8": {
      "model_module": "@jupyter-widgets/controls",
      "model_module_version": "1.5.0",
      "model_name": "DescriptionStyleModel",
      "state": {
       "description_width": ""
      }
     },
     "c2d6ad6407954c06ad2d8a3eb70c0a84": {
      "model_module": "@jupyter-widgets/controls",
      "model_module_version": "1.5.0",
      "model_name": "ProgressStyleModel",
      "state": {
       "description_width": ""
      }
     },
     "c322f517a40049518510187997433b8a": {
      "model_module": "@jupyter-widgets/controls",
      "model_module_version": "1.5.0",
      "model_name": "HTMLModel",
      "state": {
       "layout": "IPY_MODEL_bc8b36375f4f4db7886e5bf0c23f38c9",
       "style": "IPY_MODEL_4bebe5bf81c04013894679d82c302f30",
       "value": "100%"
      }
     },
     "c327214f6b9b48f2a547e913281209b2": {
      "model_module": "@jupyter-widgets/controls",
      "model_module_version": "1.5.0",
      "model_name": "DescriptionStyleModel",
      "state": {
       "description_width": ""
      }
     },
     "c37ab5668b07440fbe0968f02bfad484": {
      "model_module": "@jupyter-widgets/base",
      "model_module_version": "1.2.0",
      "model_name": "LayoutModel",
      "state": {}
     },
     "c47472da28684f52875576bbabb1f147": {
      "model_module": "@jupyter-widgets/controls",
      "model_module_version": "1.5.0",
      "model_name": "ProgressStyleModel",
      "state": {
       "description_width": ""
      }
     },
     "c47ca23dfdd34ccdb2314bc7b873865c": {
      "model_module": "@jupyter-widgets/controls",
      "model_module_version": "1.5.0",
      "model_name": "ButtonModel",
      "state": {
       "icon": "arrow-left",
       "layout": "IPY_MODEL_9ccfec658afa4e37b9c7f4aa0ccef3db",
       "style": "IPY_MODEL_e5d33e6df6ae4011a9214e0a0f80e297",
       "tooltip": "Previous image"
      }
     },
     "c4982626e7294178abe58d512abe9af0": {
      "model_module": "@jupyter-widgets/base",
      "model_module_version": "1.2.0",
      "model_name": "LayoutModel",
      "state": {}
     },
     "c4c3e37f984f437892ada1065cead3f6": {
      "model_module": "@jupyter-widgets/controls",
      "model_module_version": "1.5.0",
      "model_name": "HBoxModel",
      "state": {
       "children": [
        "IPY_MODEL_477666f9aa0341b99f67f42d7be019ce",
        "IPY_MODEL_cdfa48adc58a42aaaafa1ee97504758c",
        "IPY_MODEL_e359ec938c104329a4f3f6700ceb1d60"
       ],
       "layout": "IPY_MODEL_eb6ddb79bb524fbfb78a363c2a566eec"
      }
     },
     "c4d3f7cec2fa4b98a23709d4ba26d3d4": {
      "model_module": "@jupyter-widgets/controls",
      "model_module_version": "1.5.0",
      "model_name": "FloatProgressModel",
      "state": {
       "bar_style": "success",
       "layout": "IPY_MODEL_b8375e69676042ceabfb1d3065d2a6f4",
       "max": 12,
       "style": "IPY_MODEL_813f9c4d439b4e3687dc5d3beffaf76d",
       "value": 12
      }
     },
     "c4dd8a3796af4a9caebb5dbfff7a8c39": {
      "model_module": "@jupyter-widgets/controls",
      "model_module_version": "1.5.0",
      "model_name": "DescriptionStyleModel",
      "state": {
       "description_width": ""
      }
     },
     "c524d44637f4417e90c6c28d21531325": {
      "model_module": "@jupyter-widgets/controls",
      "model_module_version": "1.5.0",
      "model_name": "HTMLModel",
      "state": {
       "layout": "IPY_MODEL_f716abd7257c41c1a15924c1052869ca",
       "style": "IPY_MODEL_6b4bd85a573246f3bf367a2dab85a471",
       "value": "100%"
      }
     },
     "c54fe5e2e1f948719f5523661599f512": {
      "model_module": "@jupyter-widgets/controls",
      "model_module_version": "1.5.0",
      "model_name": "FloatProgressModel",
      "state": {
       "bar_style": "success",
       "layout": "IPY_MODEL_54cf363960424fe59095972a461aba0f",
       "max": 12,
       "style": "IPY_MODEL_fb6acbda183948bc902b3a320d8671d3",
       "value": 12
      }
     },
     "c59635a0ab96466a98d26f9e2e7fb531": {
      "model_module": "@jupyter-widgets/base",
      "model_module_version": "1.2.0",
      "model_name": "LayoutModel",
      "state": {}
     },
     "c59c1de1d7204eb8b87e20a5d94abf7d": {
      "model_module": "@jupyter-widgets/controls",
      "model_module_version": "1.5.0",
      "model_name": "FloatProgressModel",
      "state": {
       "bar_style": "success",
       "layout": "IPY_MODEL_f813db2785d14d488a38b6d007fda895",
       "max": 12,
       "style": "IPY_MODEL_a296a48bc76645ff800ef5161ab3bd23",
       "value": 12
      }
     },
     "c5aeb98b1bbc47058283754daf0666ef": {
      "model_module": "@jupyter-widgets/controls",
      "model_module_version": "1.5.0",
      "model_name": "DescriptionStyleModel",
      "state": {
       "description_width": ""
      }
     },
     "c60aa1bcb759483385e14e57ebcd71ce": {
      "model_module": "@jupyter-widgets/controls",
      "model_module_version": "1.5.0",
      "model_name": "FloatProgressModel",
      "state": {
       "bar_style": "success",
       "layout": "IPY_MODEL_85d6e38d460e41cf9892ba1fc1c8e16b",
       "max": 12,
       "style": "IPY_MODEL_e70e06f4bb35480f96bd274e5b232b78",
       "value": 12
      }
     },
     "c60d780c19a54ff1a3fa6f24cd2b4a92": {
      "model_module": "@jupyter-widgets/controls",
      "model_module_version": "1.5.0",
      "model_name": "FloatProgressModel",
      "state": {
       "bar_style": "success",
       "layout": "IPY_MODEL_34a9946b2c0046c39fddf1640ac9f483",
       "max": 12,
       "style": "IPY_MODEL_25e7dbca33f542f3981a1f2c155bea7c",
       "value": 12
      }
     },
     "c6d0440c1f6c4e798e79a099f5c596a4": {
      "model_module": "@jupyter-widgets/base",
      "model_module_version": "1.2.0",
      "model_name": "LayoutModel",
      "state": {}
     },
     "c6ef798c68bd447c8368d351c1b22be8": {
      "model_module": "@jupyter-widgets/base",
      "model_module_version": "1.2.0",
      "model_name": "LayoutModel",
      "state": {}
     },
     "c707c884614846bbb3e96647879312d5": {
      "model_module": "@jupyter-widgets/controls",
      "model_module_version": "1.5.0",
      "model_name": "FloatProgressModel",
      "state": {
       "bar_style": "success",
       "layout": "IPY_MODEL_d9b03547d31d47c0a88f68d01e0fd3f2",
       "max": 7,
       "style": "IPY_MODEL_1eec0946825f4afd80cd94d954754627",
       "value": 7
      }
     },
     "c7847dc128d24cfb8be000e8d0a57529": {
      "model_module": "@jupyter-widgets/controls",
      "model_module_version": "1.5.0",
      "model_name": "DescriptionStyleModel",
      "state": {
       "description_width": ""
      }
     },
     "c823f27feba74979a44c17f2f248012e": {
      "model_module": "@jupyter-widgets/base",
      "model_module_version": "1.2.0",
      "model_name": "LayoutModel",
      "state": {}
     },
     "c8306413638e4e8ebd61d6567313de66": {
      "model_module": "@jupyter-widgets/base",
      "model_module_version": "1.2.0",
      "model_name": "LayoutModel",
      "state": {}
     },
     "c8e779c8e93f46a38d633e127745fecc": {
      "model_module": "@jupyter-widgets/controls",
      "model_module_version": "1.5.0",
      "model_name": "DescriptionStyleModel",
      "state": {
       "description_width": ""
      }
     },
     "c9257668dc0745269aff5dd44947c7ae": {
      "model_module": "@jupyter-widgets/controls",
      "model_module_version": "1.5.0",
      "model_name": "ProgressStyleModel",
      "state": {
       "description_width": ""
      }
     },
     "c9d41c93efe54cf8a70c43c0f8bedc6e": {
      "model_module": "@jupyter-widgets/base",
      "model_module_version": "1.2.0",
      "model_name": "LayoutModel",
      "state": {}
     },
     "ca0d7da9aae64bd3b6a2a30ba5ebc17a": {
      "model_module": "@jupyter-widgets/controls",
      "model_module_version": "1.5.0",
      "model_name": "HTMLModel",
      "state": {
       "layout": "IPY_MODEL_f401dd97e282443cb13924d5a58359c9",
       "style": "IPY_MODEL_48ed88ec672348d38a0cabdd67b93aaf",
       "value": "Plotting med_force_1: "
      }
     },
     "ca9d96e75248422aa50acd92234cb7e7": {
      "model_module": "@jupyter-widgets/base",
      "model_module_version": "1.2.0",
      "model_name": "LayoutModel",
      "state": {}
     },
     "cab8a79d3db04eb4ad0fa09cf9ee34b7": {
      "model_module": "@jupyter-widgets/controls",
      "model_module_version": "1.5.0",
      "model_name": "FloatProgressModel",
      "state": {
       "bar_style": "success",
       "layout": "IPY_MODEL_02ecb6f79de042fe86ee1cf2500304a8",
       "max": 12,
       "style": "IPY_MODEL_e51b938a79ed4b6f86a1f764d48cb006",
       "value": 12
      }
     },
     "cb0cf6a79b89450e97ff2bafde7a21c8": {
      "model_module": "@jupyter-widgets/controls",
      "model_module_version": "1.5.0",
      "model_name": "ProgressStyleModel",
      "state": {
       "description_width": ""
      }
     },
     "cb13add08f524541acd540f447038101": {
      "model_module": "@jupyter-widgets/controls",
      "model_module_version": "1.5.0",
      "model_name": "HTMLModel",
      "state": {
       "layout": "IPY_MODEL_e4057c2242094c979da61bf2f84e59ff",
       "style": "IPY_MODEL_42d3afeb14d84a469e15b265e81f64f8",
       "value": " 12/12 [00:03&lt;00:00,  3.05it/s]"
      }
     },
     "cb1551cea91c47498e7dfafa24cffa7e": {
      "model_module": "@jupyter-widgets/controls",
      "model_module_version": "1.5.0",
      "model_name": "FloatProgressModel",
      "state": {
       "bar_style": "success",
       "layout": "IPY_MODEL_ce74c45d1aa7416eb040dabc3f256039",
       "max": 12,
       "style": "IPY_MODEL_4eb427a51a17434990cdd393ec1d0bf2",
       "value": 12
      }
     },
     "cb81dcd53c8f457a8398bf3e012b3c59": {
      "model_module": "@jupyter-widgets/controls",
      "model_module_version": "1.5.0",
      "model_name": "FloatProgressModel",
      "state": {
       "bar_style": "success",
       "layout": "IPY_MODEL_b04f44e84db54e6fa2fbc7f87b666191",
       "max": 12,
       "style": "IPY_MODEL_c2d6ad6407954c06ad2d8a3eb70c0a84",
       "value": 12
      }
     },
     "cb9072cf29cd42bd8a77ca4ceca13223": {
      "model_module": "@jupyter-widgets/base",
      "model_module_version": "1.2.0",
      "model_name": "LayoutModel",
      "state": {}
     },
     "cbd403d3f9cd48f3b7af19b50fecd53c": {
      "model_module": "@jupyter-widgets/controls",
      "model_module_version": "1.5.0",
      "model_name": "DescriptionStyleModel",
      "state": {
       "description_width": ""
      }
     },
     "cccb78b76731423da429ce7cf5068d43": {
      "model_module": "@jupyter-widgets/controls",
      "model_module_version": "1.5.0",
      "model_name": "FloatProgressModel",
      "state": {
       "bar_style": "success",
       "layout": "IPY_MODEL_15eb066bdbb844c5ab71acbd3a794073",
       "max": 12,
       "style": "IPY_MODEL_3efee4733bf2472999124d638bab7cb4",
       "value": 12
      }
     },
     "cd1745989e8a4543b86cce681f8c1824": {
      "model_module": "@jupyter-widgets/base",
      "model_module_version": "1.2.0",
      "model_name": "LayoutModel",
      "state": {}
     },
     "cd447f6cd25346e7bc108645d7b63ed8": {
      "model_module": "@jupyter-widgets/base",
      "model_module_version": "1.2.0",
      "model_name": "LayoutModel",
      "state": {}
     },
     "cd4dd186b41441c7b03b391c9b144662": {
      "model_module": "@jupyter-widgets/base",
      "model_module_version": "1.2.0",
      "model_name": "LayoutModel",
      "state": {}
     },
     "cd6a02bdd07d43e4a4ab4d96f123537c": {
      "model_module": "@jupyter-widgets/base",
      "model_module_version": "1.2.0",
      "model_name": "LayoutModel",
      "state": {}
     },
     "cde0f8c3384c428b9a0bfecdd577619b": {
      "model_module": "@jupyter-widgets/controls",
      "model_module_version": "1.5.0",
      "model_name": "DescriptionStyleModel",
      "state": {
       "description_width": ""
      }
     },
     "cdf924f7dc0b454dbdf46626f52bad04": {
      "model_module": "@jupyter-widgets/controls",
      "model_module_version": "1.5.0",
      "model_name": "DescriptionStyleModel",
      "state": {
       "description_width": ""
      }
     },
     "cdfa48adc58a42aaaafa1ee97504758c": {
      "model_module": "@jupyter-widgets/controls",
      "model_module_version": "1.5.0",
      "model_name": "FloatProgressModel",
      "state": {
       "bar_style": "success",
       "layout": "IPY_MODEL_cf8e89f821e4498091dee723cdf9a767",
       "max": 12,
       "style": "IPY_MODEL_29b350037e5c4f60a6afda452cf7da9f",
       "value": 12
      }
     },
     "ce74c45d1aa7416eb040dabc3f256039": {
      "model_module": "@jupyter-widgets/base",
      "model_module_version": "1.2.0",
      "model_name": "LayoutModel",
      "state": {}
     },
     "ce7db81374334b6ba2ba0ff1f9708bcb": {
      "model_module": "@jupyter-widgets/controls",
      "model_module_version": "1.5.0",
      "model_name": "DescriptionStyleModel",
      "state": {
       "description_width": ""
      }
     },
     "cea55e672f60456aa9057f2a3cfba2bd": {
      "model_module": "@jupyter-widgets/controls",
      "model_module_version": "1.5.0",
      "model_name": "HTMLModel",
      "state": {
       "layout": "IPY_MODEL_01c08c398638414e95d2e06f413185ae",
       "style": "IPY_MODEL_2da0b16ee62a464a93a63451bde509f1",
       "value": " 12/12 [00:02&lt;00:00,  4.48it/s]"
      }
     },
     "ced84daca2934560be350f596e1f77fe": {
      "model_module": "@jupyter-widgets/base",
      "model_module_version": "1.2.0",
      "model_name": "LayoutModel",
      "state": {}
     },
     "cf5a08c028ae4509975d107eddfffc19": {
      "model_module": "@jupyter-widgets/controls",
      "model_module_version": "1.5.0",
      "model_name": "DescriptionStyleModel",
      "state": {
       "description_width": ""
      }
     },
     "cf69793ffb5340d799de9f691898f17c": {
      "model_module": "@jupyter-widgets/controls",
      "model_module_version": "1.5.0",
      "model_name": "FloatProgressModel",
      "state": {
       "bar_style": "success",
       "layout": "IPY_MODEL_39f63241353544e585ed3dccbfcc6306",
       "max": 12,
       "style": "IPY_MODEL_79968d35e52c46a59402ecffa41ed5f7",
       "value": 12
      }
     },
     "cf8e89f821e4498091dee723cdf9a767": {
      "model_module": "@jupyter-widgets/base",
      "model_module_version": "1.2.0",
      "model_name": "LayoutModel",
      "state": {}
     },
     "cfb67f5537e34db680e14362c3344ba0": {
      "model_module": "@jupyter-widgets/base",
      "model_module_version": "1.2.0",
      "model_name": "LayoutModel",
      "state": {}
     },
     "cfb7afc93f8743ba98b006b9b9427abc": {
      "model_module": "@jupyter-widgets/base",
      "model_module_version": "1.2.0",
      "model_name": "LayoutModel",
      "state": {}
     },
     "cfcf1bb696894f9eb45e8a4cb93d57e6": {
      "model_module": "@jupyter-widgets/base",
      "model_module_version": "1.2.0",
      "model_name": "LayoutModel",
      "state": {}
     },
     "d15c823cb2ec4d738a1752b17c3b9a07": {
      "model_module": "@jupyter-widgets/controls",
      "model_module_version": "1.5.0",
      "model_name": "DescriptionStyleModel",
      "state": {
       "description_width": ""
      }
     },
     "d1b3fa62c0714bd1b12022c7754a38c9": {
      "model_module": "@jupyter-widgets/controls",
      "model_module_version": "1.5.0",
      "model_name": "FloatProgressModel",
      "state": {
       "bar_style": "success",
       "layout": "IPY_MODEL_173c2d524c7545ecb32abf7f0e389aad",
       "max": 12,
       "style": "IPY_MODEL_531e30a4aabf40eab41ddb68431ae512",
       "value": 12
      }
     },
     "d1cb6be1fefb4b43848a1111f6350ee7": {
      "model_module": "@jupyter-widgets/controls",
      "model_module_version": "1.5.0",
      "model_name": "HTMLModel",
      "state": {
       "layout": "IPY_MODEL_4543d9eb5c5a49ac88d9ce2e1f6a33fb",
       "style": "IPY_MODEL_007407f95a48427b99ea100a7a5bb1a1",
       "value": " 3/12 [00:01&lt;00:04,  2.01it/s]"
      }
     },
     "d240b416c11348e4b85d7529a44400d4": {
      "model_module": "@jupyter-widgets/base",
      "model_module_version": "1.2.0",
      "model_name": "LayoutModel",
      "state": {}
     },
     "d24cef93461c420c962a8de6987a542c": {
      "model_module": "@jupyter-widgets/base",
      "model_module_version": "1.2.0",
      "model_name": "LayoutModel",
      "state": {}
     },
     "d297104d3d8c4e109c1e89f4cbbed3b5": {
      "model_module": "@jupyter-widgets/controls",
      "model_module_version": "1.5.0",
      "model_name": "HTMLModel",
      "state": {
       "layout": "IPY_MODEL_157f360ee46840baa83a31bcc76ec4bc",
       "style": "IPY_MODEL_f82109fee1774d0d8ef4abf1df34459d",
       "value": " 8/? [00:14&lt;00:00,  1.76s/it]"
      }
     },
     "d2cada1b414e4b84b0214b79e6b235db": {
      "model_module": "@jupyter-widgets/base",
      "model_module_version": "1.2.0",
      "model_name": "LayoutModel",
      "state": {}
     },
     "d2fe4bf0dadd4494a498a45d73480340": {
      "model_module": "@jupyter-widgets/base",
      "model_module_version": "1.2.0",
      "model_name": "LayoutModel",
      "state": {}
     },
     "d39d6e3b60e643b894e853f0f78c666d": {
      "model_module": "@jupyter-widgets/base",
      "model_module_version": "1.2.0",
      "model_name": "LayoutModel",
      "state": {}
     },
     "d3b8cd3e365d484ca67af9bbc704921a": {
      "model_module": "@jupyter-widgets/base",
      "model_module_version": "1.2.0",
      "model_name": "LayoutModel",
      "state": {}
     },
     "d3bab4b845ae4c59a13aab3f37917713": {
      "model_module": "@jupyter-widgets/base",
      "model_module_version": "1.2.0",
      "model_name": "LayoutModel",
      "state": {}
     },
     "d3f51239007943dbb3e3d9a8226f0232": {
      "model_module": "@jupyter-widgets/controls",
      "model_module_version": "1.5.0",
      "model_name": "DescriptionStyleModel",
      "state": {
       "description_width": ""
      }
     },
     "d4093e4af0c049f3bfdc01d81ff47397": {
      "model_module": "@jupyter-widgets/base",
      "model_module_version": "1.2.0",
      "model_name": "LayoutModel",
      "state": {}
     },
     "d43c2ef48235489282f5021216e7d197": {
      "model_module": "@jupyter-widgets/base",
      "model_module_version": "1.2.0",
      "model_name": "LayoutModel",
      "state": {}
     },
     "d45e884b04154c0f8c6c2a4509d7cd6a": {
      "model_module": "@jupyter-widgets/controls",
      "model_module_version": "1.5.0",
      "model_name": "HTMLModel",
      "state": {
       "layout": "IPY_MODEL_62b6035083f14c9ca872a3c1efa02a45",
       "style": "IPY_MODEL_aa4399eb54264b7791b5e18d6eab943b",
       "value": " 12/12 [00:01&lt;00:00,  7.54it/s]"
      }
     },
     "d46bfa312dfd4731a38670843419eb6e": {
      "model_module": "@jupyter-widgets/controls",
      "model_module_version": "1.5.0",
      "model_name": "DescriptionStyleModel",
      "state": {
       "description_width": ""
      }
     },
     "d4884a0c8a274be88cd0d425ad4fc6e7": {
      "model_module": "@jupyter-widgets/controls",
      "model_module_version": "1.5.0",
      "model_name": "DescriptionStyleModel",
      "state": {
       "description_width": ""
      }
     },
     "d4a54acdee3a481a9953e8eb3003c74a": {
      "model_module": "@jupyter-widgets/controls",
      "model_module_version": "1.5.0",
      "model_name": "DescriptionStyleModel",
      "state": {
       "description_width": ""
      }
     },
     "d557d616b64044118a51f0e11163ec4a": {
      "model_module": "@jupyter-widgets/controls",
      "model_module_version": "1.5.0",
      "model_name": "HBoxModel",
      "state": {
       "children": [
        "IPY_MODEL_97bd0c9fba2749e3892f3e927401a27f",
        "IPY_MODEL_087f620f7eeb4c8b96ea0603ce0ff848",
        "IPY_MODEL_2b8a9c1f339848c596c6402ed8e1ed46"
       ],
       "layout": "IPY_MODEL_4f6d4d9b20814dc8aadf40d4c58f4cd2"
      }
     },
     "d5bade25f58b488dbd8b7f88fb99b49c": {
      "model_module": "@jupyter-widgets/controls",
      "model_module_version": "1.5.0",
      "model_name": "HTMLModel",
      "state": {
       "layout": "IPY_MODEL_c6d0440c1f6c4e798e79a099f5c596a4",
       "style": "IPY_MODEL_aba8dae311e946fa8c417fd07795014f",
       "value": " 25%"
      }
     },
     "d610277d98984b93ad3c7277ebd06b5d": {
      "model_module": "@jupyter-widgets/controls",
      "model_module_version": "1.5.0",
      "model_name": "HBoxModel",
      "state": {
       "children": [
        "IPY_MODEL_f8d724b334c14163b842e9740632f20f",
        "IPY_MODEL_5ab33442374949bca262109c38ed230a",
        "IPY_MODEL_014425b2304444fd914007e080f7da62"
       ],
       "layout": "IPY_MODEL_a6777164c1c442f487b56b5f6b7f8b60"
      }
     },
     "d621520fc9404e3eb9c94fa5e38f817d": {
      "model_module": "@jupyter-widgets/controls",
      "model_module_version": "1.5.0",
      "model_name": "ProgressStyleModel",
      "state": {
       "description_width": ""
      }
     },
     "d648e988b5a446e3bbc3e99b33b11913": {
      "model_module": "@jupyter-widgets/controls",
      "model_module_version": "1.5.0",
      "model_name": "HBoxModel",
      "state": {
       "children": [
        "IPY_MODEL_699cb6f8c0da459e81d7c9048bbf6bc0",
        "IPY_MODEL_545f286716274e24ae7b265cfe2b1f22",
        "IPY_MODEL_3040fd1a6a5f46b8b92421c442c730bf"
       ],
       "layout": "IPY_MODEL_15979345587e473cbdd8d8cafe30c131"
      }
     },
     "d685871108c04542beadeb74c6f1a740": {
      "model_module": "@jupyter-widgets/base",
      "model_module_version": "1.2.0",
      "model_name": "LayoutModel",
      "state": {}
     },
     "d686baf6b6cd4170bb91dca4c939e01c": {
      "model_module": "@jupyter-widgets/base",
      "model_module_version": "1.2.0",
      "model_name": "LayoutModel",
      "state": {}
     },
     "d69f197da33a41b58be8c2afcd9af954": {
      "model_module": "@jupyter-widgets/base",
      "model_module_version": "1.2.0",
      "model_name": "LayoutModel",
      "state": {}
     },
     "d6aab960c0b74e359d836849bc6f8e4c": {
      "model_module": "@jupyter-widgets/controls",
      "model_module_version": "1.5.0",
      "model_name": "DescriptionStyleModel",
      "state": {
       "description_width": ""
      }
     },
     "d6c51fc95c624634829f52085f47827b": {
      "model_module": "@jupyter-widgets/controls",
      "model_module_version": "1.5.0",
      "model_name": "HTMLModel",
      "state": {
       "layout": "IPY_MODEL_8533964bded74c2f9fab833c8eb24d1b",
       "style": "IPY_MODEL_c5aeb98b1bbc47058283754daf0666ef",
       "value": " 12/12 [00:02&lt;00:00,  4.06it/s]"
      }
     },
     "d6cf31cbc1234024bd32077fb7d8b2ba": {
      "model_module": "@jupyter-widgets/controls",
      "model_module_version": "1.5.0",
      "model_name": "HBoxModel",
      "state": {
       "children": [
        "IPY_MODEL_60938cd16fcd49af9e3593c10716d53c",
        "IPY_MODEL_28fa057a4d9349a7a177b0964942ed0c",
        "IPY_MODEL_a61f5950a61e4eb2a4320db06d7311cb"
       ],
       "layout": "IPY_MODEL_7ff66d77c6714aa7ae18f8135e8557d7"
      }
     },
     "d6ec8048fed942c6a7da31dba496b3db": {
      "model_module": "@jupyter-widgets/controls",
      "model_module_version": "1.5.0",
      "model_name": "HTMLModel",
      "state": {
       "layout": "IPY_MODEL_cfb67f5537e34db680e14362c3344ba0",
       "style": "IPY_MODEL_0033005e67854135854cf993ad06de7d",
       "value": " 25%"
      }
     },
     "d707d62059f041cea1d48a416fca0577": {
      "model_module": "@jupyter-widgets/base",
      "model_module_version": "1.2.0",
      "model_name": "LayoutModel",
      "state": {}
     },
     "d743733f45de49fba0dddaaaa21e4fc2": {
      "model_module": "@jupyter-widgets/base",
      "model_module_version": "1.2.0",
      "model_name": "LayoutModel",
      "state": {}
     },
     "d80a69b132344ffca972845a9f0cba90": {
      "model_module": "@jupyter-widgets/controls",
      "model_module_version": "1.5.0",
      "model_name": "HTMLModel",
      "state": {
       "layout": "IPY_MODEL_e499d283f2984797b797798972e7468b",
       "style": "IPY_MODEL_cdf924f7dc0b454dbdf46626f52bad04",
       "value": "Plotting lat_torque_2: "
      }
     },
     "d9098fd9b00945e3861c02955f99888b": {
      "model_module": "@jupyter-widgets/controls",
      "model_module_version": "1.5.0",
      "model_name": "HTMLModel",
      "state": {
       "layout": "IPY_MODEL_4e618a71afe84ef3bb732156522e37be",
       "style": "IPY_MODEL_6cc4149ffb7f473d9b658159e46b89e9",
       "value": " 3/12 [00:03&lt;00:09,  1.03s/it]"
      }
     },
     "d91ab927a6744ac7a6c8f85091f92fcb": {
      "model_module": "@jupyter-widgets/base",
      "model_module_version": "1.2.0",
      "model_name": "LayoutModel",
      "state": {}
     },
     "d93a45423a7b47f7a2d9e080968a3718": {
      "model_module": "@jupyter-widgets/controls",
      "model_module_version": "1.5.0",
      "model_name": "HBoxModel",
      "state": {
       "children": [
        "IPY_MODEL_db30751a97334aa0ae02aa0a71d342d7",
        "IPY_MODEL_42d5669c088c4a14a3bc0b27950380e8",
        "IPY_MODEL_55e2c6c59908439a923ff4fad09d823f"
       ],
       "layout": "IPY_MODEL_ed35f038a0ee48859013bd408cd5e6d1"
      }
     },
     "d9b03547d31d47c0a88f68d01e0fd3f2": {
      "model_module": "@jupyter-widgets/base",
      "model_module_version": "1.2.0",
      "model_name": "LayoutModel",
      "state": {}
     },
     "d9bb550e2e324f7e81c339c16ea0052c": {
      "model_module": "@jupyter-widgets/base",
      "model_module_version": "1.2.0",
      "model_name": "LayoutModel",
      "state": {}
     },
     "d9bfc2925c9840feabb9a53da815c784": {
      "model_module": "@jupyter-widgets/controls",
      "model_module_version": "1.5.0",
      "model_name": "HBoxModel",
      "state": {
       "children": [
        "IPY_MODEL_8fd6560a11e14d9cbdd8ade979c56a60",
        "IPY_MODEL_c54fe5e2e1f948719f5523661599f512",
        "IPY_MODEL_768d541bc1434ac2b9858399d286c9f8"
       ],
       "layout": "IPY_MODEL_2722fdca3aa94e8a9d140ce7ea4f282c"
      }
     },
     "da72bea7bbee4d61a23606ec7db0b598": {
      "model_module": "@jupyter-widgets/controls",
      "model_module_version": "1.5.0",
      "model_name": "HBoxModel",
      "state": {
       "children": [
        "IPY_MODEL_afee3ebc0d9045f885a817033cadf299",
        "IPY_MODEL_cb1551cea91c47498e7dfafa24cffa7e",
        "IPY_MODEL_a622e5a2d2364552b8c8695de64ca9d7"
       ],
       "layout": "IPY_MODEL_d2cada1b414e4b84b0214b79e6b235db"
      }
     },
     "da75061ed1a94190894b752f41263a43": {
      "model_module": "@jupyter-widgets/base",
      "model_module_version": "1.2.0",
      "model_name": "LayoutModel",
      "state": {}
     },
     "dac77fdd9cbd4bffaceece82d70da96d": {
      "model_module": "@jupyter-widgets/base",
      "model_module_version": "1.2.0",
      "model_name": "LayoutModel",
      "state": {}
     },
     "daf57e6b3b824217ab7e823fa768d3f1": {
      "model_module": "@jupyter-widgets/base",
      "model_module_version": "1.2.0",
      "model_name": "LayoutModel",
      "state": {}
     },
     "db008c0cb7294a73939ef7bc5dfa0f19": {
      "model_module": "@jupyter-widgets/controls",
      "model_module_version": "1.5.0",
      "model_name": "HBoxModel",
      "state": {
       "children": [
        "IPY_MODEL_0cac5d06cf28464ca52cf2c242c01922",
        "IPY_MODEL_df17cb02cebe4f0198c9310b5703ea48",
        "IPY_MODEL_fe5157b595ee4a2f9e76f3e058c217c0"
       ],
       "layout": "IPY_MODEL_a54b1d10e91a449ab04e1042c11923ba"
      }
     },
     "db30751a97334aa0ae02aa0a71d342d7": {
      "model_module": "@jupyter-widgets/controls",
      "model_module_version": "1.5.0",
      "model_name": "HTMLModel",
      "state": {
       "layout": "IPY_MODEL_c8306413638e4e8ebd61d6567313de66",
       "style": "IPY_MODEL_5922091a9cfc424ebaacde28baefbd1c",
       "value": "100%"
      }
     },
     "db3556a6382f4793a32522bee3426253": {
      "model_module": "@jupyter-widgets/controls",
      "model_module_version": "1.5.0",
      "model_name": "HTMLModel",
      "state": {
       "layout": "IPY_MODEL_980a33c619634eca9840a111bea279a6",
       "style": "IPY_MODEL_d4a54acdee3a481a9953e8eb3003c74a",
       "value": "Plotting med_force_2: "
      }
     },
     "db65413029e24ef0938f05d820590f04": {
      "model_module": "@jupyter-widgets/controls",
      "model_module_version": "1.5.0",
      "model_name": "DescriptionStyleModel",
      "state": {
       "description_width": ""
      }
     },
     "dbab42a226d946b385e39f5f8da85fd9": {
      "model_module": "@jupyter-widgets/controls",
      "model_module_version": "1.5.0",
      "model_name": "HTMLModel",
      "state": {
       "layout": "IPY_MODEL_eb99ac8565ed41d4bbfedc80b9761cdf",
       "style": "IPY_MODEL_211e95f7d58a470a9c6189f0d919cdbb",
       "value": " 12/12 [00:01&lt;00:00,  6.51it/s]"
      }
     },
     "dd47248939f74a69937eef6ff144956e": {
      "model_module": "@jupyter-widgets/controls",
      "model_module_version": "1.5.0",
      "model_name": "FloatProgressModel",
      "state": {
       "bar_style": "danger",
       "layout": "IPY_MODEL_d24cef93461c420c962a8de6987a542c",
       "max": 12,
       "style": "IPY_MODEL_7d6e5a09e7c742f5a2a29376607c014f",
       "value": 3
      }
     },
     "dd59bde33d6440cd9eebdee1ac752460": {
      "model_module": "@jupyter-widgets/controls",
      "model_module_version": "1.5.0",
      "model_name": "HTMLModel",
      "state": {
       "layout": "IPY_MODEL_1223c6a4b18b4aaf82c2a85fcc7e2e54",
       "style": "IPY_MODEL_089f3b3311c24a4180b589645c05a222",
       "value": " 12/12 [00:04&lt;00:00,  2.98it/s]"
      }
     },
     "dd790b88878a4ad09cdedf4ea2f8f5b1": {
      "model_module": "@jupyter-widgets/controls",
      "model_module_version": "1.5.0",
      "model_name": "ProgressStyleModel",
      "state": {
       "description_width": ""
      }
     },
     "dd7f42fd82be46d2be4161ae100e841b": {
      "model_module": "@jupyter-widgets/base",
      "model_module_version": "1.2.0",
      "model_name": "LayoutModel",
      "state": {}
     },
     "ddbf257379854a96b03c18e780dcced2": {
      "model_module": "@jupyter-widgets/base",
      "model_module_version": "1.2.0",
      "model_name": "LayoutModel",
      "state": {}
     },
     "ddc3bc8068db4dc4baed7cb1937e5ca2": {
      "model_module": "@jupyter-widgets/controls",
      "model_module_version": "1.5.0",
      "model_name": "HBoxModel",
      "state": {
       "children": [
        "IPY_MODEL_381b2c8211914872a540c6e6f4ddd793",
        "IPY_MODEL_dd47248939f74a69937eef6ff144956e",
        "IPY_MODEL_d9098fd9b00945e3861c02955f99888b"
       ],
       "layout": "IPY_MODEL_ea118474c6114e0ca67900c8835eebd7"
      }
     },
     "ddc588c3214f4a03bb78f265230da8b9": {
      "model_module": "@jupyter-widgets/controls",
      "model_module_version": "1.5.0",
      "model_name": "HTMLModel",
      "state": {
       "layout": "IPY_MODEL_249d9741c6cd4ba4b48f6168cbdaeb32",
       "style": "IPY_MODEL_7a7c7a4fb2ec4d9f9a01d4adf6ba9733",
       "value": " 25%"
      }
     },
     "ddc9e549c10f442a9ba2ae6cf156f38a": {
      "model_module": "@jupyter-widgets/controls",
      "model_module_version": "1.5.0",
      "model_name": "BoxModel",
      "state": {
       "children": [
        "IPY_MODEL_3391b729b4cc4f229a2fd0673e7a4a33",
        "IPY_MODEL_7f25df6750b44a8faaed95a22c6c56ad",
        "IPY_MODEL_a161318fd6ec40edb0b32c8ce6b45946"
       ],
       "layout": "IPY_MODEL_1818433aaecc4732b2429113d4e6c5f8"
      }
     },
     "de0fe6fd4bdd445fb23707ace662d412": {
      "model_module": "@jupyter-widgets/base",
      "model_module_version": "1.2.0",
      "model_name": "LayoutModel",
      "state": {}
     },
     "dea9c8d7259f4e7fb89b04aa40ca2b24": {
      "model_module": "@jupyter-widgets/controls",
      "model_module_version": "1.5.0",
      "model_name": "DescriptionStyleModel",
      "state": {
       "description_width": ""
      }
     },
     "df06e023611f469183a9de17a7dcd61d": {
      "model_module": "@jupyter-widgets/base",
      "model_module_version": "1.2.0",
      "model_name": "LayoutModel",
      "state": {}
     },
     "df13ca919a7c413c9273143b87123cf4": {
      "model_module": "@jupyter-widgets/controls",
      "model_module_version": "1.5.0",
      "model_name": "ProgressStyleModel",
      "state": {
       "description_width": ""
      }
     },
     "df17cb02cebe4f0198c9310b5703ea48": {
      "model_module": "@jupyter-widgets/controls",
      "model_module_version": "1.5.0",
      "model_name": "FloatProgressModel",
      "state": {
       "bar_style": "success",
       "layout": "IPY_MODEL_63ff7234fd5c4f8da90333fa6f876b18",
       "max": 12,
       "style": "IPY_MODEL_508c46697de441d5a657581d107cc88a",
       "value": 12
      }
     },
     "df18160078b24d78b18282e66120e7df": {
      "model_module": "@jupyter-widgets/base",
      "model_module_version": "1.2.0",
      "model_name": "LayoutModel",
      "state": {}
     },
     "df899ed056b54126a21e8118e6cff2a4": {
      "model_module": "@jupyter-widgets/base",
      "model_module_version": "1.2.0",
      "model_name": "LayoutModel",
      "state": {}
     },
     "e01c46819eef4c409e43accc6e987de3": {
      "model_module": "@jupyter-widgets/controls",
      "model_module_version": "1.5.0",
      "model_name": "HBoxModel",
      "state": {
       "children": [
        "IPY_MODEL_0cfb3092ecbd477abbaac410530053c6",
        "IPY_MODEL_c60aa1bcb759483385e14e57ebcd71ce",
        "IPY_MODEL_390605d0ac864769834343d34c9fe0f8"
       ],
       "layout": "IPY_MODEL_cb9072cf29cd42bd8a77ca4ceca13223"
      }
     },
     "e0507a11fc3d4fdda0bdfb2ab3bd0015": {
      "model_module": "@jupyter-widgets/controls",
      "model_module_version": "1.5.0",
      "model_name": "ProgressStyleModel",
      "state": {
       "description_width": ""
      }
     },
     "e065d3fdd9bb4e25896097966d5d6566": {
      "model_module": "@jupyter-widgets/controls",
      "model_module_version": "1.5.0",
      "model_name": "DescriptionStyleModel",
      "state": {
       "description_width": ""
      }
     },
     "e0b0537fe09040deb52ccc6c8876e05f": {
      "model_module": "@jupyter-widgets/base",
      "model_module_version": "1.2.0",
      "model_name": "LayoutModel",
      "state": {}
     },
     "e0bbbf40dd834ae09a2106a0be6fd271": {
      "model_module": "@jupyter-widgets/controls",
      "model_module_version": "1.5.0",
      "model_name": "HTMLModel",
      "state": {
       "layout": "IPY_MODEL_7e775cf4051a474aa7ea03cb033c6a71",
       "style": "IPY_MODEL_e065d3fdd9bb4e25896097966d5d6566",
       "value": " 25%"
      }
     },
     "e13d69c46cd1490197459cb8e6f44d5e": {
      "model_module": "@jupyter-widgets/controls",
      "model_module_version": "1.5.0",
      "model_name": "HBoxModel",
      "state": {
       "children": [
        "IPY_MODEL_0b8d2ef57bb2412cb41e52f0cb86d98e",
        "IPY_MODEL_1b8275d2b0a640089d85576d60b138b6",
        "IPY_MODEL_0595c18111394792afc86f08be77c134"
       ],
       "layout": "IPY_MODEL_87de1057282f495c9d9481791a05f596"
      }
     },
     "e143d4e634264bd1bf573b1608fa986e": {
      "model_module": "@jupyter-widgets/controls",
      "model_module_version": "1.5.0",
      "model_name": "FloatProgressModel",
      "state": {
       "bar_style": "success",
       "layout": "IPY_MODEL_c59635a0ab96466a98d26f9e2e7fb531",
       "max": 12,
       "style": "IPY_MODEL_a8981410345640fea16927f574c02c28",
       "value": 12
      }
     },
     "e18c426915bb4e0093d6f9be4cb97a94": {
      "model_module": "@jupyter-widgets/controls",
      "model_module_version": "1.5.0",
      "model_name": "ProgressStyleModel",
      "state": {
       "description_width": ""
      }
     },
     "e2347643f43f4ff08ab78db2c20fa90f": {
      "model_module": "@jupyter-widgets/controls",
      "model_module_version": "1.5.0",
      "model_name": "DescriptionStyleModel",
      "state": {
       "description_width": ""
      }
     },
     "e283838e379b4087b2715017cfa04a2a": {
      "model_module": "@jupyter-widgets/controls",
      "model_module_version": "1.5.0",
      "model_name": "FloatProgressModel",
      "state": {
       "bar_style": "success",
       "layout": "IPY_MODEL_8146dd4ec66b4598a632dddd22179b15",
       "max": 12,
       "style": "IPY_MODEL_a1485c8097194b93a8de40c74d4bbda8",
       "value": 12
      }
     },
     "e28e677fabe140cc836e6ca3ca68d571": {
      "model_module": "@jupyter-widgets/base",
      "model_module_version": "1.2.0",
      "model_name": "LayoutModel",
      "state": {}
     },
     "e29e964d37ee4557b362c07736608e59": {
      "model_module": "@jupyter-widgets/controls",
      "model_module_version": "1.5.0",
      "model_name": "DescriptionStyleModel",
      "state": {
       "description_width": ""
      }
     },
     "e2f546d092404336967b10efdc3427cf": {
      "model_module": "@jupyter-widgets/controls",
      "model_module_version": "1.5.0",
      "model_name": "DescriptionStyleModel",
      "state": {
       "description_width": ""
      }
     },
     "e359ec938c104329a4f3f6700ceb1d60": {
      "model_module": "@jupyter-widgets/controls",
      "model_module_version": "1.5.0",
      "model_name": "HTMLModel",
      "state": {
       "layout": "IPY_MODEL_d4093e4af0c049f3bfdc01d81ff47397",
       "style": "IPY_MODEL_e2f546d092404336967b10efdc3427cf",
       "value": " 12/12 [00:06&lt;00:00,  1.97it/s]"
      }
     },
     "e37259127f1e4d22beba9fd2f17889e1": {
      "model_module": "@jupyter-widgets/controls",
      "model_module_version": "1.5.0",
      "model_name": "HTMLModel",
      "state": {
       "layout": "IPY_MODEL_d2fe4bf0dadd4494a498a45d73480340",
       "style": "IPY_MODEL_4126bd079c284c33b59b4fbefbf4c58e",
       "value": "100%"
      }
     },
     "e3b05f63534a419597f9cf0eff4deae8": {
      "model_module": "@jupyter-widgets/controls",
      "model_module_version": "1.5.0",
      "model_name": "HTMLModel",
      "state": {
       "layout": "IPY_MODEL_ca9d96e75248422aa50acd92234cb7e7",
       "style": "IPY_MODEL_dea9c8d7259f4e7fb89b04aa40ca2b24",
       "value": "100%"
      }
     },
     "e3cac66f32de43e9a0f63c221cd788b7": {
      "model_module": "@jupyter-widgets/controls",
      "model_module_version": "1.5.0",
      "model_name": "HTMLModel",
      "state": {
       "layout": "IPY_MODEL_45cd45efa6224fcaa60178bcc5e4fe1e",
       "style": "IPY_MODEL_3b841de55ce5468b82b8fb893defadd9",
       "value": " 8/? [00:12&lt;00:00,  1.55s/it]"
      }
     },
     "e3ec2c2c8a1c4f78a9023544dbbd55a3": {
      "model_module": "@jupyter-widgets/base",
      "model_module_version": "1.2.0",
      "model_name": "LayoutModel",
      "state": {}
     },
     "e404af6575414266bb4571696f4c32e4": {
      "model_module": "@jupyter-widgets/controls",
      "model_module_version": "1.5.0",
      "model_name": "DescriptionStyleModel",
      "state": {
       "description_width": ""
      }
     },
     "e4057c2242094c979da61bf2f84e59ff": {
      "model_module": "@jupyter-widgets/base",
      "model_module_version": "1.2.0",
      "model_name": "LayoutModel",
      "state": {}
     },
     "e4270b7b10314652b30398ab9d6bc28d": {
      "model_module": "@jupyter-widgets/base",
      "model_module_version": "1.2.0",
      "model_name": "LayoutModel",
      "state": {}
     },
     "e499d283f2984797b797798972e7468b": {
      "model_module": "@jupyter-widgets/base",
      "model_module_version": "1.2.0",
      "model_name": "LayoutModel",
      "state": {}
     },
     "e49a0bdcfd024a14b5ec203a23218dfd": {
      "model_module": "@jupyter-widgets/controls",
      "model_module_version": "1.5.0",
      "model_name": "ProgressStyleModel",
      "state": {
       "description_width": ""
      }
     },
     "e4c19769bf754e3a8a9d887ae6ac4c95": {
      "model_module": "@jupyter-widgets/controls",
      "model_module_version": "1.5.0",
      "model_name": "ProgressStyleModel",
      "state": {
       "description_width": ""
      }
     },
     "e4ca7f06e6c3411c8be79934cf1bc60b": {
      "model_module": "@jupyter-widgets/base",
      "model_module_version": "1.2.0",
      "model_name": "LayoutModel",
      "state": {}
     },
     "e4df35b475fb43daaaedb1afccb7fa9a": {
      "model_module": "@jupyter-widgets/base",
      "model_module_version": "1.2.0",
      "model_name": "LayoutModel",
      "state": {}
     },
     "e51b938a79ed4b6f86a1f764d48cb006": {
      "model_module": "@jupyter-widgets/controls",
      "model_module_version": "1.5.0",
      "model_name": "ProgressStyleModel",
      "state": {
       "description_width": ""
      }
     },
     "e5822a0e472846398b6ca8b6bfdcc318": {
      "model_module": "@jupyter-widgets/base",
      "model_module_version": "1.2.0",
      "model_name": "LayoutModel",
      "state": {}
     },
     "e58f2de28779476caa5c8f85347851d7": {
      "model_module": "@jupyter-widgets/base",
      "model_module_version": "1.2.0",
      "model_name": "LayoutModel",
      "state": {}
     },
     "e5c0c8006170428c88128d30cc50ec95": {
      "model_module": "@jupyter-widgets/base",
      "model_module_version": "1.2.0",
      "model_name": "LayoutModel",
      "state": {}
     },
     "e5d33e6df6ae4011a9214e0a0f80e297": {
      "model_module": "@jupyter-widgets/controls",
      "model_module_version": "1.5.0",
      "model_name": "ButtonStyleModel",
      "state": {}
     },
     "e6675bebc8d34c2a82721a55adf9d79b": {
      "model_module": "@jupyter-widgets/controls",
      "model_module_version": "1.5.0",
      "model_name": "HTMLModel",
      "state": {
       "layout": "IPY_MODEL_362cd9a58a224fc295bfb2f2a155f3b3",
       "style": "IPY_MODEL_88383f0e64c84fd7aa021858bbb706eb",
       "value": "Plotting lat_force_1: "
      }
     },
     "e6a0894ee44140f49abcf17bc9130a88": {
      "model_module": "@jupyter-widgets/controls",
      "model_module_version": "1.5.0",
      "model_name": "HBoxModel",
      "state": {
       "children": [
        "IPY_MODEL_0d4e4f37102f408ba9ea09200f219ca1",
        "IPY_MODEL_38b5955b1ded4797b3ca4b03bc12eb6b",
        "IPY_MODEL_5984c1d25bae42f8919e9e711f4d1e2a"
       ],
       "layout": "IPY_MODEL_b411a0814c1041b69ede2d738e4b737f"
      }
     },
     "e6fc2af78bac4a46b79b60d8971177bf": {
      "model_module": "@jupyter-widgets/base",
      "model_module_version": "1.2.0",
      "model_name": "LayoutModel",
      "state": {}
     },
     "e70e06f4bb35480f96bd274e5b232b78": {
      "model_module": "@jupyter-widgets/controls",
      "model_module_version": "1.5.0",
      "model_name": "ProgressStyleModel",
      "state": {
       "description_width": ""
      }
     },
     "e79236eed53f4713bf0a4d9c483de464": {
      "model_module": "@jupyter-widgets/base",
      "model_module_version": "1.2.0",
      "model_name": "LayoutModel",
      "state": {}
     },
     "e7e2db65fff942b7b4848f5205c1a340": {
      "model_module": "@jupyter-widgets/base",
      "model_module_version": "1.2.0",
      "model_name": "LayoutModel",
      "state": {}
     },
     "e7f0ebffc17b42a798dda23b6771cc2c": {
      "model_module": "@jupyter-widgets/controls",
      "model_module_version": "1.5.0",
      "model_name": "HBoxModel",
      "state": {
       "children": [
        "IPY_MODEL_172af4b3af20421aa4f0e73597f779d1",
        "IPY_MODEL_e283838e379b4087b2715017cfa04a2a",
        "IPY_MODEL_d6c51fc95c624634829f52085f47827b"
       ],
       "layout": "IPY_MODEL_315db9aff59746de9edd35d0db65d2ea"
      }
     },
     "e85fb92252414e4fb3f290186b0c8a9f": {
      "model_module": "@jupyter-widgets/controls",
      "model_module_version": "1.5.0",
      "model_name": "HTMLModel",
      "state": {
       "layout": "IPY_MODEL_173e9a84c87647bfbdd2a7c8acc6fe12",
       "style": "IPY_MODEL_f2791e5ab8da455f817f2eaa11869b00",
       "value": "100%"
      }
     },
     "e914b0cae3524c2690508243b7261186": {
      "model_module": "@jupyter-widgets/base",
      "model_module_version": "1.2.0",
      "model_name": "LayoutModel",
      "state": {}
     },
     "e9640c8407124231aa0efad0deda4272": {
      "model_module": "@jupyter-widgets/controls",
      "model_module_version": "1.5.0",
      "model_name": "HTMLModel",
      "state": {
       "layout": "IPY_MODEL_de0fe6fd4bdd445fb23707ace662d412",
       "style": "IPY_MODEL_e29e964d37ee4557b362c07736608e59",
       "value": " 12/12 [00:01&lt;00:00,  7.13it/s]"
      }
     },
     "e977e6b8658246708eda3922fd4a126c": {
      "model_module": "@jupyter-widgets/controls",
      "model_module_version": "1.5.0",
      "model_name": "FloatProgressModel",
      "state": {
       "bar_style": "success",
       "layout": "IPY_MODEL_c6ef798c68bd447c8368d351c1b22be8",
       "max": 12,
       "style": "IPY_MODEL_7b2d2d14c6f042d8a98db8e32bd56a2b",
       "value": 12
      }
     },
     "e9bd587a597d4317a7c664cdbbfca78e": {
      "model_module": "@jupyter-widgets/controls",
      "model_module_version": "1.5.0",
      "model_name": "HTMLModel",
      "state": {
       "layout": "IPY_MODEL_596c047ea4c347f89287ffb067c8e00b",
       "style": "IPY_MODEL_7fdda65eeaef42b99fabc42256b7d06f",
       "value": "100%"
      }
     },
     "e9c84e5e5c5741288e5a2df861c4068d": {
      "model_module": "@jupyter-widgets/controls",
      "model_module_version": "1.5.0",
      "model_name": "DescriptionStyleModel",
      "state": {
       "description_width": ""
      }
     },
     "e9faeed263234745b30dac60e97bc35d": {
      "model_module": "@jupyter-widgets/base",
      "model_module_version": "1.2.0",
      "model_name": "LayoutModel",
      "state": {}
     },
     "ea118474c6114e0ca67900c8835eebd7": {
      "model_module": "@jupyter-widgets/base",
      "model_module_version": "1.2.0",
      "model_name": "LayoutModel",
      "state": {}
     },
     "ea5fb43f154c44019ab173931b857b40": {
      "model_module": "@jupyter-widgets/controls",
      "model_module_version": "1.5.0",
      "model_name": "HTMLModel",
      "state": {
       "layout": "IPY_MODEL_2e554baaffa948dfb3c17ae2701c53e9",
       "style": "IPY_MODEL_9d739a3a001148cb934b4568f67252ba",
       "value": " 12/12 [00:05&lt;00:00,  2.13it/s]"
      }
     },
     "eb34e04b9bcc4d90af3861745cfcfecc": {
      "model_module": "@jupyter-widgets/controls",
      "model_module_version": "1.5.0",
      "model_name": "DescriptionStyleModel",
      "state": {
       "description_width": ""
      }
     },
     "eb6ddb79bb524fbfb78a363c2a566eec": {
      "model_module": "@jupyter-widgets/base",
      "model_module_version": "1.2.0",
      "model_name": "LayoutModel",
      "state": {}
     },
     "eb99ac8565ed41d4bbfedc80b9761cdf": {
      "model_module": "@jupyter-widgets/base",
      "model_module_version": "1.2.0",
      "model_name": "LayoutModel",
      "state": {}
     },
     "ebbc84213bea4b04a35c29f65b2d2bd3": {
      "model_module": "@jupyter-widgets/controls",
      "model_module_version": "1.5.0",
      "model_name": "FloatProgressModel",
      "state": {
       "bar_style": "success",
       "layout": "IPY_MODEL_1d80c3979c9d4adabefc0c16d767df1a",
       "max": 12,
       "style": "IPY_MODEL_e4c19769bf754e3a8a9d887ae6ac4c95",
       "value": 12
      }
     },
     "ec119e395d5546579921e5c8447d0e2a": {
      "model_module": "@jupyter-widgets/controls",
      "model_module_version": "1.5.0",
      "model_name": "ProgressStyleModel",
      "state": {
       "description_width": ""
      }
     },
     "ec297fded3f34ebeaced221956a6225a": {
      "model_module": "@jupyter-widgets/controls",
      "model_module_version": "1.5.0",
      "model_name": "DescriptionStyleModel",
      "state": {
       "description_width": ""
      }
     },
     "ec58ef73702c4749952ba551bbb584be": {
      "model_module": "@jupyter-widgets/base",
      "model_module_version": "1.2.0",
      "model_name": "LayoutModel",
      "state": {}
     },
     "ed35f038a0ee48859013bd408cd5e6d1": {
      "model_module": "@jupyter-widgets/base",
      "model_module_version": "1.2.0",
      "model_name": "LayoutModel",
      "state": {}
     },
     "ed59fa15b92a4ba79fa77647e0d7e0ec": {
      "model_module": "@jupyter-widgets/base",
      "model_module_version": "1.2.0",
      "model_name": "LayoutModel",
      "state": {}
     },
     "ed787e3a053143dbba8163baee19850d": {
      "model_module": "@jupyter-widgets/controls",
      "model_module_version": "1.5.0",
      "model_name": "DescriptionStyleModel",
      "state": {
       "description_width": ""
      }
     },
     "ee57c0e31aa847d2815164107dc6c0ff": {
      "model_module": "@jupyter-widgets/controls",
      "model_module_version": "1.5.0",
      "model_name": "DescriptionStyleModel",
      "state": {
       "description_width": ""
      }
     },
     "ef10f88688504041bcf652f6a6976531": {
      "model_module": "@jupyter-widgets/controls",
      "model_module_version": "1.5.0",
      "model_name": "ProgressStyleModel",
      "state": {
       "description_width": ""
      }
     },
     "ef197ddc74514e25a2c880ec044c2274": {
      "model_module": "@jupyter-widgets/base",
      "model_module_version": "1.2.0",
      "model_name": "LayoutModel",
      "state": {}
     },
     "efa9c52c54ab4e2a9efd2b79c73b5d1d": {
      "model_module": "@jupyter-widgets/controls",
      "model_module_version": "1.5.0",
      "model_name": "HTMLModel",
      "state": {
       "layout": "IPY_MODEL_7ae2af16e4394136b59047e331a961e3",
       "style": "IPY_MODEL_beb74da610de450bb644ff2e32b82497",
       "value": "100%"
      }
     },
     "efaf4accece34cb984280fe913aa4929": {
      "model_module": "@jupyter-widgets/base",
      "model_module_version": "1.2.0",
      "model_name": "LayoutModel",
      "state": {}
     },
     "f04d0366d6e84924a0af63b24ea8eb86": {
      "model_module": "@jupyter-widgets/base",
      "model_module_version": "1.2.0",
      "model_name": "LayoutModel",
      "state": {}
     },
     "f0635174d960449f862ad93fd18b42bd": {
      "model_module": "@jupyter-widgets/base",
      "model_module_version": "1.2.0",
      "model_name": "LayoutModel",
      "state": {}
     },
     "f0c87cd48aea4e6f8a5848a136c69bc3": {
      "model_module": "@jupyter-widgets/controls",
      "model_module_version": "1.5.0",
      "model_name": "DescriptionStyleModel",
      "state": {
       "description_width": ""
      }
     },
     "f109b47add1a4649922eba4fc8f09be4": {
      "model_module": "@jupyter-widgets/controls",
      "model_module_version": "1.5.0",
      "model_name": "DescriptionStyleModel",
      "state": {
       "description_width": ""
      }
     },
     "f119d6e27e564ffc891edeaf6fecdd3d": {
      "model_module": "@jupyter-widgets/controls",
      "model_module_version": "1.5.0",
      "model_name": "HTMLModel",
      "state": {
       "layout": "IPY_MODEL_0fc57fd727744e3a957e32703906dfb2",
       "style": "IPY_MODEL_f6cf9ad0675440868b6682cba48ee850",
       "value": "100%"
      }
     },
     "f1ce26da039b4ac1b85ef7fc6fc480e2": {
      "model_module": "@jupyter-widgets/base",
      "model_module_version": "1.2.0",
      "model_name": "LayoutModel",
      "state": {}
     },
     "f2791e5ab8da455f817f2eaa11869b00": {
      "model_module": "@jupyter-widgets/controls",
      "model_module_version": "1.5.0",
      "model_name": "DescriptionStyleModel",
      "state": {
       "description_width": ""
      }
     },
     "f3720d5257c7431f8d5b6b74f2c54d1a": {
      "model_module": "@jupyter-widgets/controls",
      "model_module_version": "1.5.0",
      "model_name": "HTMLModel",
      "state": {
       "layout": "IPY_MODEL_f8cf74d0731841af840146c722c9c539",
       "style": "IPY_MODEL_8e884984b07f4eba8dbfa48076971db7",
       "value": " 12/12 [00:02&lt;00:00,  4.06it/s]"
      }
     },
     "f372701f42694e21a2a4635b2f2ebad4": {
      "model_module": "@jupyter-widgets/controls",
      "model_module_version": "1.5.0",
      "model_name": "DescriptionStyleModel",
      "state": {
       "description_width": ""
      }
     },
     "f38009b0a0da4c5c88456e2fd104fd43": {
      "model_module": "@jupyter-widgets/base",
      "model_module_version": "1.2.0",
      "model_name": "LayoutModel",
      "state": {}
     },
     "f3cac5d4fe58456ebeb3c71843516efe": {
      "model_module": "@jupyter-widgets/base",
      "model_module_version": "1.2.0",
      "model_name": "LayoutModel",
      "state": {}
     },
     "f3f363fc136f49b3b77a4cc8f0f2c7cd": {
      "model_module": "@jupyter-widgets/base",
      "model_module_version": "1.2.0",
      "model_name": "LayoutModel",
      "state": {}
     },
     "f401dd97e282443cb13924d5a58359c9": {
      "model_module": "@jupyter-widgets/base",
      "model_module_version": "1.2.0",
      "model_name": "LayoutModel",
      "state": {}
     },
     "f42825f1c0ea45e9840ad0119567af0e": {
      "model_module": "@jupyter-widgets/controls",
      "model_module_version": "1.5.0",
      "model_name": "HTMLModel",
      "state": {
       "layout": "IPY_MODEL_f3cac5d4fe58456ebeb3c71843516efe",
       "style": "IPY_MODEL_058b9e68a4954f0ab78801b343baf699",
       "value": "Plotting lat_force_2: "
      }
     },
     "f4e66f19f79c4e2ebeab15a07e3532e4": {
      "model_module": "@jupyter-widgets/base",
      "model_module_version": "1.2.0",
      "model_name": "LayoutModel",
      "state": {}
     },
     "f5e4a92ac80840aa83589a6a014fc5cc": {
      "model_module": "@jupyter-widgets/base",
      "model_module_version": "1.2.0",
      "model_name": "LayoutModel",
      "state": {}
     },
     "f69754c39f8948b08f47cd44998a6a16": {
      "model_module": "@jupyter-widgets/controls",
      "model_module_version": "1.5.0",
      "model_name": "HTMLModel",
      "state": {
       "layout": "IPY_MODEL_e79236eed53f4713bf0a4d9c483de464",
       "style": "IPY_MODEL_05dd38b0ddb947feb48a28ad731ed10f",
       "value": "100%"
      }
     },
     "f6cf9ad0675440868b6682cba48ee850": {
      "model_module": "@jupyter-widgets/controls",
      "model_module_version": "1.5.0",
      "model_name": "DescriptionStyleModel",
      "state": {
       "description_width": ""
      }
     },
     "f716abd7257c41c1a15924c1052869ca": {
      "model_module": "@jupyter-widgets/base",
      "model_module_version": "1.2.0",
      "model_name": "LayoutModel",
      "state": {}
     },
     "f739ffaa2ea74bccb4e4f7039d4a87e7": {
      "model_module": "@jupyter-widgets/base",
      "model_module_version": "1.2.0",
      "model_name": "LayoutModel",
      "state": {}
     },
     "f7421f29cf634d508a93525d59d21585": {
      "model_module": "@jupyter-widgets/controls",
      "model_module_version": "1.5.0",
      "model_name": "ProgressStyleModel",
      "state": {
       "description_width": ""
      }
     },
     "f7432a27e3aa43e0a264da842f250608": {
      "model_module": "@jupyter-widgets/controls",
      "model_module_version": "1.5.0",
      "model_name": "FloatProgressModel",
      "state": {
       "bar_style": "success",
       "layout": "IPY_MODEL_5408b3ca2999476ab1785e2ce4d23eba",
       "max": 12,
       "style": "IPY_MODEL_3552b109edab4b799b68f6ebbfb4a69f",
       "value": 12
      }
     },
     "f76b663d57614f29b1434d1c71525927": {
      "model_module": "@jupyter-widgets/controls",
      "model_module_version": "1.5.0",
      "model_name": "HTMLModel",
      "state": {
       "layout": "IPY_MODEL_855bd7659a8f456fae8f5a5212e00c22",
       "style": "IPY_MODEL_07f98036fcc1465f9ee44feeec20ed8a",
       "value": " 12/12 [00:03&lt;00:00,  3.20it/s]"
      }
     },
     "f813db2785d14d488a38b6d007fda895": {
      "model_module": "@jupyter-widgets/base",
      "model_module_version": "1.2.0",
      "model_name": "LayoutModel",
      "state": {}
     },
     "f82109fee1774d0d8ef4abf1df34459d": {
      "model_module": "@jupyter-widgets/controls",
      "model_module_version": "1.5.0",
      "model_name": "DescriptionStyleModel",
      "state": {
       "description_width": ""
      }
     },
     "f8b5cda77973427f8e308083ef5d5fd1": {
      "model_module": "@jupyter-widgets/base",
      "model_module_version": "1.2.0",
      "model_name": "LayoutModel",
      "state": {}
     },
     "f8cd1baec2364105be01e3628dbdd0fb": {
      "model_module": "@jupyter-widgets/base",
      "model_module_version": "1.2.0",
      "model_name": "LayoutModel",
      "state": {}
     },
     "f8cf74d0731841af840146c722c9c539": {
      "model_module": "@jupyter-widgets/base",
      "model_module_version": "1.2.0",
      "model_name": "LayoutModel",
      "state": {}
     },
     "f8d724b334c14163b842e9740632f20f": {
      "model_module": "@jupyter-widgets/controls",
      "model_module_version": "1.5.0",
      "model_name": "HTMLModel",
      "state": {
       "layout": "IPY_MODEL_d3bab4b845ae4c59a13aab3f37917713",
       "style": "IPY_MODEL_3930dba2a58147a394e1e0191833bf1b",
       "value": "100%"
      }
     },
     "f8fb59a64ad24caf9ae50463c33f9865": {
      "model_module": "@jupyter-widgets/base",
      "model_module_version": "1.2.0",
      "model_name": "LayoutModel",
      "state": {}
     },
     "fa45c0af496f477e962b204c10d5930a": {
      "model_module": "@jupyter-widgets/controls",
      "model_module_version": "1.5.0",
      "model_name": "HBoxModel",
      "state": {
       "children": [
        "IPY_MODEL_3e5bcae8b4c44e329eb88400fa3388d1",
        "IPY_MODEL_2b7b4f01197a4879bc22096d0ad03496",
        "IPY_MODEL_8f681153059c48f09785fb0d67de0632"
       ],
       "layout": "IPY_MODEL_b9ec6c29035246ee84460d9e156fa3b3"
      }
     },
     "fa4bc6e0d7cf4bcb9ba30454cbb6a0bb": {
      "model_module": "@jupyter-widgets/controls",
      "model_module_version": "1.5.0",
      "model_name": "DescriptionStyleModel",
      "state": {
       "description_width": ""
      }
     },
     "fa8ce5fd519b40569064048051c6de61": {
      "model_module": "@jupyter-widgets/controls",
      "model_module_version": "1.5.0",
      "model_name": "ProgressStyleModel",
      "state": {
       "description_width": ""
      }
     },
     "facadb19f05a4438b5872c7e57e7d45e": {
      "model_module": "@jupyter-widgets/base",
      "model_module_version": "1.2.0",
      "model_name": "LayoutModel",
      "state": {}
     },
     "fb54c50e821c447897e12742e964eae9": {
      "model_module": "@jupyter-widgets/base",
      "model_module_version": "1.2.0",
      "model_name": "LayoutModel",
      "state": {}
     },
     "fb6acbda183948bc902b3a320d8671d3": {
      "model_module": "@jupyter-widgets/controls",
      "model_module_version": "1.5.0",
      "model_name": "ProgressStyleModel",
      "state": {
       "description_width": ""
      }
     },
     "fb86622fc05f410597b8fe62ee7bc193": {
      "model_module": "@jupyter-widgets/base",
      "model_module_version": "1.2.0",
      "model_name": "LayoutModel",
      "state": {}
     },
     "fc7cce21293d41c6b70c52f96016ddff": {
      "model_module": "@jupyter-widgets/controls",
      "model_module_version": "1.5.0",
      "model_name": "DescriptionStyleModel",
      "state": {
       "description_width": ""
      }
     },
     "fc87110146e6446b90670e40c7372811": {
      "model_module": "@jupyter-widgets/controls",
      "model_module_version": "1.5.0",
      "model_name": "ProgressStyleModel",
      "state": {
       "description_width": ""
      }
     },
     "fc9354eb3c814165aca418a40e74b8ec": {
      "model_module": "@jupyter-widgets/base",
      "model_module_version": "1.2.0",
      "model_name": "LayoutModel",
      "state": {}
     },
     "fd71843d06f04a7799299881d4996f78": {
      "model_module": "@jupyter-widgets/controls",
      "model_module_version": "1.5.0",
      "model_name": "HTMLModel",
      "state": {
       "layout": "IPY_MODEL_51da44adbb834063838d3e0fdacf91ee",
       "style": "IPY_MODEL_562c6f809b6a4bd2847c6a6d7a8bcba4",
       "value": "100%"
      }
     },
     "fd9934f590e24bfd89d71eda12a9ff0b": {
      "model_module": "@jupyter-widgets/controls",
      "model_module_version": "1.5.0",
      "model_name": "ProgressStyleModel",
      "state": {
       "description_width": ""
      }
     },
     "fdadabb4bc884fc1b991fc05095fb1b9": {
      "model_module": "@jupyter-widgets/controls",
      "model_module_version": "1.5.0",
      "model_name": "HBoxModel",
      "state": {
       "children": [
        "IPY_MODEL_463bfd0fa6294fd684731265b9c205c7",
        "IPY_MODEL_0619b20dbd0d46458551e312fac16274",
        "IPY_MODEL_6ccc5518770b4cbab0cd1313c228b421"
       ],
       "layout": "IPY_MODEL_4b3f9734a63245a0a5bab57d3d8d2c7f"
      }
     },
     "fde263929a874065b56bc7e098ad1773": {
      "model_module": "@jupyter-widgets/controls",
      "model_module_version": "1.5.0",
      "model_name": "HTMLModel",
      "state": {
       "layout": "IPY_MODEL_12f50e123f954d6a907c97c83cea2c69",
       "style": "IPY_MODEL_30ab1fcceab44f99b5cffe88dc835899",
       "value": " 12/12 [00:05&lt;00:00,  2.09it/s]"
      }
     },
     "fe5157b595ee4a2f9e76f3e058c217c0": {
      "model_module": "@jupyter-widgets/controls",
      "model_module_version": "1.5.0",
      "model_name": "HTMLModel",
      "state": {
       "layout": "IPY_MODEL_660b4efe0a894ac39fd53f1ed4f33ffb",
       "style": "IPY_MODEL_4c858d2ca1b34822b11653c2f6858bc4",
       "value": " 12/12 [00:02&lt;00:00,  4.31it/s]"
      }
     },
     "fee0020d7f334ef68cf2960b9403c767": {
      "model_module": "@jupyter-widgets/controls",
      "model_module_version": "1.5.0",
      "model_name": "DescriptionStyleModel",
      "state": {
       "description_width": ""
      }
     },
     "ff21f6d7fdf449b58d80af969d152366": {
      "model_module": "@jupyter-widgets/controls",
      "model_module_version": "1.5.0",
      "model_name": "ProgressStyleModel",
      "state": {
       "description_width": ""
      }
     },
     "ff321559f497400fa4dfa5666d9f7b3c": {
      "model_module": "@jupyter-widgets/controls",
      "model_module_version": "1.5.0",
      "model_name": "FloatProgressModel",
      "state": {
       "bar_style": "success",
       "layout": "IPY_MODEL_0273a4c008fd47e78dd4adcae5a50782",
       "max": 12,
       "style": "IPY_MODEL_ec119e395d5546579921e5c8447d0e2a",
       "value": 12
      }
     },
     "ff8281595a904fc9b251ab5377f8720f": {
      "model_module": "@jupyter-widgets/base",
      "model_module_version": "1.2.0",
      "model_name": "LayoutModel",
      "state": {}
     },
     "ffcfa27b97f8434cb628a49e4cd8f827": {
      "model_module": "@jupyter-widgets/controls",
      "model_module_version": "1.5.0",
      "model_name": "DescriptionStyleModel",
      "state": {
       "description_width": ""
      }
     }
    },
    "version_major": 2,
    "version_minor": 0
   }
  }
 },
 "nbformat": 4,
 "nbformat_minor": 4
}
